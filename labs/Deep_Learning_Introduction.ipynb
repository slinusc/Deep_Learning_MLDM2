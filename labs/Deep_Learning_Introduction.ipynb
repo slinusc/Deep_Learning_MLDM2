{
 "cells": [
  {
   "cell_type": "code",
   "outputs": [],
   "source": [
    "# Import standard libraries\n",
    "import pandas as pd\n",
    "import numpy as np\n",
    "import seaborn as sns\n",
    "import matplotlib.pylab as plt\n",
    "%matplotlib inline\n",
    "from IPython.display import YouTubeVideo\n",
    "\n",
    "# ML import\n",
    "from sklearn.model_selection import train_test_split # Splitting the data set\n",
    "from sklearn.preprocessing import MinMaxScaler       # Normalization\n",
    "from sklearn.preprocessing import LabelEncoder       # Encoder\n",
    "import torch                                   # PyTorch\n",
    "import torch.nn as nn                          # PyTorch building blocks\n",
    "from IPython.display import YouTubeVideo"
   ],
   "metadata": {
    "collapsed": false,
    "ExecuteTime": {
     "end_time": "2024-03-07T14:28:45.936972Z",
     "start_time": "2024-03-07T14:28:45.931941Z"
    }
   },
   "id": "5f82135620898b56",
   "execution_count": 61
  },
  {
   "cell_type": "markdown",
   "source": [
    "# Neural Nets Examples"
   ],
   "metadata": {
    "collapsed": false
   },
   "id": "b6ac651518be031a"
  },
  {
   "cell_type": "markdown",
   "source": [
    "### Application: Predicting house prices\n",
    "\n",
    "In this application, we will implement a Shallow Neural Network model with PyTorch to predict house prices using the [Ames Housing dataset](https://www.kaggle.com/c/house-prices-advanced-regression-techniques)."
   ],
   "metadata": {
    "collapsed": false
   },
   "id": "b0cbbb48424f4ea2"
  },
  {
   "cell_type": "markdown",
   "source": [
    "#### Data"
   ],
   "metadata": {
    "collapsed": false
   },
   "id": "9eba2e35f5274d3e"
  },
  {
   "cell_type": "code",
   "outputs": [
    {
     "data": {
      "text/plain": "   Id  MSSubClass MSZoning  LotFrontage  LotArea Street Alley LotShape  \\\n0   1          60       RL         65.0     8450   Pave   NaN      Reg   \n1   2          20       RL         80.0     9600   Pave   NaN      Reg   \n2   3          60       RL         68.0    11250   Pave   NaN      IR1   \n3   4          70       RL         60.0     9550   Pave   NaN      IR1   \n4   5          60       RL         84.0    14260   Pave   NaN      IR1   \n\n  LandContour Utilities  ... PoolArea PoolQC Fence MiscFeature MiscVal MoSold  \\\n0         Lvl    AllPub  ...        0    NaN   NaN         NaN       0      2   \n1         Lvl    AllPub  ...        0    NaN   NaN         NaN       0      5   \n2         Lvl    AllPub  ...        0    NaN   NaN         NaN       0      9   \n3         Lvl    AllPub  ...        0    NaN   NaN         NaN       0      2   \n4         Lvl    AllPub  ...        0    NaN   NaN         NaN       0     12   \n\n  YrSold  SaleType  SaleCondition  SalePrice  \n0   2008        WD         Normal     208500  \n1   2007        WD         Normal     181500  \n2   2008        WD         Normal     223500  \n3   2006        WD        Abnorml     140000  \n4   2008        WD         Normal     250000  \n\n[5 rows x 81 columns]",
      "text/html": "<div>\n<style scoped>\n    .dataframe tbody tr th:only-of-type {\n        vertical-align: middle;\n    }\n\n    .dataframe tbody tr th {\n        vertical-align: top;\n    }\n\n    .dataframe thead th {\n        text-align: right;\n    }\n</style>\n<table border=\"1\" class=\"dataframe\">\n  <thead>\n    <tr style=\"text-align: right;\">\n      <th></th>\n      <th>Id</th>\n      <th>MSSubClass</th>\n      <th>MSZoning</th>\n      <th>LotFrontage</th>\n      <th>LotArea</th>\n      <th>Street</th>\n      <th>Alley</th>\n      <th>LotShape</th>\n      <th>LandContour</th>\n      <th>Utilities</th>\n      <th>...</th>\n      <th>PoolArea</th>\n      <th>PoolQC</th>\n      <th>Fence</th>\n      <th>MiscFeature</th>\n      <th>MiscVal</th>\n      <th>MoSold</th>\n      <th>YrSold</th>\n      <th>SaleType</th>\n      <th>SaleCondition</th>\n      <th>SalePrice</th>\n    </tr>\n  </thead>\n  <tbody>\n    <tr>\n      <th>0</th>\n      <td>1</td>\n      <td>60</td>\n      <td>RL</td>\n      <td>65.0</td>\n      <td>8450</td>\n      <td>Pave</td>\n      <td>NaN</td>\n      <td>Reg</td>\n      <td>Lvl</td>\n      <td>AllPub</td>\n      <td>...</td>\n      <td>0</td>\n      <td>NaN</td>\n      <td>NaN</td>\n      <td>NaN</td>\n      <td>0</td>\n      <td>2</td>\n      <td>2008</td>\n      <td>WD</td>\n      <td>Normal</td>\n      <td>208500</td>\n    </tr>\n    <tr>\n      <th>1</th>\n      <td>2</td>\n      <td>20</td>\n      <td>RL</td>\n      <td>80.0</td>\n      <td>9600</td>\n      <td>Pave</td>\n      <td>NaN</td>\n      <td>Reg</td>\n      <td>Lvl</td>\n      <td>AllPub</td>\n      <td>...</td>\n      <td>0</td>\n      <td>NaN</td>\n      <td>NaN</td>\n      <td>NaN</td>\n      <td>0</td>\n      <td>5</td>\n      <td>2007</td>\n      <td>WD</td>\n      <td>Normal</td>\n      <td>181500</td>\n    </tr>\n    <tr>\n      <th>2</th>\n      <td>3</td>\n      <td>60</td>\n      <td>RL</td>\n      <td>68.0</td>\n      <td>11250</td>\n      <td>Pave</td>\n      <td>NaN</td>\n      <td>IR1</td>\n      <td>Lvl</td>\n      <td>AllPub</td>\n      <td>...</td>\n      <td>0</td>\n      <td>NaN</td>\n      <td>NaN</td>\n      <td>NaN</td>\n      <td>0</td>\n      <td>9</td>\n      <td>2008</td>\n      <td>WD</td>\n      <td>Normal</td>\n      <td>223500</td>\n    </tr>\n    <tr>\n      <th>3</th>\n      <td>4</td>\n      <td>70</td>\n      <td>RL</td>\n      <td>60.0</td>\n      <td>9550</td>\n      <td>Pave</td>\n      <td>NaN</td>\n      <td>IR1</td>\n      <td>Lvl</td>\n      <td>AllPub</td>\n      <td>...</td>\n      <td>0</td>\n      <td>NaN</td>\n      <td>NaN</td>\n      <td>NaN</td>\n      <td>0</td>\n      <td>2</td>\n      <td>2006</td>\n      <td>WD</td>\n      <td>Abnorml</td>\n      <td>140000</td>\n    </tr>\n    <tr>\n      <th>4</th>\n      <td>5</td>\n      <td>60</td>\n      <td>RL</td>\n      <td>84.0</td>\n      <td>14260</td>\n      <td>Pave</td>\n      <td>NaN</td>\n      <td>IR1</td>\n      <td>Lvl</td>\n      <td>AllPub</td>\n      <td>...</td>\n      <td>0</td>\n      <td>NaN</td>\n      <td>NaN</td>\n      <td>NaN</td>\n      <td>0</td>\n      <td>12</td>\n      <td>2008</td>\n      <td>WD</td>\n      <td>Normal</td>\n      <td>250000</td>\n    </tr>\n  </tbody>\n</table>\n<p>5 rows × 81 columns</p>\n</div>"
     },
     "execution_count": 62,
     "metadata": {},
     "output_type": "execute_result"
    }
   ],
   "source": [
    "# import data\n",
    "raw_data = pd.read_csv(\"https://raw.githubusercontent.com/JasminaZHAW/MLDM2/main/labs/data/house_price.csv\")\n",
    "raw_data.head()"
   ],
   "metadata": {
    "collapsed": false,
    "ExecuteTime": {
     "end_time": "2024-03-07T14:28:46.722934Z",
     "start_time": "2024-03-07T14:28:46.109823Z"
    }
   },
   "id": "61c35558741b0e0c",
   "execution_count": 62
  },
  {
   "cell_type": "code",
   "outputs": [
    {
     "data": {
      "text/plain": "(1460, 81)"
     },
     "execution_count": 63,
     "metadata": {},
     "output_type": "execute_result"
    }
   ],
   "source": [
    "raw_data.shape"
   ],
   "metadata": {
    "collapsed": false,
    "ExecuteTime": {
     "end_time": "2024-03-07T14:28:46.726404Z",
     "start_time": "2024-03-07T14:28:46.723938Z"
    }
   },
   "id": "1a86ef4804462a79",
   "execution_count": 63
  },
  {
   "cell_type": "markdown",
   "source": [
    "The dataset contains 81 columns. A description of the features is available in the file \"[house_price_data_description](https://github.com/michalis0/DataScience_and_MachineLearning/blob/master/Week_5/data/house_price_data_description.txt)\""
   ],
   "metadata": {
    "collapsed": false
   },
   "id": "220e49c8d14b345e"
  },
  {
   "cell_type": "markdown",
   "source": [
    "##### Preprocessing"
   ],
   "metadata": {
    "collapsed": false
   },
   "id": "76bb34e8b3694e60"
  },
  {
   "cell_type": "markdown",
   "source": [
    "Let's first extract the features of interest. We will use the numeric columns:"
   ],
   "metadata": {
    "collapsed": false
   },
   "id": "d6bc54fae5f22513"
  },
  {
   "cell_type": "code",
   "outputs": [
    {
     "data": {
      "text/plain": "Id                 int64\nMSSubClass         int64\nMSZoning          object\nLotFrontage      float64\nLotArea            int64\n                  ...   \nMoSold             int64\nYrSold             int64\nSaleType          object\nSaleCondition     object\nSalePrice          int64\nLength: 81, dtype: object"
     },
     "execution_count": 64,
     "metadata": {},
     "output_type": "execute_result"
    }
   ],
   "source": [
    "# Data types\n",
    "raw_data.dtypes"
   ],
   "metadata": {
    "collapsed": false,
    "ExecuteTime": {
     "end_time": "2024-03-07T14:28:46.738413Z",
     "start_time": "2024-03-07T14:28:46.726404Z"
    }
   },
   "id": "d063f32cf1f43146",
   "execution_count": 64
  },
  {
   "cell_type": "code",
   "outputs": [
    {
     "name": "stdout",
     "output_type": "stream",
     "text": [
      "['Id', 'MSSubClass', 'LotFrontage', 'LotArea', 'OverallQual', 'OverallCond', 'YearBuilt', 'YearRemodAdd', 'MasVnrArea', 'BsmtFinSF1', 'BsmtFinSF2', 'BsmtUnfSF', 'TotalBsmtSF', '1stFlrSF', '2ndFlrSF', 'LowQualFinSF', 'GrLivArea', 'BsmtFullBath', 'BsmtHalfBath', 'FullBath', 'HalfBath', 'BedroomAbvGr', 'KitchenAbvGr', 'TotRmsAbvGrd', 'Fireplaces', 'GarageYrBlt', 'GarageCars', 'GarageArea', 'WoodDeckSF', 'OpenPorchSF', 'EnclosedPorch', '3SsnPorch', 'ScreenPorch', 'PoolArea', 'MiscVal', 'MoSold', 'YrSold', 'SalePrice'] \n",
      " 38\n"
     ]
    }
   ],
   "source": [
    "# Display numeric features (integer and floats)\n",
    "numeric_columns = list(raw_data.columns[(raw_data.dtypes==np.int64) |\n",
    "                 (raw_data.dtypes==np.float64)])\n",
    "print(numeric_columns, \"\\n\", len(numeric_columns))"
   ],
   "metadata": {
    "collapsed": false,
    "ExecuteTime": {
     "end_time": "2024-03-07T14:28:46.746964Z",
     "start_time": "2024-03-07T14:28:46.738413Z"
    }
   },
   "id": "3aa518b9d231c259",
   "execution_count": 65
  },
  {
   "cell_type": "markdown",
   "source": [
    "`SalePrice` is the value we want to predict. We set it as the last column:"
   ],
   "metadata": {
    "collapsed": false
   },
   "id": "3578835ba236eb7"
  },
  {
   "cell_type": "code",
   "outputs": [],
   "source": [
    "# Output SalePrice as last column\n",
    "numeric_columns.remove('SalePrice')\n",
    "numeric_columns.append('SalePrice')"
   ],
   "metadata": {
    "collapsed": false,
    "ExecuteTime": {
     "end_time": "2024-03-07T14:28:46.755046Z",
     "start_time": "2024-03-07T14:28:46.747971Z"
    }
   },
   "id": "7b46bc3596dc53c6",
   "execution_count": 66
  },
  {
   "cell_type": "markdown",
   "source": [
    "We also remove the `Id` column:"
   ],
   "metadata": {
    "collapsed": false
   },
   "id": "6fa3b6943f531d8c"
  },
  {
   "cell_type": "code",
   "outputs": [],
   "source": [
    "# Remove Id\n",
    "numeric_columns.remove('Id')"
   ],
   "metadata": {
    "collapsed": false,
    "ExecuteTime": {
     "end_time": "2024-03-07T14:28:46.762971Z",
     "start_time": "2024-03-07T14:28:46.756050Z"
    }
   },
   "id": "da3ae6d4afa93b83",
   "execution_count": 67
  },
  {
   "cell_type": "markdown",
   "source": [
    "Now we extract the numeric data."
   ],
   "metadata": {
    "collapsed": false
   },
   "id": "9655c85b5996ab52"
  },
  {
   "cell_type": "code",
   "outputs": [
    {
     "data": {
      "text/plain": "   MSSubClass  LotFrontage  LotArea  OverallQual  OverallCond  YearBuilt  \\\n0          60         65.0     8450            7            5       2003   \n1          20         80.0     9600            6            8       1976   \n2          60         68.0    11250            7            5       2001   \n3          70         60.0     9550            7            5       1915   \n4          60         84.0    14260            8            5       2000   \n\n   YearRemodAdd  MasVnrArea  BsmtFinSF1  BsmtFinSF2  ...  WoodDeckSF  \\\n0          2003       196.0         706           0  ...           0   \n1          1976         0.0         978           0  ...         298   \n2          2002       162.0         486           0  ...           0   \n3          1970         0.0         216           0  ...           0   \n4          2000       350.0         655           0  ...         192   \n\n   OpenPorchSF  EnclosedPorch  3SsnPorch  ScreenPorch  PoolArea  MiscVal  \\\n0           61              0          0            0         0        0   \n1            0              0          0            0         0        0   \n2           42              0          0            0         0        0   \n3           35            272          0            0         0        0   \n4           84              0          0            0         0        0   \n\n   MoSold  YrSold  SalePrice  \n0       2    2008     208500  \n1       5    2007     181500  \n2       9    2008     223500  \n3       2    2006     140000  \n4      12    2008     250000  \n\n[5 rows x 37 columns]",
      "text/html": "<div>\n<style scoped>\n    .dataframe tbody tr th:only-of-type {\n        vertical-align: middle;\n    }\n\n    .dataframe tbody tr th {\n        vertical-align: top;\n    }\n\n    .dataframe thead th {\n        text-align: right;\n    }\n</style>\n<table border=\"1\" class=\"dataframe\">\n  <thead>\n    <tr style=\"text-align: right;\">\n      <th></th>\n      <th>MSSubClass</th>\n      <th>LotFrontage</th>\n      <th>LotArea</th>\n      <th>OverallQual</th>\n      <th>OverallCond</th>\n      <th>YearBuilt</th>\n      <th>YearRemodAdd</th>\n      <th>MasVnrArea</th>\n      <th>BsmtFinSF1</th>\n      <th>BsmtFinSF2</th>\n      <th>...</th>\n      <th>WoodDeckSF</th>\n      <th>OpenPorchSF</th>\n      <th>EnclosedPorch</th>\n      <th>3SsnPorch</th>\n      <th>ScreenPorch</th>\n      <th>PoolArea</th>\n      <th>MiscVal</th>\n      <th>MoSold</th>\n      <th>YrSold</th>\n      <th>SalePrice</th>\n    </tr>\n  </thead>\n  <tbody>\n    <tr>\n      <th>0</th>\n      <td>60</td>\n      <td>65.0</td>\n      <td>8450</td>\n      <td>7</td>\n      <td>5</td>\n      <td>2003</td>\n      <td>2003</td>\n      <td>196.0</td>\n      <td>706</td>\n      <td>0</td>\n      <td>...</td>\n      <td>0</td>\n      <td>61</td>\n      <td>0</td>\n      <td>0</td>\n      <td>0</td>\n      <td>0</td>\n      <td>0</td>\n      <td>2</td>\n      <td>2008</td>\n      <td>208500</td>\n    </tr>\n    <tr>\n      <th>1</th>\n      <td>20</td>\n      <td>80.0</td>\n      <td>9600</td>\n      <td>6</td>\n      <td>8</td>\n      <td>1976</td>\n      <td>1976</td>\n      <td>0.0</td>\n      <td>978</td>\n      <td>0</td>\n      <td>...</td>\n      <td>298</td>\n      <td>0</td>\n      <td>0</td>\n      <td>0</td>\n      <td>0</td>\n      <td>0</td>\n      <td>0</td>\n      <td>5</td>\n      <td>2007</td>\n      <td>181500</td>\n    </tr>\n    <tr>\n      <th>2</th>\n      <td>60</td>\n      <td>68.0</td>\n      <td>11250</td>\n      <td>7</td>\n      <td>5</td>\n      <td>2001</td>\n      <td>2002</td>\n      <td>162.0</td>\n      <td>486</td>\n      <td>0</td>\n      <td>...</td>\n      <td>0</td>\n      <td>42</td>\n      <td>0</td>\n      <td>0</td>\n      <td>0</td>\n      <td>0</td>\n      <td>0</td>\n      <td>9</td>\n      <td>2008</td>\n      <td>223500</td>\n    </tr>\n    <tr>\n      <th>3</th>\n      <td>70</td>\n      <td>60.0</td>\n      <td>9550</td>\n      <td>7</td>\n      <td>5</td>\n      <td>1915</td>\n      <td>1970</td>\n      <td>0.0</td>\n      <td>216</td>\n      <td>0</td>\n      <td>...</td>\n      <td>0</td>\n      <td>35</td>\n      <td>272</td>\n      <td>0</td>\n      <td>0</td>\n      <td>0</td>\n      <td>0</td>\n      <td>2</td>\n      <td>2006</td>\n      <td>140000</td>\n    </tr>\n    <tr>\n      <th>4</th>\n      <td>60</td>\n      <td>84.0</td>\n      <td>14260</td>\n      <td>8</td>\n      <td>5</td>\n      <td>2000</td>\n      <td>2000</td>\n      <td>350.0</td>\n      <td>655</td>\n      <td>0</td>\n      <td>...</td>\n      <td>192</td>\n      <td>84</td>\n      <td>0</td>\n      <td>0</td>\n      <td>0</td>\n      <td>0</td>\n      <td>0</td>\n      <td>12</td>\n      <td>2008</td>\n      <td>250000</td>\n    </tr>\n  </tbody>\n</table>\n<p>5 rows × 37 columns</p>\n</div>"
     },
     "execution_count": 68,
     "metadata": {},
     "output_type": "execute_result"
    }
   ],
   "source": [
    "# Extract numeric data\n",
    "numeric_data = raw_data[numeric_columns]\n",
    "numeric_data.head()"
   ],
   "metadata": {
    "collapsed": false,
    "ExecuteTime": {
     "end_time": "2024-03-07T14:28:46.778350Z",
     "start_time": "2024-03-07T14:28:46.764978Z"
    }
   },
   "id": "6459fcb0fa0e3c5c",
   "execution_count": 68
  },
  {
   "cell_type": "markdown",
   "source": [
    "Now let's deal with the missing values in the data."
   ],
   "metadata": {
    "collapsed": false
   },
   "id": "4128b5f54a886a06"
  },
  {
   "cell_type": "code",
   "outputs": [
    {
     "data": {
      "text/plain": "['LotFrontage', 'MasVnrArea', 'GarageYrBlt']"
     },
     "execution_count": 69,
     "metadata": {},
     "output_type": "execute_result"
    }
   ],
   "source": [
    "# Display features with missing values\n",
    "nan_columns = np.any(pd.isna(numeric_data), axis = 0)\n",
    "nan_columns = list(nan_columns[nan_columns == True].index)\n",
    "nan_columns"
   ],
   "metadata": {
    "collapsed": false,
    "ExecuteTime": {
     "end_time": "2024-03-07T14:28:46.787307Z",
     "start_time": "2024-03-07T14:28:46.779366Z"
    }
   },
   "id": "7086f53365cfc19b",
   "execution_count": 69
  },
  {
   "cell_type": "markdown",
   "source": [
    "We simply replace them with zero."
   ],
   "metadata": {
    "collapsed": false
   },
   "id": "3462eb810f69d5ce"
  },
  {
   "cell_type": "code",
   "outputs": [],
   "source": [
    "# Replace NAN with 0\n",
    "numeric_data = numeric_data.fillna(0)"
   ],
   "metadata": {
    "collapsed": false,
    "ExecuteTime": {
     "end_time": "2024-03-07T14:28:46.792778Z",
     "start_time": "2024-03-07T14:28:46.788312Z"
    }
   },
   "id": "9774b98b0b6c08a8",
   "execution_count": 70
  },
  {
   "cell_type": "markdown",
   "source": [
    "##### Creating training and test set\n",
    "\n",
    "Let's split the data for training and test. We use the `train_test_split` module of `sklearn`:"
   ],
   "metadata": {
    "collapsed": false
   },
   "id": "fd2e81368f4a3317"
  },
  {
   "cell_type": "code",
   "outputs": [],
   "source": [
    "# Splitting training/test set\n",
    "numeric_data_train, numeric_data_test = train_test_split(numeric_data, test_size=0.1, random_state=7)"
   ],
   "metadata": {
    "collapsed": false,
    "ExecuteTime": {
     "end_time": "2024-03-07T14:28:46.800021Z",
     "start_time": "2024-03-07T14:28:46.794788Z"
    }
   },
   "id": "5ffa114ed471a412",
   "execution_count": 71
  },
  {
   "cell_type": "markdown",
   "source": [
    "##### Normalizing the data\n",
    "\n",
    "Before training our model, we need to normalize the data. We do this by subtracting each column from its minimum value and then dividing it by the difference between maximum and minimum. We use the `MinMaxScaler` of `sklearn`."
   ],
   "metadata": {
    "collapsed": false
   },
   "id": "e64b263bb796a28f"
  },
  {
   "cell_type": "code",
   "outputs": [
    {
     "data": {
      "text/plain": "      MSSubClass  LotFrontage   LotArea  OverallQual  OverallCond  YearBuilt  \\\n606     0.000000     0.261981  0.052182     0.444444         0.50   0.905109   \n1210    0.235294     0.223642  0.046358     0.555556         0.50   0.875912   \n492     0.235294     0.335463  0.066737     0.555556         0.50   0.978102   \n410     0.000000     0.217252  0.038659     0.444444         0.25   0.627737   \n396     0.000000     0.191693  0.027577     0.444444         0.50   0.729927   \n...          ...          ...       ...          ...          ...        ...   \n426     0.352941     0.000000  0.053752     0.666667         0.50   0.854015   \n99      0.000000     0.246006  0.037486     0.333333         0.50   0.635036   \n718     0.235294     0.306709  0.043198     0.666667         0.50   0.883212   \n46      0.176471     0.153355  0.053855     0.666667         0.50   0.956204   \n389     0.235294     0.306709  0.052228     1.000000         0.50   0.985401   \n\n      YearRemodAdd  MasVnrArea  BsmtFinSF1  BsmtFinSF2  ...  WoodDeckSF  \\\n606       0.766667    0.000000    0.129695         0.0  ...    0.196033   \n1210      0.700000    0.000000    0.000000         0.0  ...    0.740957   \n492       0.933333    0.000000    0.000000         0.0  ...    0.000000   \n410       0.133333    0.000000    0.000000         0.0  ...    0.000000   \n396       0.366667    0.000000    0.137668         0.0  ...    0.250875   \n...            ...         ...         ...         ...  ...         ...   \n426       0.650000    0.090625    0.268958         0.0  ...    0.093349   \n99        0.150000    0.000000    0.100815         0.0  ...    0.410735   \n718       0.733333    0.406875    0.207831         0.0  ...    0.291715   \n46        0.883333    0.000000    0.239369         0.0  ...    0.196033   \n389       0.966667    0.170000    0.226790         0.0  ...    0.228705   \n\n      OpenPorchSF  EnclosedPorch  3SsnPorch  ScreenPorch  PoolArea   MiscVal  \\\n606      0.000000       0.000000        0.0       0.0000       0.0  0.000000   \n1210     0.190128       0.000000        0.0       0.0000       0.0  0.025806   \n492      0.000000       0.000000        0.0       0.0000       0.0  0.000000   \n410      0.000000       0.000000        0.0       0.0000       0.0  0.000000   \n396      0.000000       0.000000        0.0       0.0000       0.0  0.000000   \n...           ...            ...        ...          ...       ...       ...   \n426      0.000000       0.000000        0.0       0.8250       0.0  0.000000   \n99       0.000000       0.000000        0.0       0.0000       0.0  0.025806   \n718      0.281536       0.391304        0.0       0.0000       0.0  0.000000   \n46       0.078611       0.000000        0.0       0.4125       0.0  0.000000   \n389      0.244973       0.000000        0.0       0.0000       0.0  0.000000   \n\n        MoSold  YrSold  SalePrice  \n606   0.909091    0.75   0.162616  \n1210  0.363636    1.00   0.213998  \n492   0.363636    0.00   0.191480  \n410   0.454545    0.75   0.034856  \n396   0.727273    0.75   0.122344  \n...        ...     ...        ...  \n426   0.636364    0.75   0.333426  \n99    0.000000    1.00   0.130607  \n718   0.636364    0.50   0.425080  \n46    0.636364    0.75   0.284386  \n389   0.636364    0.50   0.543119  \n\n[146 rows x 37 columns]",
      "text/html": "<div>\n<style scoped>\n    .dataframe tbody tr th:only-of-type {\n        vertical-align: middle;\n    }\n\n    .dataframe tbody tr th {\n        vertical-align: top;\n    }\n\n    .dataframe thead th {\n        text-align: right;\n    }\n</style>\n<table border=\"1\" class=\"dataframe\">\n  <thead>\n    <tr style=\"text-align: right;\">\n      <th></th>\n      <th>MSSubClass</th>\n      <th>LotFrontage</th>\n      <th>LotArea</th>\n      <th>OverallQual</th>\n      <th>OverallCond</th>\n      <th>YearBuilt</th>\n      <th>YearRemodAdd</th>\n      <th>MasVnrArea</th>\n      <th>BsmtFinSF1</th>\n      <th>BsmtFinSF2</th>\n      <th>...</th>\n      <th>WoodDeckSF</th>\n      <th>OpenPorchSF</th>\n      <th>EnclosedPorch</th>\n      <th>3SsnPorch</th>\n      <th>ScreenPorch</th>\n      <th>PoolArea</th>\n      <th>MiscVal</th>\n      <th>MoSold</th>\n      <th>YrSold</th>\n      <th>SalePrice</th>\n    </tr>\n  </thead>\n  <tbody>\n    <tr>\n      <th>606</th>\n      <td>0.000000</td>\n      <td>0.261981</td>\n      <td>0.052182</td>\n      <td>0.444444</td>\n      <td>0.50</td>\n      <td>0.905109</td>\n      <td>0.766667</td>\n      <td>0.000000</td>\n      <td>0.129695</td>\n      <td>0.0</td>\n      <td>...</td>\n      <td>0.196033</td>\n      <td>0.000000</td>\n      <td>0.000000</td>\n      <td>0.0</td>\n      <td>0.0000</td>\n      <td>0.0</td>\n      <td>0.000000</td>\n      <td>0.909091</td>\n      <td>0.75</td>\n      <td>0.162616</td>\n    </tr>\n    <tr>\n      <th>1210</th>\n      <td>0.235294</td>\n      <td>0.223642</td>\n      <td>0.046358</td>\n      <td>0.555556</td>\n      <td>0.50</td>\n      <td>0.875912</td>\n      <td>0.700000</td>\n      <td>0.000000</td>\n      <td>0.000000</td>\n      <td>0.0</td>\n      <td>...</td>\n      <td>0.740957</td>\n      <td>0.190128</td>\n      <td>0.000000</td>\n      <td>0.0</td>\n      <td>0.0000</td>\n      <td>0.0</td>\n      <td>0.025806</td>\n      <td>0.363636</td>\n      <td>1.00</td>\n      <td>0.213998</td>\n    </tr>\n    <tr>\n      <th>492</th>\n      <td>0.235294</td>\n      <td>0.335463</td>\n      <td>0.066737</td>\n      <td>0.555556</td>\n      <td>0.50</td>\n      <td>0.978102</td>\n      <td>0.933333</td>\n      <td>0.000000</td>\n      <td>0.000000</td>\n      <td>0.0</td>\n      <td>...</td>\n      <td>0.000000</td>\n      <td>0.000000</td>\n      <td>0.000000</td>\n      <td>0.0</td>\n      <td>0.0000</td>\n      <td>0.0</td>\n      <td>0.000000</td>\n      <td>0.363636</td>\n      <td>0.00</td>\n      <td>0.191480</td>\n    </tr>\n    <tr>\n      <th>410</th>\n      <td>0.000000</td>\n      <td>0.217252</td>\n      <td>0.038659</td>\n      <td>0.444444</td>\n      <td>0.25</td>\n      <td>0.627737</td>\n      <td>0.133333</td>\n      <td>0.000000</td>\n      <td>0.000000</td>\n      <td>0.0</td>\n      <td>...</td>\n      <td>0.000000</td>\n      <td>0.000000</td>\n      <td>0.000000</td>\n      <td>0.0</td>\n      <td>0.0000</td>\n      <td>0.0</td>\n      <td>0.000000</td>\n      <td>0.454545</td>\n      <td>0.75</td>\n      <td>0.034856</td>\n    </tr>\n    <tr>\n      <th>396</th>\n      <td>0.000000</td>\n      <td>0.191693</td>\n      <td>0.027577</td>\n      <td>0.444444</td>\n      <td>0.50</td>\n      <td>0.729927</td>\n      <td>0.366667</td>\n      <td>0.000000</td>\n      <td>0.137668</td>\n      <td>0.0</td>\n      <td>...</td>\n      <td>0.250875</td>\n      <td>0.000000</td>\n      <td>0.000000</td>\n      <td>0.0</td>\n      <td>0.0000</td>\n      <td>0.0</td>\n      <td>0.000000</td>\n      <td>0.727273</td>\n      <td>0.75</td>\n      <td>0.122344</td>\n    </tr>\n    <tr>\n      <th>...</th>\n      <td>...</td>\n      <td>...</td>\n      <td>...</td>\n      <td>...</td>\n      <td>...</td>\n      <td>...</td>\n      <td>...</td>\n      <td>...</td>\n      <td>...</td>\n      <td>...</td>\n      <td>...</td>\n      <td>...</td>\n      <td>...</td>\n      <td>...</td>\n      <td>...</td>\n      <td>...</td>\n      <td>...</td>\n      <td>...</td>\n      <td>...</td>\n      <td>...</td>\n      <td>...</td>\n    </tr>\n    <tr>\n      <th>426</th>\n      <td>0.352941</td>\n      <td>0.000000</td>\n      <td>0.053752</td>\n      <td>0.666667</td>\n      <td>0.50</td>\n      <td>0.854015</td>\n      <td>0.650000</td>\n      <td>0.090625</td>\n      <td>0.268958</td>\n      <td>0.0</td>\n      <td>...</td>\n      <td>0.093349</td>\n      <td>0.000000</td>\n      <td>0.000000</td>\n      <td>0.0</td>\n      <td>0.8250</td>\n      <td>0.0</td>\n      <td>0.000000</td>\n      <td>0.636364</td>\n      <td>0.75</td>\n      <td>0.333426</td>\n    </tr>\n    <tr>\n      <th>99</th>\n      <td>0.000000</td>\n      <td>0.246006</td>\n      <td>0.037486</td>\n      <td>0.333333</td>\n      <td>0.50</td>\n      <td>0.635036</td>\n      <td>0.150000</td>\n      <td>0.000000</td>\n      <td>0.100815</td>\n      <td>0.0</td>\n      <td>...</td>\n      <td>0.410735</td>\n      <td>0.000000</td>\n      <td>0.000000</td>\n      <td>0.0</td>\n      <td>0.0000</td>\n      <td>0.0</td>\n      <td>0.025806</td>\n      <td>0.000000</td>\n      <td>1.00</td>\n      <td>0.130607</td>\n    </tr>\n    <tr>\n      <th>718</th>\n      <td>0.235294</td>\n      <td>0.306709</td>\n      <td>0.043198</td>\n      <td>0.666667</td>\n      <td>0.50</td>\n      <td>0.883212</td>\n      <td>0.733333</td>\n      <td>0.406875</td>\n      <td>0.207831</td>\n      <td>0.0</td>\n      <td>...</td>\n      <td>0.291715</td>\n      <td>0.281536</td>\n      <td>0.391304</td>\n      <td>0.0</td>\n      <td>0.0000</td>\n      <td>0.0</td>\n      <td>0.000000</td>\n      <td>0.636364</td>\n      <td>0.50</td>\n      <td>0.425080</td>\n    </tr>\n    <tr>\n      <th>46</th>\n      <td>0.176471</td>\n      <td>0.153355</td>\n      <td>0.053855</td>\n      <td>0.666667</td>\n      <td>0.50</td>\n      <td>0.956204</td>\n      <td>0.883333</td>\n      <td>0.000000</td>\n      <td>0.239369</td>\n      <td>0.0</td>\n      <td>...</td>\n      <td>0.196033</td>\n      <td>0.078611</td>\n      <td>0.000000</td>\n      <td>0.0</td>\n      <td>0.4125</td>\n      <td>0.0</td>\n      <td>0.000000</td>\n      <td>0.636364</td>\n      <td>0.75</td>\n      <td>0.284386</td>\n    </tr>\n    <tr>\n      <th>389</th>\n      <td>0.235294</td>\n      <td>0.306709</td>\n      <td>0.052228</td>\n      <td>1.000000</td>\n      <td>0.50</td>\n      <td>0.985401</td>\n      <td>0.966667</td>\n      <td>0.170000</td>\n      <td>0.226790</td>\n      <td>0.0</td>\n      <td>...</td>\n      <td>0.228705</td>\n      <td>0.244973</td>\n      <td>0.000000</td>\n      <td>0.0</td>\n      <td>0.0000</td>\n      <td>0.0</td>\n      <td>0.000000</td>\n      <td>0.636364</td>\n      <td>0.50</td>\n      <td>0.543119</td>\n    </tr>\n  </tbody>\n</table>\n<p>146 rows × 37 columns</p>\n</div>"
     },
     "execution_count": 72,
     "metadata": {},
     "output_type": "execute_result"
    }
   ],
   "source": [
    "#Define the scaler\n",
    "scaler = MinMaxScaler()\n",
    "#Fit the scaler\n",
    "scaler.fit(numeric_data_train)\n",
    "#Transform the train and the test set\n",
    "numeric_data_train.loc[:,:] = scaler.transform(numeric_data_train)\n",
    "numeric_data_test.loc[:,:] = scaler.transform(numeric_data_test)\n",
    "\n",
    "numeric_data_test"
   ],
   "metadata": {
    "collapsed": false,
    "ExecuteTime": {
     "end_time": "2024-03-07T14:28:46.831376Z",
     "start_time": "2024-03-07T14:28:46.801026Z"
    }
   },
   "id": "64682141c6aecd44",
   "execution_count": 72
  },
  {
   "cell_type": "markdown",
   "source": [
    "Finally, we split the column we want to predict (\"SalePrice\") to our features:"
   ],
   "metadata": {
    "collapsed": false
   },
   "id": "b9667834f31cf75"
  },
  {
   "cell_type": "code",
   "outputs": [],
   "source": [
    "# Extract features and output\n",
    "numeric_x_columns = list(numeric_data_train.columns)\n",
    "numeric_x_columns.remove(\"SalePrice\")\n",
    "X_train_df = numeric_data_train[numeric_x_columns]\n",
    "y_train_df = pd.DataFrame(numeric_data_train[\"SalePrice\"])\n",
    "X_test_df = numeric_data_test[numeric_x_columns]\n",
    "y_test_df = pd.DataFrame(numeric_data_test[\"SalePrice\"])"
   ],
   "metadata": {
    "collapsed": false,
    "ExecuteTime": {
     "end_time": "2024-03-07T14:28:46.839216Z",
     "start_time": "2024-03-07T14:28:46.832383Z"
    }
   },
   "id": "50cdbd0e3a7182f0",
   "execution_count": 73
  },
  {
   "cell_type": "markdown",
   "source": [
    "Ok, all set, we can start building our Neural Net!"
   ],
   "metadata": {
    "collapsed": false
   },
   "id": "5aa575968143d657"
  },
  {
   "cell_type": "markdown",
   "source": [
    "#### Building a Shallow Neural Network model with PyTorch\n",
    "\n",
    "We use the `PyTorch` library ([Documentation](https://pytorch.org/), imported at the beginning of this notebook with the following lines of codes:\n",
    "\n",
    "```python\n",
    "import torch\n",
    "import torch.nn as nn\n",
    "```\n",
    "\n",
    "`torch.nn` contains the building blocks to build Neural Nets, e.g., the layers ([Documentation](https://pytorch.org/docs/stable/nn.html))."
   ],
   "metadata": {
    "collapsed": false
   },
   "id": "1d3b01686385b72d"
  },
  {
   "cell_type": "markdown",
   "source": [
    "##### Create tensors\n",
    "\n",
    "The first step is to convert the data into torch tensors. A `torch.Tensor` is a multi-dimensional matrix containing elements of a single data type. It's very similar to arrays in `NumPy`.\n",
    "\n",
    "We rely on `torch.tensor()` for the conversion ([Documentation](https://pytorch.org/docs/stable/tensors.html))."
   ],
   "metadata": {
    "collapsed": false
   },
   "id": "ae0254d04b829d3f"
  },
  {
   "cell_type": "code",
   "outputs": [],
   "source": [
    "X_train = torch.tensor(X_train_df.values, dtype=torch.float)\n",
    "y_train = torch.tensor(y_train_df.values, dtype=torch.float)\n",
    "X_test = torch.tensor(X_test_df.values, dtype=torch.float)\n",
    "y_test = torch.tensor(y_test_df.values, dtype=torch.float)"
   ],
   "metadata": {
    "collapsed": false,
    "ExecuteTime": {
     "end_time": "2024-03-07T14:28:46.845667Z",
     "start_time": "2024-03-07T14:28:46.840222Z"
    }
   },
   "id": "1e0649a635d70393",
   "execution_count": 74
  },
  {
   "cell_type": "code",
   "outputs": [
    {
     "name": "stdout",
     "output_type": "stream",
     "text": [
      "torch.Size([1314, 36]) torch.Size([1314, 1])\n"
     ]
    }
   ],
   "source": [
    "print(X_train.size(), y_train.size())"
   ],
   "metadata": {
    "collapsed": false,
    "ExecuteTime": {
     "end_time": "2024-03-07T14:28:46.851228Z",
     "start_time": "2024-03-07T14:28:46.846692Z"
    }
   },
   "id": "4b253d181acb2699",
   "execution_count": 75
  },
  {
   "cell_type": "markdown",
   "source": [
    "##### Define and train a model with PyTorch\n",
    "\n",
    "A model is defined as a `class` in PyTorch. Classes are a means of bundling data and functionality together, allowing to create a new type of Python object. You can read the Python documentation on [Classes](https://docs.python.org/3/tutorial/classes.html) to learn more about them.\n",
    "\n",
    "When you create your Neural Net, you should define:\n",
    "- a `__init__` function in which you define the layers of your network.\n",
    "- a `forward` function (method) that defines the forward pass on the network.\n",
    "\n",
    "Now the goal is to create a single layer network with ReLU activation:\n",
    "- The layer `nn.Linear()` performs a linear transformation ([Documentation](https://pytorch.org/docs/stable/generated/torch.nn.Linear.html)). The input and output are the number of neurons\n",
    "- `nn.ReLU()` applies the Rectified Linear Unit function: $ReLU(x)=\\max(0,x)$ ([Documentation](https://pytorch.org/docs/stable/generated/torch.nn.ReLU.html))."
   ],
   "metadata": {
    "collapsed": false
   },
   "id": "6522214f376c2208"
  },
  {
   "cell_type": "code",
   "outputs": [],
   "source": [
    "class Net(nn.Module):\n",
    "    def __init__(self, D_in, H1, D_out):\n",
    "        super(Net, self).__init__()\n",
    "\n",
    "        self.linear1 = nn.Linear(D_in, H1)        # Linear transformation for hidden layer\n",
    "        self.linear2 = nn.Linear(H1, D_out)       # Linear transformation for output layer\n",
    "        self.activation = nn.ReLU()               # Activation function for hidden layer\n",
    "\n",
    "    def forward(self, x):\n",
    "        y_pred = self.activation(self.linear1(x))   # Hidden layer: linear transformation + ReLU\n",
    "        y_pred = self.linear2(y_pred)               # Output layer: linear transformation\n",
    "        return y_pred"
   ],
   "metadata": {
    "collapsed": false,
    "ExecuteTime": {
     "end_time": "2024-03-07T14:28:46.858881Z",
     "start_time": "2024-03-07T14:28:46.852235Z"
    }
   },
   "id": "6f79aa8297218b93",
   "execution_count": 76
  },
  {
   "cell_type": "markdown",
   "source": [
    "`D_in` is the input dimension, i.e., the number of features. Similarly, `D_out` is the output dimension, i.e., 1 (we only predict the \"SalePrice\"):"
   ],
   "metadata": {
    "collapsed": false
   },
   "id": "357809ccf3f7b601"
  },
  {
   "cell_type": "code",
   "outputs": [],
   "source": [
    "D_in, D_out = X_train.shape[1], y_train.shape[1]"
   ],
   "metadata": {
    "collapsed": false,
    "ExecuteTime": {
     "end_time": "2024-03-07T14:28:46.866034Z",
     "start_time": "2024-03-07T14:28:46.859895Z"
    }
   },
   "id": "b39d2e7d41128ef5",
   "execution_count": 77
  },
  {
   "cell_type": "markdown",
   "source": [
    "Ok, let's define our first model. It is an instance of our newly-created class \"Net\". We are going to use 500 neurons for the hidden layer:"
   ],
   "metadata": {
    "collapsed": false
   },
   "id": "de708d308a86fb77"
  },
  {
   "cell_type": "code",
   "outputs": [],
   "source": [
    "# Model with 500 neurons\n",
    "model1 = Net(D_in, 500, D_out)"
   ],
   "metadata": {
    "collapsed": false,
    "ExecuteTime": {
     "end_time": "2024-03-07T14:28:46.873486Z",
     "start_time": "2024-03-07T14:28:46.867041Z"
    }
   },
   "id": "e708699750e9da3a",
   "execution_count": 78
  },
  {
   "cell_type": "markdown",
   "source": [
    "Let's calculate now how many parameters we have in the model."
   ],
   "metadata": {
    "collapsed": false
   },
   "id": "627b3ead7eb703fd"
  },
  {
   "cell_type": "code",
   "outputs": [
    {
     "name": "stdout",
     "output_type": "stream",
     "text": [
      "19001\n"
     ]
    }
   ],
   "source": [
    "# calculate how many parameters are in the model\n",
    "pytorch_total_params = sum(p.numel() for p in model1.parameters() if p.requires_grad)\n",
    "print(pytorch_total_params)"
   ],
   "metadata": {
    "collapsed": false,
    "ExecuteTime": {
     "end_time": "2024-03-07T14:28:46.880738Z",
     "start_time": "2024-03-07T14:28:46.874496Z"
    }
   },
   "id": "1af21b54b5519092",
   "execution_count": 79
  },
  {
   "cell_type": "markdown",
   "source": [
    "The next steps is to define the **loss criterion** and the **optimizer** for the network. That is, we have to define the loss function we want to optimize during training and also the optimization method. We use:\n",
    "- `MSELoss()` as loss criterion, i.e., the mean square error ([Documentation](https://pytorch.org/docs/stable/generated/torch.nn.MSELoss.html))\n",
    "- `SGD()`as optimizer, i.e., stochastic gradient descent ([Documentation](https://pytorch.org/docs/stable/generated/torch.optim.SGD.html))"
   ],
   "metadata": {
    "collapsed": false
   },
   "id": "78294354a52343c5"
  },
  {
   "cell_type": "code",
   "outputs": [],
   "source": [
    "# MSE loss\n",
    "criterion = nn.MSELoss(reduction='sum')\n",
    "# SGD optimizer for finding the weights of the network\n",
    "optimizer = torch.optim.SGD(model1.parameters(), lr=1e-4)"
   ],
   "metadata": {
    "collapsed": false,
    "ExecuteTime": {
     "end_time": "2024-03-07T14:28:46.886621Z",
     "start_time": "2024-03-07T14:28:46.881758Z"
    }
   },
   "id": "4d4e748706a17b7d",
   "execution_count": 80
  },
  {
   "cell_type": "markdown",
   "source": [
    "Wonderful, we are ready to do the training! We can simply by looping over the number of iterations. The training has 3 main steps:\n",
    "- A forward pass to compute the prediction for the current data point (batch).\n",
    "- Computing the loss for the current prediction with the previously defined criterion.\n",
    "- A backward pass to compute the gradient of the loss with respect to the weight of the network (`backward()`)\n",
    "- Finally, updating the weights of the network (`optimizer.step()`).\n",
    "\n",
    "Note that in each backward pass PyTorch saves the gradient for all of the parameters. Therefore it is important to replace the old gradient values with zero in the beginning of each iteration (`optimizer.zero_grad()`), otherwise the gradients will be accumulated during the iterations!"
   ],
   "metadata": {
    "collapsed": false
   },
   "id": "dfe49d6c12b865e8"
  },
  {
   "cell_type": "code",
   "outputs": [
    {
     "name": "stdout",
     "output_type": "stream",
     "text": [
      "0 141.55865478515625\n",
      "1 743.80517578125\n",
      "2 3603.881591796875\n",
      "3 6877.48095703125\n",
      "4 561.5326538085938\n",
      "5 254.51039123535156\n",
      "6 125.49610900878906\n",
      "7 66.4796371459961\n",
      "8 38.59965515136719\n",
      "9 25.201663970947266\n",
      "10 18.671588897705078\n",
      "11 15.431903839111328\n",
      "12 13.777169227600098\n",
      "13 12.888650894165039\n",
      "14 12.371585845947266\n",
      "15 12.035392761230469\n",
      "16 11.788118362426758\n",
      "17 11.585016250610352\n",
      "18 11.40464973449707\n",
      "19 11.236513137817383\n",
      "20 11.07558536529541\n",
      "21 10.91922378540039\n",
      "22 10.766413688659668\n",
      "23 10.616456031799316\n",
      "24 10.46898365020752\n",
      "25 10.32373332977295\n",
      "26 10.180606842041016\n",
      "27 10.039606094360352\n",
      "28 9.900798797607422\n",
      "29 9.764103889465332\n",
      "30 9.62933349609375\n",
      "31 9.496450424194336\n",
      "32 9.365592956542969\n",
      "33 9.236703872680664\n",
      "34 9.109896659851074\n",
      "35 8.985140800476074\n",
      "36 8.862384796142578\n",
      "37 8.741645812988281\n",
      "38 8.622891426086426\n",
      "39 8.506183624267578\n",
      "40 8.391454696655273\n",
      "41 8.278764724731445\n",
      "42 8.168107986450195\n",
      "43 8.059392929077148\n",
      "44 7.952701091766357\n",
      "45 7.847994804382324\n",
      "46 7.745384693145752\n",
      "47 7.644941329956055\n",
      "48 7.546555995941162\n",
      "49 7.450157165527344\n",
      "50 7.355737686157227\n",
      "51 7.263323783874512\n",
      "52 7.172896385192871\n",
      "53 7.084456920623779\n",
      "54 6.997961044311523\n",
      "55 6.913368225097656\n",
      "56 6.830678939819336\n",
      "57 6.749838829040527\n",
      "58 6.670864105224609\n",
      "59 6.593821048736572\n",
      "60 6.5186686515808105\n",
      "61 6.445385932922363\n",
      "62 6.374017715454102\n",
      "63 6.304441928863525\n",
      "64 6.236683368682861\n",
      "65 6.1707258224487305\n",
      "66 6.1066083908081055\n",
      "67 6.044214248657227\n",
      "68 5.983619213104248\n",
      "69 5.924798011779785\n",
      "70 5.867655277252197\n",
      "71 5.812129497528076\n",
      "72 5.7582316398620605\n",
      "73 5.705880165100098\n",
      "74 5.655024528503418\n",
      "75 5.605686664581299\n",
      "76 5.557796478271484\n",
      "77 5.511280059814453\n",
      "78 5.466100692749023\n",
      "79 5.422204971313477\n",
      "80 5.379659652709961\n",
      "81 5.338391304016113\n",
      "82 5.2983317375183105\n",
      "83 5.259451389312744\n",
      "84 5.221717834472656\n",
      "85 5.185124397277832\n",
      "86 5.14963960647583\n",
      "87 5.115243434906006\n",
      "88 5.0818915367126465\n",
      "89 5.049516677856445\n",
      "90 5.0180768966674805\n",
      "91 4.987576484680176\n",
      "92 4.95799446105957\n",
      "93 4.929269790649414\n",
      "94 4.90138578414917\n",
      "95 4.8743181228637695\n",
      "96 4.848046779632568\n",
      "97 4.822532653808594\n",
      "98 4.797732353210449\n",
      "99 4.773625373840332\n",
      "100 4.750180721282959\n",
      "101 4.727396011352539\n",
      "102 4.705252170562744\n",
      "103 4.683738708496094\n",
      "104 4.662825107574463\n",
      "105 4.642477512359619\n",
      "106 4.622671127319336\n",
      "107 4.603385925292969\n",
      "108 4.584590911865234\n",
      "109 4.56627082824707\n",
      "110 4.548395156860352\n",
      "111 4.530949592590332\n",
      "112 4.513933181762695\n",
      "113 4.497336387634277\n",
      "114 4.481103897094727\n",
      "115 4.4652419090271\n",
      "116 4.449741363525391\n",
      "117 4.434586524963379\n",
      "118 4.419746398925781\n",
      "119 4.4051833152771\n",
      "120 4.390926361083984\n",
      "121 4.376960754394531\n",
      "122 4.363278865814209\n",
      "123 4.349867820739746\n",
      "124 4.336714267730713\n",
      "125 4.323820114135742\n",
      "126 4.311182975769043\n",
      "127 4.298781394958496\n",
      "128 4.286612510681152\n",
      "129 4.274674892425537\n",
      "130 4.2629570960998535\n",
      "131 4.2514495849609375\n",
      "132 4.24013614654541\n",
      "133 4.229011535644531\n",
      "134 4.218076705932617\n",
      "135 4.207332611083984\n",
      "136 4.196765899658203\n",
      "137 4.186362266540527\n",
      "138 4.176115036010742\n",
      "139 4.166025638580322\n",
      "140 4.156102180480957\n",
      "141 4.146331787109375\n",
      "142 4.136711120605469\n",
      "143 4.12722635269165\n",
      "144 4.117875576019287\n",
      "145 4.108654975891113\n",
      "146 4.099562644958496\n",
      "147 4.090604782104492\n",
      "148 4.081762790679932\n",
      "149 4.073029518127441\n",
      "150 4.064399719238281\n",
      "151 4.055879592895508\n",
      "152 4.047468185424805\n",
      "153 4.039175987243652\n",
      "154 4.030982494354248\n",
      "155 4.022885322570801\n",
      "156 4.014885425567627\n",
      "157 4.006982326507568\n",
      "158 3.999173641204834\n",
      "159 3.991452217102051\n",
      "160 3.9838204383850098\n",
      "161 3.976278305053711\n",
      "162 3.9688174724578857\n",
      "163 3.961434841156006\n",
      "164 3.9541306495666504\n",
      "165 3.946904182434082\n",
      "166 3.939746379852295\n",
      "167 3.93265438079834\n",
      "168 3.925629138946533\n",
      "169 3.9186770915985107\n",
      "170 3.9117956161499023\n",
      "171 3.9049832820892334\n",
      "172 3.89823317527771\n",
      "173 3.8915390968322754\n",
      "174 3.8848860263824463\n",
      "175 3.8782973289489746\n",
      "176 3.871772289276123\n",
      "177 3.8653087615966797\n",
      "178 3.8589065074920654\n",
      "179 3.8525702953338623\n",
      "180 3.8462963104248047\n",
      "181 3.840083599090576\n",
      "182 3.8339285850524902\n",
      "183 3.8278260231018066\n",
      "184 3.821779489517212\n",
      "185 3.815783739089966\n",
      "186 3.809835910797119\n",
      "187 3.803940773010254\n",
      "188 3.7980971336364746\n",
      "189 3.7923102378845215\n",
      "190 3.786571502685547\n",
      "191 3.7808828353881836\n",
      "192 3.7752413749694824\n",
      "193 3.769644260406494\n",
      "194 3.764096260070801\n",
      "195 3.7585926055908203\n",
      "196 3.753131866455078\n",
      "197 3.7477126121520996\n",
      "198 3.74233341217041\n",
      "199 3.736990451812744\n",
      "200 3.731689929962158\n",
      "201 3.726428747177124\n",
      "202 3.7212095260620117\n",
      "203 3.716036796569824\n",
      "204 3.710911989212036\n",
      "205 3.705831289291382\n",
      "206 3.700784683227539\n",
      "207 3.6957714557647705\n",
      "208 3.690800905227661\n",
      "209 3.6858742237091064\n",
      "210 3.680983066558838\n",
      "211 3.6761300563812256\n",
      "212 3.671311855316162\n",
      "213 3.6665234565734863\n",
      "214 3.661773681640625\n",
      "215 3.6570630073547363\n",
      "216 3.6523866653442383\n",
      "217 3.6477432250976562\n",
      "218 3.6431431770324707\n",
      "219 3.6385862827301025\n",
      "220 3.634061574935913\n",
      "221 3.629570245742798\n",
      "222 3.6251087188720703\n",
      "223 3.6206777095794678\n",
      "224 3.6162753105163574\n",
      "225 3.6119048595428467\n",
      "226 3.6075618267059326\n",
      "227 3.603243589401245\n",
      "228 3.598956346511841\n",
      "229 3.5946972370147705\n",
      "230 3.5904667377471924\n",
      "231 3.5862650871276855\n",
      "232 3.5820915699005127\n",
      "233 3.5779480934143066\n",
      "234 3.5738253593444824\n",
      "235 3.56972599029541\n",
      "236 3.5656509399414062\n",
      "237 3.5616040229797363\n",
      "238 3.5575826168060303\n",
      "239 3.5535881519317627\n",
      "240 3.549623966217041\n",
      "241 3.5456900596618652\n",
      "242 3.5417847633361816\n",
      "243 3.537903308868408\n",
      "244 3.5340523719787598\n",
      "245 3.530226707458496\n",
      "246 3.5264158248901367\n",
      "247 3.522627830505371\n",
      "248 3.5188586711883545\n",
      "249 3.5151169300079346\n",
      "250 3.5114026069641113\n",
      "251 3.5077102184295654\n",
      "252 3.504040479660034\n",
      "253 3.500398635864258\n",
      "254 3.496779680252075\n",
      "255 3.4931795597076416\n",
      "256 3.4896020889282227\n",
      "257 3.486043930053711\n",
      "258 3.482496738433838\n",
      "259 3.478971004486084\n",
      "260 3.475468158721924\n",
      "261 3.471991539001465\n",
      "262 3.468543767929077\n",
      "263 3.4651143550872803\n",
      "264 3.4617016315460205\n",
      "265 3.458306312561035\n",
      "266 3.454928398132324\n",
      "267 3.4515697956085205\n",
      "268 3.4482288360595703\n",
      "269 3.444906711578369\n",
      "270 3.441601276397705\n",
      "271 3.4383134841918945\n",
      "272 3.4350476264953613\n",
      "273 3.4318015575408936\n",
      "274 3.4285759925842285\n",
      "275 3.4253711700439453\n",
      "276 3.4221832752227783\n",
      "277 3.4190120697021484\n",
      "278 3.415860414505005\n",
      "279 3.41273832321167\n",
      "280 3.4096367359161377\n",
      "281 3.4065608978271484\n",
      "282 3.403505563735962\n",
      "283 3.400470495223999\n",
      "284 3.3974506855010986\n",
      "285 3.394442081451416\n",
      "286 3.3914475440979004\n",
      "287 3.3884620666503906\n",
      "288 3.3854877948760986\n",
      "289 3.382530689239502\n",
      "290 3.3795881271362305\n",
      "291 3.376659631729126\n",
      "292 3.373746871948242\n",
      "293 3.37084698677063\n",
      "294 3.36796236038208\n",
      "295 3.365095615386963\n",
      "296 3.362248420715332\n",
      "297 3.35941481590271\n",
      "298 3.356595039367676\n",
      "299 3.353787660598755\n",
      "300 3.350996494293213\n",
      "301 3.34822154045105\n",
      "302 3.3454604148864746\n",
      "303 3.3427159786224365\n",
      "304 3.3399839401245117\n",
      "305 3.337263584136963\n",
      "306 3.3345556259155273\n",
      "307 3.3318610191345215\n",
      "308 3.3291802406311035\n",
      "309 3.3265137672424316\n",
      "310 3.323859691619873\n",
      "311 3.321218967437744\n",
      "312 3.318591594696045\n",
      "313 3.315976619720459\n",
      "314 3.3133740425109863\n",
      "315 3.3107857704162598\n",
      "316 3.3082098960876465\n",
      "317 3.3056468963623047\n",
      "318 3.3030927181243896\n",
      "319 3.3005523681640625\n",
      "320 3.298025131225586\n",
      "321 3.295508623123169\n",
      "322 3.2930026054382324\n",
      "323 3.2905030250549316\n",
      "324 3.2880148887634277\n",
      "325 3.2855377197265625\n",
      "326 3.2830710411071777\n",
      "327 3.2806143760681152\n",
      "328 3.2781620025634766\n",
      "329 3.275717258453369\n",
      "330 3.2732810974121094\n",
      "331 3.2708585262298584\n",
      "332 3.268451690673828\n",
      "333 3.2660586833953857\n",
      "334 3.263683319091797\n",
      "335 3.2613179683685303\n",
      "336 3.258963108062744\n",
      "337 3.256619930267334\n",
      "338 3.254286766052246\n",
      "339 3.251962661743164\n",
      "340 3.249650478363037\n",
      "341 3.2473483085632324\n",
      "342 3.2450575828552246\n",
      "343 3.2427854537963867\n",
      "344 3.240520477294922\n",
      "345 3.238267660140991\n",
      "346 3.23602294921875\n",
      "347 3.2337875366210938\n",
      "348 3.231557846069336\n",
      "349 3.2293381690979004\n",
      "350 3.227125883102417\n",
      "351 3.224923610687256\n",
      "352 3.2227330207824707\n",
      "353 3.220550537109375\n",
      "354 3.2183780670166016\n",
      "355 3.216214656829834\n",
      "356 3.214060068130493\n",
      "357 3.211915969848633\n",
      "358 3.209779739379883\n",
      "359 3.2076492309570312\n",
      "360 3.2055246829986572\n",
      "361 3.2034101486206055\n",
      "362 3.201305389404297\n",
      "363 3.1992087364196777\n",
      "364 3.1971185207366943\n",
      "365 3.195037364959717\n",
      "366 3.192967414855957\n",
      "367 3.190918445587158\n",
      "368 3.1888790130615234\n",
      "369 3.186849594116211\n",
      "370 3.1848292350769043\n",
      "371 3.18281626701355\n",
      "372 3.1808114051818848\n",
      "373 3.17881441116333\n",
      "374 3.1768252849578857\n",
      "375 3.1748414039611816\n",
      "376 3.1728639602661133\n",
      "377 3.170895576477051\n",
      "378 3.168935775756836\n",
      "379 3.1669838428497314\n",
      "380 3.165039539337158\n",
      "381 3.163100242614746\n",
      "382 3.1611669063568115\n",
      "383 3.159238815307617\n",
      "384 3.1573188304901123\n",
      "385 3.1554083824157715\n",
      "386 3.1535096168518066\n",
      "387 3.1516189575195312\n",
      "388 3.1497321128845215\n",
      "389 3.1478540897369385\n",
      "390 3.1459836959838867\n",
      "391 3.1441216468811035\n",
      "392 3.1422767639160156\n",
      "393 3.1404385566711426\n",
      "394 3.138606548309326\n",
      "395 3.136782169342041\n",
      "396 3.134962558746338\n",
      "397 3.133148431777954\n",
      "398 3.131340980529785\n",
      "399 3.1295390129089355\n",
      "400 3.1277410984039307\n",
      "401 3.1259472370147705\n",
      "402 3.124157428741455\n",
      "403 3.1223723888397217\n",
      "404 3.120595693588257\n",
      "405 3.118825912475586\n",
      "406 3.117061138153076\n",
      "407 3.1153037548065186\n",
      "408 3.113553762435913\n",
      "409 3.111809253692627\n",
      "410 3.11007022857666\n",
      "411 3.1083357334136963\n",
      "412 3.1066057682037354\n",
      "413 3.104879856109619\n",
      "414 3.1031570434570312\n",
      "415 3.101439952850342\n",
      "416 3.0997302532196045\n",
      "417 3.098025321960449\n",
      "418 3.096323251724243\n",
      "419 3.094625949859619\n",
      "420 3.0929312705993652\n",
      "421 3.091242790222168\n",
      "422 3.0895607471466064\n",
      "423 3.087885618209839\n",
      "424 3.086215019226074\n",
      "425 3.084554672241211\n",
      "426 3.082899570465088\n",
      "427 3.0812501907348633\n",
      "428 3.079606294631958\n",
      "429 3.077965497970581\n",
      "430 3.0763304233551025\n",
      "431 3.074699640274048\n",
      "432 3.073072910308838\n",
      "433 3.071449041366577\n",
      "434 3.0698304176330566\n",
      "435 3.068213939666748\n",
      "436 3.066603183746338\n",
      "437 3.0649969577789307\n",
      "438 3.0633955001831055\n",
      "439 3.0617992877960205\n",
      "440 3.060206413269043\n",
      "441 3.0586185455322266\n",
      "442 3.057034492492676\n",
      "443 3.05545711517334\n",
      "444 3.0538833141326904\n",
      "445 3.0523133277893066\n",
      "446 3.0507476329803467\n",
      "447 3.049185276031494\n",
      "448 3.04762864112854\n",
      "449 3.0460762977600098\n",
      "450 3.044527530670166\n",
      "451 3.0429840087890625\n",
      "452 3.04144287109375\n",
      "453 3.0399062633514404\n",
      "454 3.0383737087249756\n",
      "455 3.0368449687957764\n",
      "456 3.0353217124938965\n",
      "457 3.033801555633545\n",
      "458 3.032284736633301\n",
      "459 3.0307705402374268\n",
      "460 3.0292611122131348\n",
      "461 3.0277533531188965\n",
      "462 3.0262484550476074\n",
      "463 3.0247488021850586\n",
      "464 3.0232558250427246\n",
      "465 3.0217690467834473\n",
      "466 3.020284652709961\n",
      "467 3.018808126449585\n",
      "468 3.017333745956421\n",
      "469 3.015862226486206\n",
      "470 3.014394760131836\n",
      "471 3.012927532196045\n",
      "472 3.0114660263061523\n",
      "473 3.0100061893463135\n",
      "474 3.0085484981536865\n",
      "475 3.007098436355591\n",
      "476 3.0056488513946533\n",
      "477 3.004204750061035\n",
      "478 3.0027642250061035\n",
      "479 3.0013270378112793\n",
      "480 2.999898672103882\n",
      "481 2.998472213745117\n",
      "482 2.997051477432251\n",
      "483 2.9956343173980713\n",
      "484 2.994218349456787\n",
      "485 2.9928078651428223\n",
      "486 2.9913973808288574\n",
      "487 2.989988327026367\n",
      "488 2.9885849952697754\n",
      "489 2.987184524536133\n",
      "490 2.9857888221740723\n",
      "491 2.984393358230591\n",
      "492 2.983006715774536\n",
      "493 2.9816200733184814\n",
      "494 2.980238199234009\n",
      "495 2.978858709335327\n",
      "496 2.977483034133911\n",
      "497 2.9761123657226562\n",
      "498 2.974740982055664\n",
      "499 2.9733753204345703\n"
     ]
    }
   ],
   "source": [
    "losses1 = []\n",
    "losses1_test = []\n",
    "\n",
    "for t in range(500):                # 500 iterations\n",
    "\n",
    "    # Forward pass: compute prediction on training set\n",
    "    y_pred = model1(X_train)\n",
    "\n",
    "    # Compute loss\n",
    "    loss = criterion(y_pred, y_train)\n",
    "    print(t, loss.item())\n",
    "    losses1.append(loss.item())\n",
    "    if torch.isnan(loss):\n",
    "        break\n",
    "\n",
    "    # Compute gradient\n",
    "    optimizer.zero_grad()\n",
    "    loss.backward()\n",
    "\n",
    "    # Update\n",
    "    optimizer.step()\n",
    "\n",
    "    # Compute loss on test set\n",
    "    losses1_test.append(criterion(model1(X_test), y_test).item())"
   ],
   "metadata": {
    "collapsed": false,
    "ExecuteTime": {
     "end_time": "2024-03-07T14:28:50.415711Z",
     "start_time": "2024-03-07T14:28:46.888627Z"
    }
   },
   "id": "7c3e4f110f80d2f2",
   "execution_count": 81
  },
  {
   "cell_type": "markdown",
   "source": [
    "Let's visualize the evolution of the MSE on the training set and test set:"
   ],
   "metadata": {
    "collapsed": false
   },
   "id": "2f0598c8fafa27c1"
  },
  {
   "cell_type": "code",
   "outputs": [
    {
     "data": {
      "text/plain": "<Figure size 600x400 with 1 Axes>",
      "image/png": "[encoded data removed]"
     },
     "metadata": {},
     "output_type": "display_data"
    }
   ],
   "source": [
    "# Plot training and test loss\n",
    "plt.figure(figsize=(6, 4))\n",
    "plt.plot(losses1, label=\"Training loss\")\n",
    "plt.plot(losses1_test, label=\"Test loss\")\n",
    "plt.title('Evolution of training and test loss - 500 neurons')\n",
    "plt.ylim(top=70, bottom=0.0)\n",
    "plt.legend()\n",
    "plt.show()"
   ],
   "metadata": {
    "collapsed": false,
    "ExecuteTime": {
     "end_time": "2024-03-07T14:28:50.544803Z",
     "start_time": "2024-03-07T14:28:50.415711Z"
    }
   },
   "id": "5619faf6ceba7c46",
   "execution_count": 82
  },
  {
   "cell_type": "markdown",
   "source": [
    "Now let's try a new model with more neurons in the hidden layer. We use 1000 neurons, and follow the same steps as before:"
   ],
   "metadata": {
    "collapsed": false
   },
   "id": "1771e9215828bc0"
  },
  {
   "cell_type": "code",
   "outputs": [],
   "source": [
    "model2 = Net(D_in, 1000, D_out)"
   ],
   "metadata": {
    "collapsed": false,
    "ExecuteTime": {
     "end_time": "2024-03-07T14:28:50.549750Z",
     "start_time": "2024-03-07T14:28:50.545943Z"
    }
   },
   "id": "34eda8ae9dcda491",
   "execution_count": 83
  },
  {
   "cell_type": "code",
   "outputs": [],
   "source": [
    "# MSE loss\n",
    "criterion = nn.MSELoss(reduction='sum')\n",
    "# SGD optimizer for finding the weights of the network\n",
    "optimizer = torch.optim.SGD(model2.parameters(), lr=1e-4)"
   ],
   "metadata": {
    "collapsed": false,
    "ExecuteTime": {
     "end_time": "2024-03-07T14:28:50.558Z",
     "start_time": "2024-03-07T14:28:50.550755Z"
    }
   },
   "id": "c5a5bd75d07d31cf",
   "execution_count": 84
  },
  {
   "cell_type": "code",
   "outputs": [],
   "source": [
    "losses2 = []\n",
    "\n",
    "for t in range(500):\n",
    "    y_pred = model2(X_train)\n",
    "\n",
    "    loss = criterion(y_pred, y_train)\n",
    "    losses2.append(loss.item())\n",
    "\n",
    "    if torch.isnan(loss):\n",
    "        break\n",
    "\n",
    "    optimizer.zero_grad()\n",
    "    loss.backward()\n",
    "    optimizer.step()"
   ],
   "metadata": {
    "collapsed": false,
    "ExecuteTime": {
     "end_time": "2024-03-07T14:28:53.616015Z",
     "start_time": "2024-03-07T14:28:50.560005Z"
    }
   },
   "id": "d516f3bcd9f04411",
   "execution_count": 85
  },
  {
   "cell_type": "markdown",
   "source": [
    "Let's visualize the evolution of the training loss for the two models:"
   ],
   "metadata": {
    "collapsed": false
   },
   "id": "a0da57191a92ee7f"
  },
  {
   "cell_type": "code",
   "outputs": [
    {
     "data": {
      "text/plain": "<Figure size 600x400 with 1 Axes>",
      "image/png": "[encoded data removed]"
     },
     "metadata": {},
     "output_type": "display_data"
    }
   ],
   "source": [
    "# Plot training and test loss\n",
    "plt.figure(figsize=(6, 4))\n",
    "plt.plot(losses1, label=\"Model 1: 500 neurons\")\n",
    "plt.plot(losses2, label=\"Model 2: 1000 neurons\")\n",
    "plt.title('Evolution of training loss')\n",
    "plt.ylim(top=70, bottom=0.0)\n",
    "plt.legend()\n",
    "plt.show()"
   ],
   "metadata": {
    "collapsed": false,
    "ExecuteTime": {
     "end_time": "2024-03-07T14:28:53.737399Z",
     "start_time": "2024-03-07T14:28:53.616015Z"
    }
   },
   "id": "e60b7efb311014c8",
   "execution_count": 86
  },
  {
   "cell_type": "markdown",
   "source": [
    "Let's compare the MSE loss on the test data:"
   ],
   "metadata": {
    "collapsed": false
   },
   "id": "82b0820c039e83f"
  },
  {
   "cell_type": "code",
   "outputs": [
    {
     "name": "stdout",
     "output_type": "stream",
     "text": [
      "MSE loss for model 1:  tensor(0.2700, grad_fn=<MseLossBackward0>)\n",
      "MSE loss for model 2:  tensor(0.3752, grad_fn=<MseLossBackward0>)\n"
     ]
    }
   ],
   "source": [
    "# prediction for model 1\n",
    "model1_pred = model1(X_test)\n",
    "print(\"MSE loss for model 1: \", criterion(model1_pred, y_test))\n",
    "# prediction for model 2\n",
    "model2_pred = model2(X_test)\n",
    "print(\"MSE loss for model 2: \", criterion(model2_pred, y_test))"
   ],
   "metadata": {
    "collapsed": false,
    "ExecuteTime": {
     "end_time": "2024-03-07T14:28:53.745870Z",
     "start_time": "2024-03-07T14:28:53.738403Z"
    }
   },
   "id": "dc66311c7ac719dd",
   "execution_count": 87
  },
  {
   "cell_type": "markdown",
   "source": [
    "## Assignment: Predict the streams of a song with a 2 layer neural network"
   ],
   "metadata": {
    "collapsed": false
   },
   "id": "a68442daee064ede"
  },
  {
   "cell_type": "markdown",
   "source": [
    "Based on this dataset ([link](https://raw.githubusercontent.com/michalis0/DataScience_and_MachineLearning/master/Week_5/data/spotify.csv)) imported from kaggle, create a Neural Network that will predict the streams of a song based on its bpm, key, danceability, valence, energy, acousticness, instrumentalness, liveness, and speechiness. (Hint: if there are some errors, try to copy/paste them in Google to see some solutions.)"
   ],
   "metadata": {
    "collapsed": false
   },
   "id": "d934572cdf8769db"
  },
  {
   "cell_type": "code",
   "outputs": [
    {
     "data": {
      "text/plain": "                    track_name  artist(s)_name  artist_count  released_year  \\\n0                         LALA     Myke Towers           1.0         2023.0   \n1                      vampire  Olivia Rodrigo           1.0         2023.0   \n2                 Cruel Summer    Taylor Swift           1.0         2019.0   \n3               WHERE SHE GOES       Bad Bunny           1.0         2023.0   \n4                     Columbia         Quevedo           1.0         2023.0   \n..                         ...             ...           ...            ...   \n435            BackOutsideBoyz           Drake           1.0         2022.0   \n436              The Great War    Taylor Swift           1.0         2022.0   \n437               My Mind & Me    Selena Gomez           1.0         2022.0   \n438  Bigger Than The Whole Sky    Taylor Swift           1.0         2022.0   \n439                      Alone       Burna Boy           1.0         2022.0   \n\n     released_month  released_day  in_spotify_playlists  in_spotify_charts  \\\n0               3.0          23.0                1474.0               48.0   \n1               6.0          30.0                1397.0              113.0   \n2               8.0          23.0                7858.0              100.0   \n3               5.0          18.0                3133.0               50.0   \n4               7.0           7.0                 714.0               43.0   \n..              ...           ...                   ...                ...   \n435            11.0           4.0                1045.0                0.0   \n436            10.0          21.0                1274.0                0.0   \n437            11.0           3.0                 953.0                0.0   \n438            10.0          21.0                1180.0                0.0   \n439            11.0           4.0                 782.0                2.0   \n\n         streams  in_apple_playlists  ...    bpm  key   mode  danceability_%  \\\n0    133716286.0                48.0  ...   92.0   C#  Major            71.0   \n1    140003974.0                94.0  ...  138.0    F  Major            51.0   \n2    800840817.0               116.0  ...  170.0    A  Major            55.0   \n3    303236322.0                84.0  ...  144.0    A  Minor            65.0   \n4     58149378.0                25.0  ...  100.0    F  Major            67.0   \n..           ...                 ...  ...    ...  ...    ...             ...   \n435   93367537.0                 8.0  ...  142.0    F  Minor            85.0   \n436  181382590.0                 1.0  ...   96.0    F  Major            57.0   \n437   91473363.0                61.0  ...  144.0    A  Major            60.0   \n438  121871870.0                 4.0  ...  166.0   F#  Major            42.0   \n439   96007391.0                27.0  ...   90.0    E  Minor            61.0   \n\n     valence_% energy_% acousticness_%  instrumentalness_%  liveness_%  \\\n0         61.0     74.0            7.0                 0.0        10.0   \n1         32.0     53.0           17.0                 0.0        31.0   \n2         58.0     72.0           11.0                 0.0        11.0   \n3         23.0     80.0           14.0                63.0        11.0   \n4         26.0     71.0           37.0                 0.0        11.0   \n..         ...      ...            ...                 ...         ...   \n435       40.0     43.0            4.0                 0.0        39.0   \n436       55.0     74.0           22.0                 0.0         8.0   \n437       24.0     39.0           57.0                 0.0         8.0   \n438        7.0     24.0           83.0                 1.0        12.0   \n439       32.0     67.0           15.0                 0.0        11.0   \n\n     speechiness_%  \n0              4.0  \n1              6.0  \n2             15.0  \n3              6.0  \n4              4.0  \n..             ...  \n435           32.0  \n436            4.0  \n437            3.0  \n438            6.0  \n439            5.0  \n\n[440 rows x 24 columns]",
      "text/html": "<div>\n<style scoped>\n    .dataframe tbody tr th:only-of-type {\n        vertical-align: middle;\n    }\n\n    .dataframe tbody tr th {\n        vertical-align: top;\n    }\n\n    .dataframe thead th {\n        text-align: right;\n    }\n</style>\n<table border=\"1\" class=\"dataframe\">\n  <thead>\n    <tr style=\"text-align: right;\">\n      <th></th>\n      <th>track_name</th>\n      <th>artist(s)_name</th>\n      <th>artist_count</th>\n      <th>released_year</th>\n      <th>released_month</th>\n      <th>released_day</th>\n      <th>in_spotify_playlists</th>\n      <th>in_spotify_charts</th>\n      <th>streams</th>\n      <th>in_apple_playlists</th>\n      <th>...</th>\n      <th>bpm</th>\n      <th>key</th>\n      <th>mode</th>\n      <th>danceability_%</th>\n      <th>valence_%</th>\n      <th>energy_%</th>\n      <th>acousticness_%</th>\n      <th>instrumentalness_%</th>\n      <th>liveness_%</th>\n      <th>speechiness_%</th>\n    </tr>\n  </thead>\n  <tbody>\n    <tr>\n      <th>0</th>\n      <td>LALA</td>\n      <td>Myke Towers</td>\n      <td>1.0</td>\n      <td>2023.0</td>\n      <td>3.0</td>\n      <td>23.0</td>\n      <td>1474.0</td>\n      <td>48.0</td>\n      <td>133716286.0</td>\n      <td>48.0</td>\n      <td>...</td>\n      <td>92.0</td>\n      <td>C#</td>\n      <td>Major</td>\n      <td>71.0</td>\n      <td>61.0</td>\n      <td>74.0</td>\n      <td>7.0</td>\n      <td>0.0</td>\n      <td>10.0</td>\n      <td>4.0</td>\n    </tr>\n    <tr>\n      <th>1</th>\n      <td>vampire</td>\n      <td>Olivia Rodrigo</td>\n      <td>1.0</td>\n      <td>2023.0</td>\n      <td>6.0</td>\n      <td>30.0</td>\n      <td>1397.0</td>\n      <td>113.0</td>\n      <td>140003974.0</td>\n      <td>94.0</td>\n      <td>...</td>\n      <td>138.0</td>\n      <td>F</td>\n      <td>Major</td>\n      <td>51.0</td>\n      <td>32.0</td>\n      <td>53.0</td>\n      <td>17.0</td>\n      <td>0.0</td>\n      <td>31.0</td>\n      <td>6.0</td>\n    </tr>\n    <tr>\n      <th>2</th>\n      <td>Cruel Summer</td>\n      <td>Taylor Swift</td>\n      <td>1.0</td>\n      <td>2019.0</td>\n      <td>8.0</td>\n      <td>23.0</td>\n      <td>7858.0</td>\n      <td>100.0</td>\n      <td>800840817.0</td>\n      <td>116.0</td>\n      <td>...</td>\n      <td>170.0</td>\n      <td>A</td>\n      <td>Major</td>\n      <td>55.0</td>\n      <td>58.0</td>\n      <td>72.0</td>\n      <td>11.0</td>\n      <td>0.0</td>\n      <td>11.0</td>\n      <td>15.0</td>\n    </tr>\n    <tr>\n      <th>3</th>\n      <td>WHERE SHE GOES</td>\n      <td>Bad Bunny</td>\n      <td>1.0</td>\n      <td>2023.0</td>\n      <td>5.0</td>\n      <td>18.0</td>\n      <td>3133.0</td>\n      <td>50.0</td>\n      <td>303236322.0</td>\n      <td>84.0</td>\n      <td>...</td>\n      <td>144.0</td>\n      <td>A</td>\n      <td>Minor</td>\n      <td>65.0</td>\n      <td>23.0</td>\n      <td>80.0</td>\n      <td>14.0</td>\n      <td>63.0</td>\n      <td>11.0</td>\n      <td>6.0</td>\n    </tr>\n    <tr>\n      <th>4</th>\n      <td>Columbia</td>\n      <td>Quevedo</td>\n      <td>1.0</td>\n      <td>2023.0</td>\n      <td>7.0</td>\n      <td>7.0</td>\n      <td>714.0</td>\n      <td>43.0</td>\n      <td>58149378.0</td>\n      <td>25.0</td>\n      <td>...</td>\n      <td>100.0</td>\n      <td>F</td>\n      <td>Major</td>\n      <td>67.0</td>\n      <td>26.0</td>\n      <td>71.0</td>\n      <td>37.0</td>\n      <td>0.0</td>\n      <td>11.0</td>\n      <td>4.0</td>\n    </tr>\n    <tr>\n      <th>...</th>\n      <td>...</td>\n      <td>...</td>\n      <td>...</td>\n      <td>...</td>\n      <td>...</td>\n      <td>...</td>\n      <td>...</td>\n      <td>...</td>\n      <td>...</td>\n      <td>...</td>\n      <td>...</td>\n      <td>...</td>\n      <td>...</td>\n      <td>...</td>\n      <td>...</td>\n      <td>...</td>\n      <td>...</td>\n      <td>...</td>\n      <td>...</td>\n      <td>...</td>\n      <td>...</td>\n    </tr>\n    <tr>\n      <th>435</th>\n      <td>BackOutsideBoyz</td>\n      <td>Drake</td>\n      <td>1.0</td>\n      <td>2022.0</td>\n      <td>11.0</td>\n      <td>4.0</td>\n      <td>1045.0</td>\n      <td>0.0</td>\n      <td>93367537.0</td>\n      <td>8.0</td>\n      <td>...</td>\n      <td>142.0</td>\n      <td>F</td>\n      <td>Minor</td>\n      <td>85.0</td>\n      <td>40.0</td>\n      <td>43.0</td>\n      <td>4.0</td>\n      <td>0.0</td>\n      <td>39.0</td>\n      <td>32.0</td>\n    </tr>\n    <tr>\n      <th>436</th>\n      <td>The Great War</td>\n      <td>Taylor Swift</td>\n      <td>1.0</td>\n      <td>2022.0</td>\n      <td>10.0</td>\n      <td>21.0</td>\n      <td>1274.0</td>\n      <td>0.0</td>\n      <td>181382590.0</td>\n      <td>1.0</td>\n      <td>...</td>\n      <td>96.0</td>\n      <td>F</td>\n      <td>Major</td>\n      <td>57.0</td>\n      <td>55.0</td>\n      <td>74.0</td>\n      <td>22.0</td>\n      <td>0.0</td>\n      <td>8.0</td>\n      <td>4.0</td>\n    </tr>\n    <tr>\n      <th>437</th>\n      <td>My Mind &amp; Me</td>\n      <td>Selena Gomez</td>\n      <td>1.0</td>\n      <td>2022.0</td>\n      <td>11.0</td>\n      <td>3.0</td>\n      <td>953.0</td>\n      <td>0.0</td>\n      <td>91473363.0</td>\n      <td>61.0</td>\n      <td>...</td>\n      <td>144.0</td>\n      <td>A</td>\n      <td>Major</td>\n      <td>60.0</td>\n      <td>24.0</td>\n      <td>39.0</td>\n      <td>57.0</td>\n      <td>0.0</td>\n      <td>8.0</td>\n      <td>3.0</td>\n    </tr>\n    <tr>\n      <th>438</th>\n      <td>Bigger Than The Whole Sky</td>\n      <td>Taylor Swift</td>\n      <td>1.0</td>\n      <td>2022.0</td>\n      <td>10.0</td>\n      <td>21.0</td>\n      <td>1180.0</td>\n      <td>0.0</td>\n      <td>121871870.0</td>\n      <td>4.0</td>\n      <td>...</td>\n      <td>166.0</td>\n      <td>F#</td>\n      <td>Major</td>\n      <td>42.0</td>\n      <td>7.0</td>\n      <td>24.0</td>\n      <td>83.0</td>\n      <td>1.0</td>\n      <td>12.0</td>\n      <td>6.0</td>\n    </tr>\n    <tr>\n      <th>439</th>\n      <td>Alone</td>\n      <td>Burna Boy</td>\n      <td>1.0</td>\n      <td>2022.0</td>\n      <td>11.0</td>\n      <td>4.0</td>\n      <td>782.0</td>\n      <td>2.0</td>\n      <td>96007391.0</td>\n      <td>27.0</td>\n      <td>...</td>\n      <td>90.0</td>\n      <td>E</td>\n      <td>Minor</td>\n      <td>61.0</td>\n      <td>32.0</td>\n      <td>67.0</td>\n      <td>15.0</td>\n      <td>0.0</td>\n      <td>11.0</td>\n      <td>5.0</td>\n    </tr>\n  </tbody>\n</table>\n<p>440 rows × 24 columns</p>\n</div>"
     },
     "metadata": {},
     "output_type": "display_data"
    }
   ],
   "source": [
    "#import the dataset\n",
    "df_lab = pd.read_csv(\"https://raw.githubusercontent.com/JasminaZHAW/MLDM2/main/labs/data/spotify.csv\", encoding='latin-1', index_col=\"Unnamed: 0\")\n",
    "display(df_lab)"
   ],
   "metadata": {
    "collapsed": false,
    "ExecuteTime": {
     "end_time": "2024-03-07T16:27:33.467365Z",
     "start_time": "2024-03-07T16:27:32.888815Z"
    }
   },
   "id": "156a2be971524213",
   "execution_count": 225
  },
  {
   "cell_type": "code",
   "outputs": [
    {
     "data": {
      "text/plain": "       artist_count  released_year  released_month  released_day  \\\ncount         440.0     440.000000      440.000000    440.000000   \nmean            1.0    2018.684091        6.138636     14.004545   \nstd             0.0      10.697656        3.548731      8.800237   \nmin             1.0    1946.000000        1.000000      1.000000   \n25%             1.0    2021.000000        3.000000      7.000000   \n50%             1.0    2022.000000        5.000000     13.000000   \n75%             1.0    2022.000000       10.000000     21.000000   \nmax             1.0    2023.000000       12.000000     31.000000   \n\n       in_spotify_playlists  in_spotify_charts       streams  \\\ncount            440.000000         440.000000  4.400000e+02   \nmean            3236.029545          10.113636  3.874878e+08   \nstd             3841.260718          17.196328  3.557656e+08   \nmin               31.000000           0.000000  1.478042e+07   \n25%              814.750000           0.000000  1.452400e+08   \n50%             1989.000000           2.000000  2.609975e+08   \n75%             3949.250000          12.250000  4.998680e+08   \nmax            29499.000000         113.000000  2.288695e+09   \n\n       in_apple_playlists  in_apple_charts  in_deezer_playlists  \\\ncount          440.000000       440.000000           440.000000   \nmean            48.081818        47.927273           102.484091   \nstd             52.561777        48.972720           168.128110   \nmin              0.000000         0.000000             0.000000   \n25%             11.000000         6.000000            12.000000   \n50%             28.500000        31.000000            34.500000   \n75%             68.000000        82.000000           110.750000   \nmax            258.000000       275.000000           964.000000   \n\n       in_deezer_charts  in_shazam_charts         bpm  danceability_%  \\\ncount        440.000000        440.000000  440.000000      440.000000   \nmean           1.943182         49.640909  124.277273       64.713636   \nstd            4.579736        125.918993   29.224376       14.922268   \nmin            0.000000          0.000000   65.000000       24.000000   \n25%            0.000000          0.000000  100.000000       54.750000   \n50%            0.000000          2.000000  121.500000       66.000000   \n75%            1.000000         30.000000  144.000000       75.000000   \nmax           38.000000        953.000000  206.000000       95.000000   \n\n        valence_%    energy_%  acousticness_%  instrumentalness_%  liveness_%  \\\ncount  440.000000  440.000000      440.000000          440.000000  440.000000   \nmean    48.788636   62.200000       28.395455            2.413636   17.747727   \nstd     23.992375   16.970053       27.245245           10.806933   12.778915   \nmin      4.000000   14.000000        0.000000            0.000000    3.000000   \n25%     29.000000   50.000000        6.000000            0.000000   10.000000   \n50%     48.000000   62.500000       18.000000            0.000000   12.000000   \n75%     67.000000   76.000000       46.000000            0.000000   22.000000   \nmax     97.000000   97.000000       97.000000           91.000000   83.000000   \n\n       speechiness_%  \ncount     440.000000  \nmean        9.372727  \nstd         9.182145  \nmin         3.000000  \n25%         4.000000  \n50%         5.000000  \n75%        10.000000  \nmax        46.000000  ",
      "text/html": "<div>\n<style scoped>\n    .dataframe tbody tr th:only-of-type {\n        vertical-align: middle;\n    }\n\n    .dataframe tbody tr th {\n        vertical-align: top;\n    }\n\n    .dataframe thead th {\n        text-align: right;\n    }\n</style>\n<table border=\"1\" class=\"dataframe\">\n  <thead>\n    <tr style=\"text-align: right;\">\n      <th></th>\n      <th>artist_count</th>\n      <th>released_year</th>\n      <th>released_month</th>\n      <th>released_day</th>\n      <th>in_spotify_playlists</th>\n      <th>in_spotify_charts</th>\n      <th>streams</th>\n      <th>in_apple_playlists</th>\n      <th>in_apple_charts</th>\n      <th>in_deezer_playlists</th>\n      <th>in_deezer_charts</th>\n      <th>in_shazam_charts</th>\n      <th>bpm</th>\n      <th>danceability_%</th>\n      <th>valence_%</th>\n      <th>energy_%</th>\n      <th>acousticness_%</th>\n      <th>instrumentalness_%</th>\n      <th>liveness_%</th>\n      <th>speechiness_%</th>\n    </tr>\n  </thead>\n  <tbody>\n    <tr>\n      <th>count</th>\n      <td>440.0</td>\n      <td>440.000000</td>\n      <td>440.000000</td>\n      <td>440.000000</td>\n      <td>440.000000</td>\n      <td>440.000000</td>\n      <td>4.400000e+02</td>\n      <td>440.000000</td>\n      <td>440.000000</td>\n      <td>440.000000</td>\n      <td>440.000000</td>\n      <td>440.000000</td>\n      <td>440.000000</td>\n      <td>440.000000</td>\n      <td>440.000000</td>\n      <td>440.000000</td>\n      <td>440.000000</td>\n      <td>440.000000</td>\n      <td>440.000000</td>\n      <td>440.000000</td>\n    </tr>\n    <tr>\n      <th>mean</th>\n      <td>1.0</td>\n      <td>2018.684091</td>\n      <td>6.138636</td>\n      <td>14.004545</td>\n      <td>3236.029545</td>\n      <td>10.113636</td>\n      <td>3.874878e+08</td>\n      <td>48.081818</td>\n      <td>47.927273</td>\n      <td>102.484091</td>\n      <td>1.943182</td>\n      <td>49.640909</td>\n      <td>124.277273</td>\n      <td>64.713636</td>\n      <td>48.788636</td>\n      <td>62.200000</td>\n      <td>28.395455</td>\n      <td>2.413636</td>\n      <td>17.747727</td>\n      <td>9.372727</td>\n    </tr>\n    <tr>\n      <th>std</th>\n      <td>0.0</td>\n      <td>10.697656</td>\n      <td>3.548731</td>\n      <td>8.800237</td>\n      <td>3841.260718</td>\n      <td>17.196328</td>\n      <td>3.557656e+08</td>\n      <td>52.561777</td>\n      <td>48.972720</td>\n      <td>168.128110</td>\n      <td>4.579736</td>\n      <td>125.918993</td>\n      <td>29.224376</td>\n      <td>14.922268</td>\n      <td>23.992375</td>\n      <td>16.970053</td>\n      <td>27.245245</td>\n      <td>10.806933</td>\n      <td>12.778915</td>\n      <td>9.182145</td>\n    </tr>\n    <tr>\n      <th>min</th>\n      <td>1.0</td>\n      <td>1946.000000</td>\n      <td>1.000000</td>\n      <td>1.000000</td>\n      <td>31.000000</td>\n      <td>0.000000</td>\n      <td>1.478042e+07</td>\n      <td>0.000000</td>\n      <td>0.000000</td>\n      <td>0.000000</td>\n      <td>0.000000</td>\n      <td>0.000000</td>\n      <td>65.000000</td>\n      <td>24.000000</td>\n      <td>4.000000</td>\n      <td>14.000000</td>\n      <td>0.000000</td>\n      <td>0.000000</td>\n      <td>3.000000</td>\n      <td>3.000000</td>\n    </tr>\n    <tr>\n      <th>25%</th>\n      <td>1.0</td>\n      <td>2021.000000</td>\n      <td>3.000000</td>\n      <td>7.000000</td>\n      <td>814.750000</td>\n      <td>0.000000</td>\n      <td>1.452400e+08</td>\n      <td>11.000000</td>\n      <td>6.000000</td>\n      <td>12.000000</td>\n      <td>0.000000</td>\n      <td>0.000000</td>\n      <td>100.000000</td>\n      <td>54.750000</td>\n      <td>29.000000</td>\n      <td>50.000000</td>\n      <td>6.000000</td>\n      <td>0.000000</td>\n      <td>10.000000</td>\n      <td>4.000000</td>\n    </tr>\n    <tr>\n      <th>50%</th>\n      <td>1.0</td>\n      <td>2022.000000</td>\n      <td>5.000000</td>\n      <td>13.000000</td>\n      <td>1989.000000</td>\n      <td>2.000000</td>\n      <td>2.609975e+08</td>\n      <td>28.500000</td>\n      <td>31.000000</td>\n      <td>34.500000</td>\n      <td>0.000000</td>\n      <td>2.000000</td>\n      <td>121.500000</td>\n      <td>66.000000</td>\n      <td>48.000000</td>\n      <td>62.500000</td>\n      <td>18.000000</td>\n      <td>0.000000</td>\n      <td>12.000000</td>\n      <td>5.000000</td>\n    </tr>\n    <tr>\n      <th>75%</th>\n      <td>1.0</td>\n      <td>2022.000000</td>\n      <td>10.000000</td>\n      <td>21.000000</td>\n      <td>3949.250000</td>\n      <td>12.250000</td>\n      <td>4.998680e+08</td>\n      <td>68.000000</td>\n      <td>82.000000</td>\n      <td>110.750000</td>\n      <td>1.000000</td>\n      <td>30.000000</td>\n      <td>144.000000</td>\n      <td>75.000000</td>\n      <td>67.000000</td>\n      <td>76.000000</td>\n      <td>46.000000</td>\n      <td>0.000000</td>\n      <td>22.000000</td>\n      <td>10.000000</td>\n    </tr>\n    <tr>\n      <th>max</th>\n      <td>1.0</td>\n      <td>2023.000000</td>\n      <td>12.000000</td>\n      <td>31.000000</td>\n      <td>29499.000000</td>\n      <td>113.000000</td>\n      <td>2.288695e+09</td>\n      <td>258.000000</td>\n      <td>275.000000</td>\n      <td>964.000000</td>\n      <td>38.000000</td>\n      <td>953.000000</td>\n      <td>206.000000</td>\n      <td>95.000000</td>\n      <td>97.000000</td>\n      <td>97.000000</td>\n      <td>97.000000</td>\n      <td>91.000000</td>\n      <td>83.000000</td>\n      <td>46.000000</td>\n    </tr>\n  </tbody>\n</table>\n</div>"
     },
     "execution_count": 226,
     "metadata": {},
     "output_type": "execute_result"
    }
   ],
   "source": [
    "df_lab.describe()"
   ],
   "metadata": {
    "collapsed": false,
    "ExecuteTime": {
     "end_time": "2024-03-07T16:27:35.573412Z",
     "start_time": "2024-03-07T16:27:35.542399Z"
    }
   },
   "id": "9311e90a5690fb4a",
   "execution_count": 226
  },
  {
   "cell_type": "code",
   "outputs": [
    {
     "data": {
      "text/plain": "                                              streams  in_spotify_playlists  \\\nindex                                                                         \nLALA - Myke Towers                        133716286.0                1474.0   \nvampire - Olivia Rodrigo                  140003974.0                1397.0   \nCruel Summer - Taylor Swift               800840817.0                7858.0   \nWHERE SHE GOES - Bad Bunny                303236322.0                3133.0   \nColumbia - Quevedo                         58149378.0                 714.0   \n...                                               ...                   ...   \nBackOutsideBoyz - Drake                    93367537.0                1045.0   \nThe Great War - Taylor Swift              181382590.0                1274.0   \nMy Mind & Me - Selena Gomez                91473363.0                 953.0   \nBigger Than The Whole Sky - Taylor Swift  121871870.0                1180.0   \nAlone - Burna Boy                          96007391.0                 782.0   \n\n                                          in_spotify_charts  \\\nindex                                                         \nLALA - Myke Towers                                     48.0   \nvampire - Olivia Rodrigo                              113.0   \nCruel Summer - Taylor Swift                           100.0   \nWHERE SHE GOES - Bad Bunny                             50.0   \nColumbia - Quevedo                                     43.0   \n...                                                     ...   \nBackOutsideBoyz - Drake                                 0.0   \nThe Great War - Taylor Swift                            0.0   \nMy Mind & Me - Selena Gomez                             0.0   \nBigger Than The Whole Sky - Taylor Swift                0.0   \nAlone - Burna Boy                                       2.0   \n\n                                          in_apple_playlists  in_apple_charts  \\\nindex                                                                           \nLALA - Myke Towers                                      48.0            126.0   \nvampire - Olivia Rodrigo                                94.0            207.0   \nCruel Summer - Taylor Swift                            116.0            207.0   \nWHERE SHE GOES - Bad Bunny                              84.0            133.0   \nColumbia - Quevedo                                      25.0             89.0   \n...                                                      ...              ...   \nBackOutsideBoyz - Drake                                  8.0              5.0   \nThe Great War - Taylor Swift                             1.0              6.0   \nMy Mind & Me - Selena Gomez                             61.0             13.0   \nBigger Than The Whole Sky - Taylor Swift                 4.0              0.0   \nAlone - Burna Boy                                       27.0             18.0   \n\n                                          in_deezer_playlists  \\\nindex                                                           \nLALA - Myke Towers                                       58.0   \nvampire - Olivia Rodrigo                                 91.0   \nCruel Summer - Taylor Swift                             125.0   \nWHERE SHE GOES - Bad Bunny                               87.0   \nColumbia - Quevedo                                       30.0   \n...                                                       ...   \nBackOutsideBoyz - Drake                                   2.0   \nThe Great War - Taylor Swift                             11.0   \nMy Mind & Me - Selena Gomez                              37.0   \nBigger Than The Whole Sky - Taylor Swift                  8.0   \nAlone - Burna Boy                                        32.0   \n\n                                          in_deezer_charts  in_shazam_charts  \\\nindex                                                                          \nLALA - Myke Towers                                    14.0             382.0   \nvampire - Olivia Rodrigo                              14.0             949.0   \nCruel Summer - Taylor Swift                           12.0             548.0   \nWHERE SHE GOES - Bad Bunny                            15.0             425.0   \nColumbia - Quevedo                                    13.0             194.0   \n...                                                    ...               ...   \nBackOutsideBoyz - Drake                                0.0               0.0   \nThe Great War - Taylor Swift                           0.0               0.0   \nMy Mind & Me - Selena Gomez                            1.0               0.0   \nBigger Than The Whole Sky - Taylor Swift               0.0               0.0   \nAlone - Burna Boy                                      1.0               0.0   \n\n                                          danceability_%  valence_%  energy_%  \\\nindex                                                                           \nLALA - Myke Towers                                  71.0       61.0      74.0   \nvampire - Olivia Rodrigo                            51.0       32.0      53.0   \nCruel Summer - Taylor Swift                         55.0       58.0      72.0   \nWHERE SHE GOES - Bad Bunny                          65.0       23.0      80.0   \nColumbia - Quevedo                                  67.0       26.0      71.0   \n...                                                  ...        ...       ...   \nBackOutsideBoyz - Drake                             85.0       40.0      43.0   \nThe Great War - Taylor Swift                        57.0       55.0      74.0   \nMy Mind & Me - Selena Gomez                         60.0       24.0      39.0   \nBigger Than The Whole Sky - Taylor Swift            42.0        7.0      24.0   \nAlone - Burna Boy                                   61.0       32.0      67.0   \n\n                                          acousticness_%  instrumentalness_%  \\\nindex                                                                          \nLALA - Myke Towers                                   7.0                 0.0   \nvampire - Olivia Rodrigo                            17.0                 0.0   \nCruel Summer - Taylor Swift                         11.0                 0.0   \nWHERE SHE GOES - Bad Bunny                          14.0                63.0   \nColumbia - Quevedo                                  37.0                 0.0   \n...                                                  ...                 ...   \nBackOutsideBoyz - Drake                              4.0                 0.0   \nThe Great War - Taylor Swift                        22.0                 0.0   \nMy Mind & Me - Selena Gomez                         57.0                 0.0   \nBigger Than The Whole Sky - Taylor Swift            83.0                 1.0   \nAlone - Burna Boy                                   15.0                 0.0   \n\n                                          liveness_%  speechiness_%  \nindex                                                                \nLALA - Myke Towers                              10.0            4.0  \nvampire - Olivia Rodrigo                        31.0            6.0  \nCruel Summer - Taylor Swift                     11.0           15.0  \nWHERE SHE GOES - Bad Bunny                      11.0            6.0  \nColumbia - Quevedo                              11.0            4.0  \n...                                              ...            ...  \nBackOutsideBoyz - Drake                         39.0           32.0  \nThe Great War - Taylor Swift                     8.0            4.0  \nMy Mind & Me - Selena Gomez                      8.0            3.0  \nBigger Than The Whole Sky - Taylor Swift        12.0            6.0  \nAlone - Burna Boy                               11.0            5.0  \n\n[440 rows x 15 columns]",
      "text/html": "<div>\n<style scoped>\n    .dataframe tbody tr th:only-of-type {\n        vertical-align: middle;\n    }\n\n    .dataframe tbody tr th {\n        vertical-align: top;\n    }\n\n    .dataframe thead th {\n        text-align: right;\n    }\n</style>\n<table border=\"1\" class=\"dataframe\">\n  <thead>\n    <tr style=\"text-align: right;\">\n      <th></th>\n      <th>streams</th>\n      <th>in_spotify_playlists</th>\n      <th>in_spotify_charts</th>\n      <th>in_apple_playlists</th>\n      <th>in_apple_charts</th>\n      <th>in_deezer_playlists</th>\n      <th>in_deezer_charts</th>\n      <th>in_shazam_charts</th>\n      <th>danceability_%</th>\n      <th>valence_%</th>\n      <th>energy_%</th>\n      <th>acousticness_%</th>\n      <th>instrumentalness_%</th>\n      <th>liveness_%</th>\n      <th>speechiness_%</th>\n    </tr>\n    <tr>\n      <th>index</th>\n      <th></th>\n      <th></th>\n      <th></th>\n      <th></th>\n      <th></th>\n      <th></th>\n      <th></th>\n      <th></th>\n      <th></th>\n      <th></th>\n      <th></th>\n      <th></th>\n      <th></th>\n      <th></th>\n      <th></th>\n    </tr>\n  </thead>\n  <tbody>\n    <tr>\n      <th>LALA - Myke Towers</th>\n      <td>133716286.0</td>\n      <td>1474.0</td>\n      <td>48.0</td>\n      <td>48.0</td>\n      <td>126.0</td>\n      <td>58.0</td>\n      <td>14.0</td>\n      <td>382.0</td>\n      <td>71.0</td>\n      <td>61.0</td>\n      <td>74.0</td>\n      <td>7.0</td>\n      <td>0.0</td>\n      <td>10.0</td>\n      <td>4.0</td>\n    </tr>\n    <tr>\n      <th>vampire - Olivia Rodrigo</th>\n      <td>140003974.0</td>\n      <td>1397.0</td>\n      <td>113.0</td>\n      <td>94.0</td>\n      <td>207.0</td>\n      <td>91.0</td>\n      <td>14.0</td>\n      <td>949.0</td>\n      <td>51.0</td>\n      <td>32.0</td>\n      <td>53.0</td>\n      <td>17.0</td>\n      <td>0.0</td>\n      <td>31.0</td>\n      <td>6.0</td>\n    </tr>\n    <tr>\n      <th>Cruel Summer - Taylor Swift</th>\n      <td>800840817.0</td>\n      <td>7858.0</td>\n      <td>100.0</td>\n      <td>116.0</td>\n      <td>207.0</td>\n      <td>125.0</td>\n      <td>12.0</td>\n      <td>548.0</td>\n      <td>55.0</td>\n      <td>58.0</td>\n      <td>72.0</td>\n      <td>11.0</td>\n      <td>0.0</td>\n      <td>11.0</td>\n      <td>15.0</td>\n    </tr>\n    <tr>\n      <th>WHERE SHE GOES - Bad Bunny</th>\n      <td>303236322.0</td>\n      <td>3133.0</td>\n      <td>50.0</td>\n      <td>84.0</td>\n      <td>133.0</td>\n      <td>87.0</td>\n      <td>15.0</td>\n      <td>425.0</td>\n      <td>65.0</td>\n      <td>23.0</td>\n      <td>80.0</td>\n      <td>14.0</td>\n      <td>63.0</td>\n      <td>11.0</td>\n      <td>6.0</td>\n    </tr>\n    <tr>\n      <th>Columbia - Quevedo</th>\n      <td>58149378.0</td>\n      <td>714.0</td>\n      <td>43.0</td>\n      <td>25.0</td>\n      <td>89.0</td>\n      <td>30.0</td>\n      <td>13.0</td>\n      <td>194.0</td>\n      <td>67.0</td>\n      <td>26.0</td>\n      <td>71.0</td>\n      <td>37.0</td>\n      <td>0.0</td>\n      <td>11.0</td>\n      <td>4.0</td>\n    </tr>\n    <tr>\n      <th>...</th>\n      <td>...</td>\n      <td>...</td>\n      <td>...</td>\n      <td>...</td>\n      <td>...</td>\n      <td>...</td>\n      <td>...</td>\n      <td>...</td>\n      <td>...</td>\n      <td>...</td>\n      <td>...</td>\n      <td>...</td>\n      <td>...</td>\n      <td>...</td>\n      <td>...</td>\n    </tr>\n    <tr>\n      <th>BackOutsideBoyz - Drake</th>\n      <td>93367537.0</td>\n      <td>1045.0</td>\n      <td>0.0</td>\n      <td>8.0</td>\n      <td>5.0</td>\n      <td>2.0</td>\n      <td>0.0</td>\n      <td>0.0</td>\n      <td>85.0</td>\n      <td>40.0</td>\n      <td>43.0</td>\n      <td>4.0</td>\n      <td>0.0</td>\n      <td>39.0</td>\n      <td>32.0</td>\n    </tr>\n    <tr>\n      <th>The Great War - Taylor Swift</th>\n      <td>181382590.0</td>\n      <td>1274.0</td>\n      <td>0.0</td>\n      <td>1.0</td>\n      <td>6.0</td>\n      <td>11.0</td>\n      <td>0.0</td>\n      <td>0.0</td>\n      <td>57.0</td>\n      <td>55.0</td>\n      <td>74.0</td>\n      <td>22.0</td>\n      <td>0.0</td>\n      <td>8.0</td>\n      <td>4.0</td>\n    </tr>\n    <tr>\n      <th>My Mind &amp; Me - Selena Gomez</th>\n      <td>91473363.0</td>\n      <td>953.0</td>\n      <td>0.0</td>\n      <td>61.0</td>\n      <td>13.0</td>\n      <td>37.0</td>\n      <td>1.0</td>\n      <td>0.0</td>\n      <td>60.0</td>\n      <td>24.0</td>\n      <td>39.0</td>\n      <td>57.0</td>\n      <td>0.0</td>\n      <td>8.0</td>\n      <td>3.0</td>\n    </tr>\n    <tr>\n      <th>Bigger Than The Whole Sky - Taylor Swift</th>\n      <td>121871870.0</td>\n      <td>1180.0</td>\n      <td>0.0</td>\n      <td>4.0</td>\n      <td>0.0</td>\n      <td>8.0</td>\n      <td>0.0</td>\n      <td>0.0</td>\n      <td>42.0</td>\n      <td>7.0</td>\n      <td>24.0</td>\n      <td>83.0</td>\n      <td>1.0</td>\n      <td>12.0</td>\n      <td>6.0</td>\n    </tr>\n    <tr>\n      <th>Alone - Burna Boy</th>\n      <td>96007391.0</td>\n      <td>782.0</td>\n      <td>2.0</td>\n      <td>27.0</td>\n      <td>18.0</td>\n      <td>32.0</td>\n      <td>1.0</td>\n      <td>0.0</td>\n      <td>61.0</td>\n      <td>32.0</td>\n      <td>67.0</td>\n      <td>15.0</td>\n      <td>0.0</td>\n      <td>11.0</td>\n      <td>5.0</td>\n    </tr>\n  </tbody>\n</table>\n<p>440 rows × 15 columns</p>\n</div>"
     },
     "execution_count": 196,
     "metadata": {},
     "output_type": "execute_result"
    }
   ],
   "source": [
    "# Entfernen nicht benötigter Spalten\n",
    "rem_col = [\"bpm\", \"key\", \"mode\", \"artist_count\", \"released_year\", \"released_month\", \"released_day\"]\n",
    "df_lab.drop(rem_col, axis=1, inplace=True)\n",
    "\n",
    "# Erstellen einer neuen Indexspalte, die track_name und artist(s)_name kombiniert\n",
    "df_lab['index'] = df_lab['track_name'].astype(str) + ' - ' + df_lab['artist(s)_name'].astype(str)\n",
    "\n",
    "# Setzen der neuen Indexspalte als Index\n",
    "df_lab.set_index('index', inplace=True)\n",
    "\n",
    "# Entfernen der nun redundanten Spalten 'track_name' und 'artist(s)_name'\n",
    "df_lab.drop(['track_name', 'artist(s)_name'], axis=1, inplace=True)\n",
    "\n",
    "# Verschieben der 'streams'-Spalte an die erste Position\n",
    "columns = ['streams'] + [col for col in df_lab.columns if col != 'streams']\n",
    "df_lab = df_lab[columns]\n",
    "\n",
    "# Umwandeln der Datentypen in float\n",
    "df_lab = df_lab.astype(float)\n",
    "\n",
    "# Anzeigen des verarbeiteten DataFrames\n",
    "df_lab"
   ],
   "metadata": {
    "collapsed": false,
    "ExecuteTime": {
     "end_time": "2024-03-07T15:06:10.468732Z",
     "start_time": "2024-03-07T15:06:10.446389Z"
    }
   },
   "id": "dab29e47cef587ea",
   "execution_count": 196
  },
  {
   "cell_type": "markdown",
   "source": [
    "Checking the correlation between the streams and the other features,by using the Spearman correlation coefficient for monotonic relationships:"
   ],
   "metadata": {
    "collapsed": false
   },
   "id": "44a00ddd02420161"
  },
  {
   "cell_type": "code",
   "outputs": [
    {
     "data": {
      "text/plain": "streams                 1.000000\nin_spotify_playlists    0.766783\nin_deezer_playlists     0.663648\nin_apple_playlists      0.538531\nin_apple_charts         0.213116\nin_spotify_charts       0.198573\nin_shazam_charts        0.192314\nin_deezer_charts        0.189294\ninstrumentalness_%      0.085614\nacousticness_%          0.024998\ndanceability_%         -0.044244\nliveness_%             -0.060729\nspeechiness_%          -0.082992\nvalence_%              -0.083573\nenergy_%               -0.114480\nName: streams, dtype: float64"
     },
     "execution_count": 212,
     "metadata": {},
     "output_type": "execute_result"
    }
   ],
   "source": [
    "# checking correlation between streams and the other features\n",
    "correlation = df_lab.corr(method=\"spearman\")\n",
    "correlation['streams'].sort_values(ascending=False)"
   ],
   "metadata": {
    "collapsed": false,
    "ExecuteTime": {
     "end_time": "2024-03-07T16:25:33.247372Z",
     "start_time": "2024-03-07T16:25:33.239329Z"
    }
   },
   "id": "f077cb56dbe9a967",
   "execution_count": 212
  },
  {
   "cell_type": "code",
   "outputs": [],
   "source": [
    "# scaling data using MinMaxScaler\n",
    "scaler = MinMaxScaler()\n",
    "scaler.fit(df_lab)\n",
    "df = scaler.transform(df_lab)\n",
    "# split the training/test dataset\n",
    "train, test = train_test_split(df)"
   ],
   "metadata": {
    "collapsed": false,
    "ExecuteTime": {
     "end_time": "2024-03-07T16:25:47.342945Z",
     "start_time": "2024-03-07T16:25:47.335547Z"
    }
   },
   "id": "c58799c3ad40214a",
   "execution_count": 214
  },
  {
   "cell_type": "code",
   "outputs": [],
   "source": [
    "# extract features and output\n",
    "train_y = train[:,0]\n",
    "train_x = train[:,1:]\n",
    "test_y = test[:,0]\n",
    "test_x = test[:,1:]"
   ],
   "metadata": {
    "collapsed": false,
    "ExecuteTime": {
     "end_time": "2024-03-07T16:25:51.415351Z",
     "start_time": "2024-03-07T16:25:51.411663Z"
    }
   },
   "id": "3eca65fcc4fc59ba",
   "execution_count": 215
  },
  {
   "cell_type": "code",
   "outputs": [],
   "source": [
    "# reshape the output to be a column vector\n",
    "train_y = train_y.reshape(-1, 1)\n",
    "test_y = test_y.reshape(-1, 1)"
   ],
   "metadata": {
    "collapsed": false,
    "ExecuteTime": {
     "end_time": "2024-03-07T16:25:53.314287Z",
     "start_time": "2024-03-07T16:25:53.310465Z"
    }
   },
   "id": "5926f179177ae7d5",
   "execution_count": 216
  },
  {
   "cell_type": "code",
   "outputs": [
    {
     "name": "stdout",
     "output_type": "stream",
     "text": [
      "MSE loss for linear regression:  0.009662304539507083\n"
     ]
    }
   ],
   "source": [
    "# testing a linear regression model\n",
    "from sklearn.linear_model import LinearRegression\n",
    "from sklearn.metrics import mean_squared_error\n",
    "\n",
    "# create a model\n",
    "model = LinearRegression()\n",
    "# fit the model\n",
    "model.fit(train_x, train_y)\n",
    "# make predictions\n",
    "y_pred = model.predict(test_x)\n",
    "# calculate the mean squared error\n",
    "print(\"MSE loss for linear regression: \", mean_squared_error(test_y, y_pred))"
   ],
   "metadata": {
    "collapsed": false,
    "ExecuteTime": {
     "end_time": "2024-03-07T16:33:20.176371Z",
     "start_time": "2024-03-07T16:33:19.985067Z"
    }
   },
   "id": "27b4e287c145a45e",
   "execution_count": 227
  },
  {
   "cell_type": "markdown",
   "source": [
    "Now creating a Neural Net class with two hidden layer using the ReLU activation in both of them:"
   ],
   "metadata": {
    "collapsed": false
   },
   "id": "8225b37c38e02cc8"
  },
  {
   "cell_type": "code",
   "outputs": [],
   "source": [
    "# first transform the data into tensor\n",
    "X_train = torch.tensor(train_x, dtype=torch.float)\n",
    "y_train = torch.tensor(train_y, dtype=torch.float)\n",
    "X_test = torch.tensor(test_x, dtype=torch.float)\n",
    "y_test = torch.tensor(test_y, dtype=torch.float)"
   ],
   "metadata": {
    "collapsed": false,
    "ExecuteTime": {
     "end_time": "2024-03-07T16:35:40.546282Z",
     "start_time": "2024-03-07T16:35:40.540152Z"
    }
   },
   "id": "46904ad165c14e5e",
   "execution_count": 228
  },
  {
   "cell_type": "code",
   "outputs": [],
   "source": [
    "class Net(nn.Module):\n",
    "    def __init__(self, D_in, H1, H2, D_out):\n",
    "        super(Net, self).__init__()\n",
    "        self.linear1 = nn.Linear(D_in, H1)        # Linear transformation for hidden layer 1\n",
    "        self.linear2 = nn.Linear(H1, H2)          # Linear transformation for hidden layer 2\n",
    "        self.linear3 = nn.Linear(H2, D_out)       # Linear transformation for output layer\n",
    "        self.activation = nn.ReLU()               # Activation function for hidden layers\n",
    "\n",
    "    def forward(self, x):\n",
    "        y_pred = self.activation(self.linear1(x))  # Hidden layer 1: linear transformation + ReLU\n",
    "        y_pred = self.activation(self.linear2(y_pred))  # Hidden layer 2: linear transformation + ReLU\n",
    "        y_pred = self.linear3(y_pred)                   # Output layer: linear transformation\n",
    "        return y_pred\n"
   ],
   "metadata": {
    "collapsed": false,
    "ExecuteTime": {
     "end_time": "2024-03-07T16:37:54.830072Z",
     "start_time": "2024-03-07T16:37:54.824534Z"
    }
   },
   "id": "f76a4c6bafa18f4d",
   "execution_count": 266
  },
  {
   "cell_type": "code",
   "outputs": [],
   "source": [
    "# create a model and give the right dimension to the input and output layers\n",
    "model1 = Net(len(X_train[0]),100, 200, 1)"
   ],
   "metadata": {
    "collapsed": false,
    "ExecuteTime": {
     "end_time": "2024-03-07T16:37:54.909615Z",
     "start_time": "2024-03-07T16:37:54.904764Z"
    }
   },
   "id": "73199a5b6dd6c06e",
   "execution_count": 267
  },
  {
   "cell_type": "code",
   "outputs": [
    {
     "name": "stdout",
     "output_type": "stream",
     "text": [
      "21901\n"
     ]
    }
   ],
   "source": [
    "# calculate how many parameters the model has\n",
    "pytorch_total_params = sum(p.numel() for p in model1.parameters() if p.requires_grad)\n",
    "print(pytorch_total_params)"
   ],
   "metadata": {
    "collapsed": false,
    "ExecuteTime": {
     "end_time": "2024-03-07T16:37:54.951968Z",
     "start_time": "2024-03-07T16:37:54.937648Z"
    }
   },
   "id": "e9bd37264a6754cb",
   "execution_count": 268
  },
  {
   "cell_type": "code",
   "outputs": [],
   "source": [
    "# MSELoss() as the loss criterion and Adam() as the optimizer\n",
    "criterion = nn.MSELoss(reduction='sum')\n",
    "optimizer = torch.optim.Adam(model1.parameters(), lr=0.001) # Learing rate 0.1"
   ],
   "metadata": {
    "collapsed": false,
    "ExecuteTime": {
     "end_time": "2024-03-07T16:37:54.983214Z",
     "start_time": "2024-03-07T16:37:54.978974Z"
    }
   },
   "id": "b853cdf41fea19d7",
   "execution_count": 269
  },
  {
   "cell_type": "markdown",
   "source": [
    "Now create a loop to train your model (with 500 iterations), don't forget to save your loss criterion in order to plot it later !"
   ],
   "metadata": {
    "collapsed": false
   },
   "id": "454ba1d189fff34d"
  },
  {
   "cell_type": "code",
   "outputs": [],
   "source": [
    "losses1 = []\n",
    "losses1_test = []\n",
    "\n",
    "for t in range(200):                # 100 iterations\n",
    "\n",
    "    # Forward pass: compute prediction on training set\n",
    "    y_pred = model1(X_train)\n",
    "\n",
    "    # Compute loss\n",
    "    loss = criterion(y_pred, y_train)\n",
    "    #print(t, loss.item())\n",
    "    losses1.append(loss.item())\n",
    "    if torch.isnan(loss):\n",
    "        break\n",
    "\n",
    "    # Compute gradient\n",
    "    optimizer.zero_grad()\n",
    "    loss.backward()\n",
    "\n",
    "    # Update\n",
    "    optimizer.step()\n",
    "\n",
    "    # Compute loss on test set\n",
    "    losses1_test.append(criterion(model1(X_test), y_test).item())"
   ],
   "metadata": {
    "collapsed": false,
    "ExecuteTime": {
     "end_time": "2024-03-07T16:37:55.883459Z",
     "start_time": "2024-03-07T16:37:55.005779Z"
    }
   },
   "id": "33daca4cf11b4ae7",
   "execution_count": 270
  },
  {
   "cell_type": "code",
   "source": [
    "# Plot training and test loss\n",
    "plt.figure(figsize=(6, 4))\n",
    "plt.plot(losses1, label=\"Training loss\")\n",
    "plt.plot(losses1_test, label=\"Test loss\")\n",
    "plt.title('Evolution of training and test loss')\n",
    "#plt.ylim(top=70, bottom=0.0)\n",
    "plt.legend()\n",
    "plt.show()"
   ],
   "metadata": {
    "id": "-OYcTnB2Q8ke",
    "colab": {
     "base_uri": "https://localhost:8080/",
     "height": 391
    },
    "outputId": "51dc1015-ca09-4180-de88-7c0c2850bab3",
    "ExecuteTime": {
     "end_time": "2024-03-07T16:38:26.211868Z",
     "start_time": "2024-03-07T16:38:26.065351Z"
    }
   },
   "id": "-OYcTnB2Q8ke",
   "execution_count": 273,
   "outputs": [
    {
     "data": {
      "text/plain": "<Figure size 600x400 with 1 Axes>",
      "image/png": "[encoded data removed]"
     },
     "metadata": {},
     "output_type": "display_data"
    }
   ]
  },
  {
   "cell_type": "code",
   "outputs": [
    {
     "name": "stdout",
     "output_type": "stream",
     "text": [
      "MSE loss for model 1:  1.077385663986206\n"
     ]
    }
   ],
   "source": [
    "# MSE loss for the model\n",
    "print(\"MSE loss for model 1: \", losses1_test[-1])"
   ],
   "metadata": {
    "collapsed": false,
    "ExecuteTime": {
     "end_time": "2024-03-07T16:37:56.043187Z",
     "start_time": "2024-03-07T16:37:56.040060Z"
    }
   },
   "id": "66cb64e584737bc8",
   "execution_count": 272
  }
 ],
 "metadata": {
  "kernelspec": {
   "display_name": "Python 3 (ipykernel)",
   "language": "python",
   "name": "python3"
  },
  "language_info": {
   "codemirror_mode": {
    "name": "ipython",
    "version": 3
   },
   "file_extension": ".py",
   "mimetype": "text/x-python",
   "name": "python",
   "nbconvert_exporter": "python",
   "pygments_lexer": "ipython3",
   "version": "3.9.4"
  },
  "colab": {
   "provenance": []
  }
 },
 "nbformat": 4,
 "nbformat_minor": 5
}
