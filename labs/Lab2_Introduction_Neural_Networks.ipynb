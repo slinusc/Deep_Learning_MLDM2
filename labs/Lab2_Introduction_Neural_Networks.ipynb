{
  "cells": [
    {
      "cell_type": "markdown",
      "source": [
        "<a href=\"https://colab.research.google.com/github/michalis0/DataScience_and_MachineLearning/blob/master/Week_5/Week_5.ipynb\" target=\"_parent\"><img src=\"https://colab.research.google.com/assets/colab-badge.svg\" alt=\"Open In Colab\"/></a>"
      ],
      "metadata": {
        "id": "gD1Vv4GS8TwY"
      },
      "id": "gD1Vv4GS8TwY"
    },
    {
      "cell_type": "code",
      "execution_count": null,
      "id": "15dc4475-7f7d-4457-8762-bb031a0629b2",
      "metadata": {
        "id": "15dc4475-7f7d-4457-8762-bb031a0629b2"
      },
      "outputs": [],
      "source": [
        "# Import standard libraries\n",
        "import pandas as pd\n",
        "import numpy as np\n",
        "import seaborn as sns\n",
        "import matplotlib.pylab as plt\n",
        "%matplotlib inline\n",
        "from IPython.display import YouTubeVideo\n",
        "\n",
        "# ML import\n",
        "from sklearn.model_selection import train_test_split # Splitting the data set\n",
        "from sklearn.preprocessing import MinMaxScaler       # Normalization\n",
        "from sklearn.preprocessing import LabelEncoder       # Encoder\n",
        "import torch                                   # PyTorch\n",
        "import torch.nn as nn                          # PyTorch building blocks\n",
        "from IPython.display import YouTubeVideo"
      ]
    },
    {
      "cell_type": "markdown",
      "id": "a844a8c0-078c-4946-8927-e570469c601c",
      "metadata": {
        "id": "a844a8c0-078c-4946-8927-e570469c601c"
      },
      "source": [
        "# Neural Nets Examples"
      ]
    },
    {
      "cell_type": "markdown",
      "id": "1d33d277-2861-493d-8fad-63baec052f8e",
      "metadata": {
        "id": "1d33d277-2861-493d-8fad-63baec052f8e"
      },
      "source": [
        "### Application: Predicting house prices\n",
        "\n",
        "In this application, we will implement a Shallow Neural Network model with PyTorch to predict house prices using the [Ames Housing dataset](https://www.kaggle.com/c/house-prices-advanced-regression-techniques)."
      ]
    },
    {
      "cell_type": "markdown",
      "id": "e439b086-55d0-442f-ab05-0e9399e15659",
      "metadata": {
        "id": "e439b086-55d0-442f-ab05-0e9399e15659"
      },
      "source": [
        "#### Data"
      ]
    },
    {
      "cell_type": "code",
      "execution_count": null,
      "id": "240c89a5-84f5-4229-a987-1dbeaa878682",
      "metadata": {
        "colab": {
          "base_uri": "https://localhost:8080/",
          "height": 256
        },
        "id": "240c89a5-84f5-4229-a987-1dbeaa878682",
        "outputId": "a181ca6f-3760-4d06-f85c-181564db581c"
      },
      "outputs": [
        {
          "output_type": "execute_result",
          "data": {
            "text/plain": [
              "   Id  MSSubClass MSZoning  LotFrontage  LotArea Street Alley LotShape  \\\n",
              "0   1          60       RL         65.0     8450   Pave   NaN      Reg   \n",
              "1   2          20       RL         80.0     9600   Pave   NaN      Reg   \n",
              "2   3          60       RL         68.0    11250   Pave   NaN      IR1   \n",
              "3   4          70       RL         60.0     9550   Pave   NaN      IR1   \n",
              "4   5          60       RL         84.0    14260   Pave   NaN      IR1   \n",
              "\n",
              "  LandContour Utilities  ... PoolArea PoolQC Fence MiscFeature MiscVal MoSold  \\\n",
              "0         Lvl    AllPub  ...        0    NaN   NaN         NaN       0      2   \n",
              "1         Lvl    AllPub  ...        0    NaN   NaN         NaN       0      5   \n",
              "2         Lvl    AllPub  ...        0    NaN   NaN         NaN       0      9   \n",
              "3         Lvl    AllPub  ...        0    NaN   NaN         NaN       0      2   \n",
              "4         Lvl    AllPub  ...        0    NaN   NaN         NaN       0     12   \n",
              "\n",
              "  YrSold  SaleType  SaleCondition  SalePrice  \n",
              "0   2008        WD         Normal     208500  \n",
              "1   2007        WD         Normal     181500  \n",
              "2   2008        WD         Normal     223500  \n",
              "3   2006        WD        Abnorml     140000  \n",
              "4   2008        WD         Normal     250000  \n",
              "\n",
              "[5 rows x 81 columns]"
            ],
            "text/html": [
              "\n",
              "  <div id=\"df-e9fbd873-bf75-442b-af86-5f543cc28819\" class=\"colab-df-container\">\n",
              "    <div>\n",
              "<style scoped>\n",
              "    .dataframe tbody tr th:only-of-type {\n",
              "        vertical-align: middle;\n",
              "    }\n",
              "\n",
              "    .dataframe tbody tr th {\n",
              "        vertical-align: top;\n",
              "    }\n",
              "\n",
              "    .dataframe thead th {\n",
              "        text-align: right;\n",
              "    }\n",
              "</style>\n",
              "<table border=\"1\" class=\"dataframe\">\n",
              "  <thead>\n",
              "    <tr style=\"text-align: right;\">\n",
              "      <th></th>\n",
              "      <th>Id</th>\n",
              "      <th>MSSubClass</th>\n",
              "      <th>MSZoning</th>\n",
              "      <th>LotFrontage</th>\n",
              "      <th>LotArea</th>\n",
              "      <th>Street</th>\n",
              "      <th>Alley</th>\n",
              "      <th>LotShape</th>\n",
              "      <th>LandContour</th>\n",
              "      <th>Utilities</th>\n",
              "      <th>...</th>\n",
              "      <th>PoolArea</th>\n",
              "      <th>PoolQC</th>\n",
              "      <th>Fence</th>\n",
              "      <th>MiscFeature</th>\n",
              "      <th>MiscVal</th>\n",
              "      <th>MoSold</th>\n",
              "      <th>YrSold</th>\n",
              "      <th>SaleType</th>\n",
              "      <th>SaleCondition</th>\n",
              "      <th>SalePrice</th>\n",
              "    </tr>\n",
              "  </thead>\n",
              "  <tbody>\n",
              "    <tr>\n",
              "      <th>0</th>\n",
              "      <td>1</td>\n",
              "      <td>60</td>\n",
              "      <td>RL</td>\n",
              "      <td>65.0</td>\n",
              "      <td>8450</td>\n",
              "      <td>Pave</td>\n",
              "      <td>NaN</td>\n",
              "      <td>Reg</td>\n",
              "      <td>Lvl</td>\n",
              "      <td>AllPub</td>\n",
              "      <td>...</td>\n",
              "      <td>0</td>\n",
              "      <td>NaN</td>\n",
              "      <td>NaN</td>\n",
              "      <td>NaN</td>\n",
              "      <td>0</td>\n",
              "      <td>2</td>\n",
              "      <td>2008</td>\n",
              "      <td>WD</td>\n",
              "      <td>Normal</td>\n",
              "      <td>208500</td>\n",
              "    </tr>\n",
              "    <tr>\n",
              "      <th>1</th>\n",
              "      <td>2</td>\n",
              "      <td>20</td>\n",
              "      <td>RL</td>\n",
              "      <td>80.0</td>\n",
              "      <td>9600</td>\n",
              "      <td>Pave</td>\n",
              "      <td>NaN</td>\n",
              "      <td>Reg</td>\n",
              "      <td>Lvl</td>\n",
              "      <td>AllPub</td>\n",
              "      <td>...</td>\n",
              "      <td>0</td>\n",
              "      <td>NaN</td>\n",
              "      <td>NaN</td>\n",
              "      <td>NaN</td>\n",
              "      <td>0</td>\n",
              "      <td>5</td>\n",
              "      <td>2007</td>\n",
              "      <td>WD</td>\n",
              "      <td>Normal</td>\n",
              "      <td>181500</td>\n",
              "    </tr>\n",
              "    <tr>\n",
              "      <th>2</th>\n",
              "      <td>3</td>\n",
              "      <td>60</td>\n",
              "      <td>RL</td>\n",
              "      <td>68.0</td>\n",
              "      <td>11250</td>\n",
              "      <td>Pave</td>\n",
              "      <td>NaN</td>\n",
              "      <td>IR1</td>\n",
              "      <td>Lvl</td>\n",
              "      <td>AllPub</td>\n",
              "      <td>...</td>\n",
              "      <td>0</td>\n",
              "      <td>NaN</td>\n",
              "      <td>NaN</td>\n",
              "      <td>NaN</td>\n",
              "      <td>0</td>\n",
              "      <td>9</td>\n",
              "      <td>2008</td>\n",
              "      <td>WD</td>\n",
              "      <td>Normal</td>\n",
              "      <td>223500</td>\n",
              "    </tr>\n",
              "    <tr>\n",
              "      <th>3</th>\n",
              "      <td>4</td>\n",
              "      <td>70</td>\n",
              "      <td>RL</td>\n",
              "      <td>60.0</td>\n",
              "      <td>9550</td>\n",
              "      <td>Pave</td>\n",
              "      <td>NaN</td>\n",
              "      <td>IR1</td>\n",
              "      <td>Lvl</td>\n",
              "      <td>AllPub</td>\n",
              "      <td>...</td>\n",
              "      <td>0</td>\n",
              "      <td>NaN</td>\n",
              "      <td>NaN</td>\n",
              "      <td>NaN</td>\n",
              "      <td>0</td>\n",
              "      <td>2</td>\n",
              "      <td>2006</td>\n",
              "      <td>WD</td>\n",
              "      <td>Abnorml</td>\n",
              "      <td>140000</td>\n",
              "    </tr>\n",
              "    <tr>\n",
              "      <th>4</th>\n",
              "      <td>5</td>\n",
              "      <td>60</td>\n",
              "      <td>RL</td>\n",
              "      <td>84.0</td>\n",
              "      <td>14260</td>\n",
              "      <td>Pave</td>\n",
              "      <td>NaN</td>\n",
              "      <td>IR1</td>\n",
              "      <td>Lvl</td>\n",
              "      <td>AllPub</td>\n",
              "      <td>...</td>\n",
              "      <td>0</td>\n",
              "      <td>NaN</td>\n",
              "      <td>NaN</td>\n",
              "      <td>NaN</td>\n",
              "      <td>0</td>\n",
              "      <td>12</td>\n",
              "      <td>2008</td>\n",
              "      <td>WD</td>\n",
              "      <td>Normal</td>\n",
              "      <td>250000</td>\n",
              "    </tr>\n",
              "  </tbody>\n",
              "</table>\n",
              "<p>5 rows × 81 columns</p>\n",
              "</div>\n",
              "    <div class=\"colab-df-buttons\">\n",
              "\n",
              "  <div class=\"colab-df-container\">\n",
              "    <button class=\"colab-df-convert\" onclick=\"convertToInteractive('df-e9fbd873-bf75-442b-af86-5f543cc28819')\"\n",
              "            title=\"Convert this dataframe to an interactive table.\"\n",
              "            style=\"display:none;\">\n",
              "\n",
              "  <svg xmlns=\"http://www.w3.org/2000/svg\" height=\"24px\" viewBox=\"0 -960 960 960\">\n",
              "    <path d=\"M120-120v-720h720v720H120Zm60-500h600v-160H180v160Zm220 220h160v-160H400v160Zm0 220h160v-160H400v160ZM180-400h160v-160H180v160Zm440 0h160v-160H620v160ZM180-180h160v-160H180v160Zm440 0h160v-160H620v160Z\"/>\n",
              "  </svg>\n",
              "    </button>\n",
              "\n",
              "  <style>\n",
              "    .colab-df-container {\n",
              "      display:flex;\n",
              "      gap: 12px;\n",
              "    }\n",
              "\n",
              "    .colab-df-convert {\n",
              "      background-color: #E8F0FE;\n",
              "      border: none;\n",
              "      border-radius: 50%;\n",
              "      cursor: pointer;\n",
              "      display: none;\n",
              "      fill: #1967D2;\n",
              "      height: 32px;\n",
              "      padding: 0 0 0 0;\n",
              "      width: 32px;\n",
              "    }\n",
              "\n",
              "    .colab-df-convert:hover {\n",
              "      background-color: #E2EBFA;\n",
              "      box-shadow: 0px 1px 2px rgba(60, 64, 67, 0.3), 0px 1px 3px 1px rgba(60, 64, 67, 0.15);\n",
              "      fill: #174EA6;\n",
              "    }\n",
              "\n",
              "    .colab-df-buttons div {\n",
              "      margin-bottom: 4px;\n",
              "    }\n",
              "\n",
              "    [theme=dark] .colab-df-convert {\n",
              "      background-color: #3B4455;\n",
              "      fill: #D2E3FC;\n",
              "    }\n",
              "\n",
              "    [theme=dark] .colab-df-convert:hover {\n",
              "      background-color: #434B5C;\n",
              "      box-shadow: 0px 1px 3px 1px rgba(0, 0, 0, 0.15);\n",
              "      filter: drop-shadow(0px 1px 2px rgba(0, 0, 0, 0.3));\n",
              "      fill: #FFFFFF;\n",
              "    }\n",
              "  </style>\n",
              "\n",
              "    <script>\n",
              "      const buttonEl =\n",
              "        document.querySelector('#df-e9fbd873-bf75-442b-af86-5f543cc28819 button.colab-df-convert');\n",
              "      buttonEl.style.display =\n",
              "        google.colab.kernel.accessAllowed ? 'block' : 'none';\n",
              "\n",
              "      async function convertToInteractive(key) {\n",
              "        const element = document.querySelector('#df-e9fbd873-bf75-442b-af86-5f543cc28819');\n",
              "        const dataTable =\n",
              "          await google.colab.kernel.invokeFunction('convertToInteractive',\n",
              "                                                    [key], {});\n",
              "        if (!dataTable) return;\n",
              "\n",
              "        const docLinkHtml = 'Like what you see? Visit the ' +\n",
              "          '<a target=\"_blank\" href=https://colab.research.google.com/notebooks/data_table.ipynb>data table notebook</a>'\n",
              "          + ' to learn more about interactive tables.';\n",
              "        element.innerHTML = '';\n",
              "        dataTable['output_type'] = 'display_data';\n",
              "        await google.colab.output.renderOutput(dataTable, element);\n",
              "        const docLink = document.createElement('div');\n",
              "        docLink.innerHTML = docLinkHtml;\n",
              "        element.appendChild(docLink);\n",
              "      }\n",
              "    </script>\n",
              "  </div>\n",
              "\n",
              "\n",
              "<div id=\"df-6c263a4b-9b81-4803-b978-8ade24f6e079\">\n",
              "  <button class=\"colab-df-quickchart\" onclick=\"quickchart('df-6c263a4b-9b81-4803-b978-8ade24f6e079')\"\n",
              "            title=\"Suggest charts.\"\n",
              "            style=\"display:none;\">\n",
              "\n",
              "<svg xmlns=\"http://www.w3.org/2000/svg\" height=\"24px\"viewBox=\"0 0 24 24\"\n",
              "     width=\"24px\">\n",
              "    <g>\n",
              "        <path d=\"M19 3H5c-1.1 0-2 .9-2 2v14c0 1.1.9 2 2 2h14c1.1 0 2-.9 2-2V5c0-1.1-.9-2-2-2zM9 17H7v-7h2v7zm4 0h-2V7h2v10zm4 0h-2v-4h2v4z\"/>\n",
              "    </g>\n",
              "</svg>\n",
              "  </button>\n",
              "\n",
              "<style>\n",
              "  .colab-df-quickchart {\n",
              "      --bg-color: #E8F0FE;\n",
              "      --fill-color: #1967D2;\n",
              "      --hover-bg-color: #E2EBFA;\n",
              "      --hover-fill-color: #174EA6;\n",
              "      --disabled-fill-color: #AAA;\n",
              "      --disabled-bg-color: #DDD;\n",
              "  }\n",
              "\n",
              "  [theme=dark] .colab-df-quickchart {\n",
              "      --bg-color: #3B4455;\n",
              "      --fill-color: #D2E3FC;\n",
              "      --hover-bg-color: #434B5C;\n",
              "      --hover-fill-color: #FFFFFF;\n",
              "      --disabled-bg-color: #3B4455;\n",
              "      --disabled-fill-color: #666;\n",
              "  }\n",
              "\n",
              "  .colab-df-quickchart {\n",
              "    background-color: var(--bg-color);\n",
              "    border: none;\n",
              "    border-radius: 50%;\n",
              "    cursor: pointer;\n",
              "    display: none;\n",
              "    fill: var(--fill-color);\n",
              "    height: 32px;\n",
              "    padding: 0;\n",
              "    width: 32px;\n",
              "  }\n",
              "\n",
              "  .colab-df-quickchart:hover {\n",
              "    background-color: var(--hover-bg-color);\n",
              "    box-shadow: 0 1px 2px rgba(60, 64, 67, 0.3), 0 1px 3px 1px rgba(60, 64, 67, 0.15);\n",
              "    fill: var(--button-hover-fill-color);\n",
              "  }\n",
              "\n",
              "  .colab-df-quickchart-complete:disabled,\n",
              "  .colab-df-quickchart-complete:disabled:hover {\n",
              "    background-color: var(--disabled-bg-color);\n",
              "    fill: var(--disabled-fill-color);\n",
              "    box-shadow: none;\n",
              "  }\n",
              "\n",
              "  .colab-df-spinner {\n",
              "    border: 2px solid var(--fill-color);\n",
              "    border-color: transparent;\n",
              "    border-bottom-color: var(--fill-color);\n",
              "    animation:\n",
              "      spin 1s steps(1) infinite;\n",
              "  }\n",
              "\n",
              "  @keyframes spin {\n",
              "    0% {\n",
              "      border-color: transparent;\n",
              "      border-bottom-color: var(--fill-color);\n",
              "      border-left-color: var(--fill-color);\n",
              "    }\n",
              "    20% {\n",
              "      border-color: transparent;\n",
              "      border-left-color: var(--fill-color);\n",
              "      border-top-color: var(--fill-color);\n",
              "    }\n",
              "    30% {\n",
              "      border-color: transparent;\n",
              "      border-left-color: var(--fill-color);\n",
              "      border-top-color: var(--fill-color);\n",
              "      border-right-color: var(--fill-color);\n",
              "    }\n",
              "    40% {\n",
              "      border-color: transparent;\n",
              "      border-right-color: var(--fill-color);\n",
              "      border-top-color: var(--fill-color);\n",
              "    }\n",
              "    60% {\n",
              "      border-color: transparent;\n",
              "      border-right-color: var(--fill-color);\n",
              "    }\n",
              "    80% {\n",
              "      border-color: transparent;\n",
              "      border-right-color: var(--fill-color);\n",
              "      border-bottom-color: var(--fill-color);\n",
              "    }\n",
              "    90% {\n",
              "      border-color: transparent;\n",
              "      border-bottom-color: var(--fill-color);\n",
              "    }\n",
              "  }\n",
              "</style>\n",
              "\n",
              "  <script>\n",
              "    async function quickchart(key) {\n",
              "      const quickchartButtonEl =\n",
              "        document.querySelector('#' + key + ' button');\n",
              "      quickchartButtonEl.disabled = true;  // To prevent multiple clicks.\n",
              "      quickchartButtonEl.classList.add('colab-df-spinner');\n",
              "      try {\n",
              "        const charts = await google.colab.kernel.invokeFunction(\n",
              "            'suggestCharts', [key], {});\n",
              "      } catch (error) {\n",
              "        console.error('Error during call to suggestCharts:', error);\n",
              "      }\n",
              "      quickchartButtonEl.classList.remove('colab-df-spinner');\n",
              "      quickchartButtonEl.classList.add('colab-df-quickchart-complete');\n",
              "    }\n",
              "    (() => {\n",
              "      let quickchartButtonEl =\n",
              "        document.querySelector('#df-6c263a4b-9b81-4803-b978-8ade24f6e079 button');\n",
              "      quickchartButtonEl.style.display =\n",
              "        google.colab.kernel.accessAllowed ? 'block' : 'none';\n",
              "    })();\n",
              "  </script>\n",
              "</div>\n",
              "    </div>\n",
              "  </div>\n"
            ]
          },
          "metadata": {},
          "execution_count": 3
        }
      ],
      "source": [
        "# import data\n",
        "raw_data = pd.read_csv(\"https://raw.githubusercontent.com/JasminaZHAW/MLDM2/main/labs/data/house_price.csv\")\n",
        "raw_data.head()"
      ]
    },
    {
      "cell_type": "code",
      "execution_count": null,
      "id": "cf6af7a8-2aad-45ec-af77-7b00a60cfbac",
      "metadata": {
        "colab": {
          "base_uri": "https://localhost:8080/"
        },
        "id": "cf6af7a8-2aad-45ec-af77-7b00a60cfbac",
        "outputId": "06241ca6-d9b5-4ee2-8d89-f9c16d8c8682"
      },
      "outputs": [
        {
          "output_type": "execute_result",
          "data": {
            "text/plain": [
              "(1460, 81)"
            ]
          },
          "metadata": {},
          "execution_count": 4
        }
      ],
      "source": [
        "raw_data.shape"
      ]
    },
    {
      "cell_type": "markdown",
      "id": "bfabbcb8-ef34-46d2-b156-6787824e3a85",
      "metadata": {
        "id": "bfabbcb8-ef34-46d2-b156-6787824e3a85"
      },
      "source": [
        "The dataset contains 81 columns. A description of the features is available in the file \"[house_price_data_description](https://github.com/michalis0/DataScience_and_MachineLearning/blob/master/Week_5/data/house_price_data_description.txt)\""
      ]
    },
    {
      "cell_type": "markdown",
      "id": "72baf826-a96e-49d7-a6df-57cd349781f3",
      "metadata": {
        "id": "72baf826-a96e-49d7-a6df-57cd349781f3"
      },
      "source": [
        "##### Preprocessing"
      ]
    },
    {
      "cell_type": "markdown",
      "id": "59cd5835-e7e1-451b-8e5e-64968834756a",
      "metadata": {
        "id": "59cd5835-e7e1-451b-8e5e-64968834756a"
      },
      "source": [
        "Let's first extract the features of interest. We will use the numeric columns:"
      ]
    },
    {
      "cell_type": "code",
      "execution_count": null,
      "id": "dadf3888-4c1a-406f-a199-05145d017ff7",
      "metadata": {
        "id": "dadf3888-4c1a-406f-a199-05145d017ff7",
        "colab": {
          "base_uri": "https://localhost:8080/"
        },
        "outputId": "e2c57621-2715-40fb-b490-997aa215844f"
      },
      "outputs": [
        {
          "output_type": "execute_result",
          "data": {
            "text/plain": [
              "Id                 int64\n",
              "MSSubClass         int64\n",
              "MSZoning          object\n",
              "LotFrontage      float64\n",
              "LotArea            int64\n",
              "                  ...   \n",
              "MoSold             int64\n",
              "YrSold             int64\n",
              "SaleType          object\n",
              "SaleCondition     object\n",
              "SalePrice          int64\n",
              "Length: 81, dtype: object"
            ]
          },
          "metadata": {},
          "execution_count": 5
        }
      ],
      "source": [
        "# Data types\n",
        "raw_data.dtypes"
      ]
    },
    {
      "cell_type": "code",
      "execution_count": null,
      "id": "bc199722-8f76-4ad7-9b33-65f76a6bb2bb",
      "metadata": {
        "id": "bc199722-8f76-4ad7-9b33-65f76a6bb2bb",
        "colab": {
          "base_uri": "https://localhost:8080/"
        },
        "outputId": "5c2ec611-64dd-4760-efda-1c279a94e06b"
      },
      "outputs": [
        {
          "output_type": "stream",
          "name": "stdout",
          "text": [
            "['Id', 'MSSubClass', 'LotFrontage', 'LotArea', 'OverallQual', 'OverallCond', 'YearBuilt', 'YearRemodAdd', 'MasVnrArea', 'BsmtFinSF1', 'BsmtFinSF2', 'BsmtUnfSF', 'TotalBsmtSF', '1stFlrSF', '2ndFlrSF', 'LowQualFinSF', 'GrLivArea', 'BsmtFullBath', 'BsmtHalfBath', 'FullBath', 'HalfBath', 'BedroomAbvGr', 'KitchenAbvGr', 'TotRmsAbvGrd', 'Fireplaces', 'GarageYrBlt', 'GarageCars', 'GarageArea', 'WoodDeckSF', 'OpenPorchSF', 'EnclosedPorch', '3SsnPorch', 'ScreenPorch', 'PoolArea', 'MiscVal', 'MoSold', 'YrSold', 'SalePrice'] \n",
            " 38\n"
          ]
        }
      ],
      "source": [
        "# Display numeric features (integer and floats)\n",
        "numeric_columns = list(raw_data.columns[(raw_data.dtypes==np.int64) |\n",
        "                 (raw_data.dtypes==np.float64)])\n",
        "print(numeric_columns, \"\\n\", len(numeric_columns))"
      ]
    },
    {
      "cell_type": "markdown",
      "id": "f9354882-1469-42ee-8fd6-38301f89ed0f",
      "metadata": {
        "id": "f9354882-1469-42ee-8fd6-38301f89ed0f"
      },
      "source": [
        "`SalePrice` is the value we want to predict. We set it as the last column:"
      ]
    },
    {
      "cell_type": "code",
      "execution_count": null,
      "id": "28dd7159-374a-47b0-ae56-5864dbac3cf8",
      "metadata": {
        "id": "28dd7159-374a-47b0-ae56-5864dbac3cf8"
      },
      "outputs": [],
      "source": [
        "# Output SalePrice as last column\n",
        "numeric_columns.remove('SalePrice')\n",
        "numeric_columns.append('SalePrice')"
      ]
    },
    {
      "cell_type": "markdown",
      "id": "dfd2153a-be33-48b1-b191-31f95b4734aa",
      "metadata": {
        "id": "dfd2153a-be33-48b1-b191-31f95b4734aa"
      },
      "source": [
        "We also remove the `Id` column:"
      ]
    },
    {
      "cell_type": "code",
      "execution_count": null,
      "id": "8e372a0d-4c5c-444d-bd1e-7fd8d411d84c",
      "metadata": {
        "id": "8e372a0d-4c5c-444d-bd1e-7fd8d411d84c"
      },
      "outputs": [],
      "source": [
        "# Remove Id\n",
        "numeric_columns.remove('Id')"
      ]
    },
    {
      "cell_type": "markdown",
      "id": "05c160a2-ec7f-4690-9eba-464cfffe2e7a",
      "metadata": {
        "id": "05c160a2-ec7f-4690-9eba-464cfffe2e7a"
      },
      "source": [
        "Now we extract the numeric data."
      ]
    },
    {
      "cell_type": "code",
      "execution_count": null,
      "id": "a410bfa5-0140-4d42-a766-c3a553d67683",
      "metadata": {
        "id": "a410bfa5-0140-4d42-a766-c3a553d67683",
        "colab": {
          "base_uri": "https://localhost:8080/",
          "height": 256
        },
        "outputId": "f50524ac-4193-4da0-ca7f-079ba6c76233"
      },
      "outputs": [
        {
          "output_type": "execute_result",
          "data": {
            "text/plain": [
              "   MSSubClass  LotFrontage  LotArea  OverallQual  OverallCond  YearBuilt  \\\n",
              "0          60         65.0     8450            7            5       2003   \n",
              "1          20         80.0     9600            6            8       1976   \n",
              "2          60         68.0    11250            7            5       2001   \n",
              "3          70         60.0     9550            7            5       1915   \n",
              "4          60         84.0    14260            8            5       2000   \n",
              "\n",
              "   YearRemodAdd  MasVnrArea  BsmtFinSF1  BsmtFinSF2  ...  WoodDeckSF  \\\n",
              "0          2003       196.0         706           0  ...           0   \n",
              "1          1976         0.0         978           0  ...         298   \n",
              "2          2002       162.0         486           0  ...           0   \n",
              "3          1970         0.0         216           0  ...           0   \n",
              "4          2000       350.0         655           0  ...         192   \n",
              "\n",
              "   OpenPorchSF  EnclosedPorch  3SsnPorch  ScreenPorch  PoolArea  MiscVal  \\\n",
              "0           61              0          0            0         0        0   \n",
              "1            0              0          0            0         0        0   \n",
              "2           42              0          0            0         0        0   \n",
              "3           35            272          0            0         0        0   \n",
              "4           84              0          0            0         0        0   \n",
              "\n",
              "   MoSold  YrSold  SalePrice  \n",
              "0       2    2008     208500  \n",
              "1       5    2007     181500  \n",
              "2       9    2008     223500  \n",
              "3       2    2006     140000  \n",
              "4      12    2008     250000  \n",
              "\n",
              "[5 rows x 37 columns]"
            ],
            "text/html": [
              "\n",
              "  <div id=\"df-c20915e3-2f94-4077-9807-5116693d8f83\" class=\"colab-df-container\">\n",
              "    <div>\n",
              "<style scoped>\n",
              "    .dataframe tbody tr th:only-of-type {\n",
              "        vertical-align: middle;\n",
              "    }\n",
              "\n",
              "    .dataframe tbody tr th {\n",
              "        vertical-align: top;\n",
              "    }\n",
              "\n",
              "    .dataframe thead th {\n",
              "        text-align: right;\n",
              "    }\n",
              "</style>\n",
              "<table border=\"1\" class=\"dataframe\">\n",
              "  <thead>\n",
              "    <tr style=\"text-align: right;\">\n",
              "      <th></th>\n",
              "      <th>MSSubClass</th>\n",
              "      <th>LotFrontage</th>\n",
              "      <th>LotArea</th>\n",
              "      <th>OverallQual</th>\n",
              "      <th>OverallCond</th>\n",
              "      <th>YearBuilt</th>\n",
              "      <th>YearRemodAdd</th>\n",
              "      <th>MasVnrArea</th>\n",
              "      <th>BsmtFinSF1</th>\n",
              "      <th>BsmtFinSF2</th>\n",
              "      <th>...</th>\n",
              "      <th>WoodDeckSF</th>\n",
              "      <th>OpenPorchSF</th>\n",
              "      <th>EnclosedPorch</th>\n",
              "      <th>3SsnPorch</th>\n",
              "      <th>ScreenPorch</th>\n",
              "      <th>PoolArea</th>\n",
              "      <th>MiscVal</th>\n",
              "      <th>MoSold</th>\n",
              "      <th>YrSold</th>\n",
              "      <th>SalePrice</th>\n",
              "    </tr>\n",
              "  </thead>\n",
              "  <tbody>\n",
              "    <tr>\n",
              "      <th>0</th>\n",
              "      <td>60</td>\n",
              "      <td>65.0</td>\n",
              "      <td>8450</td>\n",
              "      <td>7</td>\n",
              "      <td>5</td>\n",
              "      <td>2003</td>\n",
              "      <td>2003</td>\n",
              "      <td>196.0</td>\n",
              "      <td>706</td>\n",
              "      <td>0</td>\n",
              "      <td>...</td>\n",
              "      <td>0</td>\n",
              "      <td>61</td>\n",
              "      <td>0</td>\n",
              "      <td>0</td>\n",
              "      <td>0</td>\n",
              "      <td>0</td>\n",
              "      <td>0</td>\n",
              "      <td>2</td>\n",
              "      <td>2008</td>\n",
              "      <td>208500</td>\n",
              "    </tr>\n",
              "    <tr>\n",
              "      <th>1</th>\n",
              "      <td>20</td>\n",
              "      <td>80.0</td>\n",
              "      <td>9600</td>\n",
              "      <td>6</td>\n",
              "      <td>8</td>\n",
              "      <td>1976</td>\n",
              "      <td>1976</td>\n",
              "      <td>0.0</td>\n",
              "      <td>978</td>\n",
              "      <td>0</td>\n",
              "      <td>...</td>\n",
              "      <td>298</td>\n",
              "      <td>0</td>\n",
              "      <td>0</td>\n",
              "      <td>0</td>\n",
              "      <td>0</td>\n",
              "      <td>0</td>\n",
              "      <td>0</td>\n",
              "      <td>5</td>\n",
              "      <td>2007</td>\n",
              "      <td>181500</td>\n",
              "    </tr>\n",
              "    <tr>\n",
              "      <th>2</th>\n",
              "      <td>60</td>\n",
              "      <td>68.0</td>\n",
              "      <td>11250</td>\n",
              "      <td>7</td>\n",
              "      <td>5</td>\n",
              "      <td>2001</td>\n",
              "      <td>2002</td>\n",
              "      <td>162.0</td>\n",
              "      <td>486</td>\n",
              "      <td>0</td>\n",
              "      <td>...</td>\n",
              "      <td>0</td>\n",
              "      <td>42</td>\n",
              "      <td>0</td>\n",
              "      <td>0</td>\n",
              "      <td>0</td>\n",
              "      <td>0</td>\n",
              "      <td>0</td>\n",
              "      <td>9</td>\n",
              "      <td>2008</td>\n",
              "      <td>223500</td>\n",
              "    </tr>\n",
              "    <tr>\n",
              "      <th>3</th>\n",
              "      <td>70</td>\n",
              "      <td>60.0</td>\n",
              "      <td>9550</td>\n",
              "      <td>7</td>\n",
              "      <td>5</td>\n",
              "      <td>1915</td>\n",
              "      <td>1970</td>\n",
              "      <td>0.0</td>\n",
              "      <td>216</td>\n",
              "      <td>0</td>\n",
              "      <td>...</td>\n",
              "      <td>0</td>\n",
              "      <td>35</td>\n",
              "      <td>272</td>\n",
              "      <td>0</td>\n",
              "      <td>0</td>\n",
              "      <td>0</td>\n",
              "      <td>0</td>\n",
              "      <td>2</td>\n",
              "      <td>2006</td>\n",
              "      <td>140000</td>\n",
              "    </tr>\n",
              "    <tr>\n",
              "      <th>4</th>\n",
              "      <td>60</td>\n",
              "      <td>84.0</td>\n",
              "      <td>14260</td>\n",
              "      <td>8</td>\n",
              "      <td>5</td>\n",
              "      <td>2000</td>\n",
              "      <td>2000</td>\n",
              "      <td>350.0</td>\n",
              "      <td>655</td>\n",
              "      <td>0</td>\n",
              "      <td>...</td>\n",
              "      <td>192</td>\n",
              "      <td>84</td>\n",
              "      <td>0</td>\n",
              "      <td>0</td>\n",
              "      <td>0</td>\n",
              "      <td>0</td>\n",
              "      <td>0</td>\n",
              "      <td>12</td>\n",
              "      <td>2008</td>\n",
              "      <td>250000</td>\n",
              "    </tr>\n",
              "  </tbody>\n",
              "</table>\n",
              "<p>5 rows × 37 columns</p>\n",
              "</div>\n",
              "    <div class=\"colab-df-buttons\">\n",
              "\n",
              "  <div class=\"colab-df-container\">\n",
              "    <button class=\"colab-df-convert\" onclick=\"convertToInteractive('df-c20915e3-2f94-4077-9807-5116693d8f83')\"\n",
              "            title=\"Convert this dataframe to an interactive table.\"\n",
              "            style=\"display:none;\">\n",
              "\n",
              "  <svg xmlns=\"http://www.w3.org/2000/svg\" height=\"24px\" viewBox=\"0 -960 960 960\">\n",
              "    <path d=\"M120-120v-720h720v720H120Zm60-500h600v-160H180v160Zm220 220h160v-160H400v160Zm0 220h160v-160H400v160ZM180-400h160v-160H180v160Zm440 0h160v-160H620v160ZM180-180h160v-160H180v160Zm440 0h160v-160H620v160Z\"/>\n",
              "  </svg>\n",
              "    </button>\n",
              "\n",
              "  <style>\n",
              "    .colab-df-container {\n",
              "      display:flex;\n",
              "      gap: 12px;\n",
              "    }\n",
              "\n",
              "    .colab-df-convert {\n",
              "      background-color: #E8F0FE;\n",
              "      border: none;\n",
              "      border-radius: 50%;\n",
              "      cursor: pointer;\n",
              "      display: none;\n",
              "      fill: #1967D2;\n",
              "      height: 32px;\n",
              "      padding: 0 0 0 0;\n",
              "      width: 32px;\n",
              "    }\n",
              "\n",
              "    .colab-df-convert:hover {\n",
              "      background-color: #E2EBFA;\n",
              "      box-shadow: 0px 1px 2px rgba(60, 64, 67, 0.3), 0px 1px 3px 1px rgba(60, 64, 67, 0.15);\n",
              "      fill: #174EA6;\n",
              "    }\n",
              "\n",
              "    .colab-df-buttons div {\n",
              "      margin-bottom: 4px;\n",
              "    }\n",
              "\n",
              "    [theme=dark] .colab-df-convert {\n",
              "      background-color: #3B4455;\n",
              "      fill: #D2E3FC;\n",
              "    }\n",
              "\n",
              "    [theme=dark] .colab-df-convert:hover {\n",
              "      background-color: #434B5C;\n",
              "      box-shadow: 0px 1px 3px 1px rgba(0, 0, 0, 0.15);\n",
              "      filter: drop-shadow(0px 1px 2px rgba(0, 0, 0, 0.3));\n",
              "      fill: #FFFFFF;\n",
              "    }\n",
              "  </style>\n",
              "\n",
              "    <script>\n",
              "      const buttonEl =\n",
              "        document.querySelector('#df-c20915e3-2f94-4077-9807-5116693d8f83 button.colab-df-convert');\n",
              "      buttonEl.style.display =\n",
              "        google.colab.kernel.accessAllowed ? 'block' : 'none';\n",
              "\n",
              "      async function convertToInteractive(key) {\n",
              "        const element = document.querySelector('#df-c20915e3-2f94-4077-9807-5116693d8f83');\n",
              "        const dataTable =\n",
              "          await google.colab.kernel.invokeFunction('convertToInteractive',\n",
              "                                                    [key], {});\n",
              "        if (!dataTable) return;\n",
              "\n",
              "        const docLinkHtml = 'Like what you see? Visit the ' +\n",
              "          '<a target=\"_blank\" href=https://colab.research.google.com/notebooks/data_table.ipynb>data table notebook</a>'\n",
              "          + ' to learn more about interactive tables.';\n",
              "        element.innerHTML = '';\n",
              "        dataTable['output_type'] = 'display_data';\n",
              "        await google.colab.output.renderOutput(dataTable, element);\n",
              "        const docLink = document.createElement('div');\n",
              "        docLink.innerHTML = docLinkHtml;\n",
              "        element.appendChild(docLink);\n",
              "      }\n",
              "    </script>\n",
              "  </div>\n",
              "\n",
              "\n",
              "<div id=\"df-d8d71cdc-8da2-4326-9124-d7f4112c523e\">\n",
              "  <button class=\"colab-df-quickchart\" onclick=\"quickchart('df-d8d71cdc-8da2-4326-9124-d7f4112c523e')\"\n",
              "            title=\"Suggest charts.\"\n",
              "            style=\"display:none;\">\n",
              "\n",
              "<svg xmlns=\"http://www.w3.org/2000/svg\" height=\"24px\"viewBox=\"0 0 24 24\"\n",
              "     width=\"24px\">\n",
              "    <g>\n",
              "        <path d=\"M19 3H5c-1.1 0-2 .9-2 2v14c0 1.1.9 2 2 2h14c1.1 0 2-.9 2-2V5c0-1.1-.9-2-2-2zM9 17H7v-7h2v7zm4 0h-2V7h2v10zm4 0h-2v-4h2v4z\"/>\n",
              "    </g>\n",
              "</svg>\n",
              "  </button>\n",
              "\n",
              "<style>\n",
              "  .colab-df-quickchart {\n",
              "      --bg-color: #E8F0FE;\n",
              "      --fill-color: #1967D2;\n",
              "      --hover-bg-color: #E2EBFA;\n",
              "      --hover-fill-color: #174EA6;\n",
              "      --disabled-fill-color: #AAA;\n",
              "      --disabled-bg-color: #DDD;\n",
              "  }\n",
              "\n",
              "  [theme=dark] .colab-df-quickchart {\n",
              "      --bg-color: #3B4455;\n",
              "      --fill-color: #D2E3FC;\n",
              "      --hover-bg-color: #434B5C;\n",
              "      --hover-fill-color: #FFFFFF;\n",
              "      --disabled-bg-color: #3B4455;\n",
              "      --disabled-fill-color: #666;\n",
              "  }\n",
              "\n",
              "  .colab-df-quickchart {\n",
              "    background-color: var(--bg-color);\n",
              "    border: none;\n",
              "    border-radius: 50%;\n",
              "    cursor: pointer;\n",
              "    display: none;\n",
              "    fill: var(--fill-color);\n",
              "    height: 32px;\n",
              "    padding: 0;\n",
              "    width: 32px;\n",
              "  }\n",
              "\n",
              "  .colab-df-quickchart:hover {\n",
              "    background-color: var(--hover-bg-color);\n",
              "    box-shadow: 0 1px 2px rgba(60, 64, 67, 0.3), 0 1px 3px 1px rgba(60, 64, 67, 0.15);\n",
              "    fill: var(--button-hover-fill-color);\n",
              "  }\n",
              "\n",
              "  .colab-df-quickchart-complete:disabled,\n",
              "  .colab-df-quickchart-complete:disabled:hover {\n",
              "    background-color: var(--disabled-bg-color);\n",
              "    fill: var(--disabled-fill-color);\n",
              "    box-shadow: none;\n",
              "  }\n",
              "\n",
              "  .colab-df-spinner {\n",
              "    border: 2px solid var(--fill-color);\n",
              "    border-color: transparent;\n",
              "    border-bottom-color: var(--fill-color);\n",
              "    animation:\n",
              "      spin 1s steps(1) infinite;\n",
              "  }\n",
              "\n",
              "  @keyframes spin {\n",
              "    0% {\n",
              "      border-color: transparent;\n",
              "      border-bottom-color: var(--fill-color);\n",
              "      border-left-color: var(--fill-color);\n",
              "    }\n",
              "    20% {\n",
              "      border-color: transparent;\n",
              "      border-left-color: var(--fill-color);\n",
              "      border-top-color: var(--fill-color);\n",
              "    }\n",
              "    30% {\n",
              "      border-color: transparent;\n",
              "      border-left-color: var(--fill-color);\n",
              "      border-top-color: var(--fill-color);\n",
              "      border-right-color: var(--fill-color);\n",
              "    }\n",
              "    40% {\n",
              "      border-color: transparent;\n",
              "      border-right-color: var(--fill-color);\n",
              "      border-top-color: var(--fill-color);\n",
              "    }\n",
              "    60% {\n",
              "      border-color: transparent;\n",
              "      border-right-color: var(--fill-color);\n",
              "    }\n",
              "    80% {\n",
              "      border-color: transparent;\n",
              "      border-right-color: var(--fill-color);\n",
              "      border-bottom-color: var(--fill-color);\n",
              "    }\n",
              "    90% {\n",
              "      border-color: transparent;\n",
              "      border-bottom-color: var(--fill-color);\n",
              "    }\n",
              "  }\n",
              "</style>\n",
              "\n",
              "  <script>\n",
              "    async function quickchart(key) {\n",
              "      const quickchartButtonEl =\n",
              "        document.querySelector('#' + key + ' button');\n",
              "      quickchartButtonEl.disabled = true;  // To prevent multiple clicks.\n",
              "      quickchartButtonEl.classList.add('colab-df-spinner');\n",
              "      try {\n",
              "        const charts = await google.colab.kernel.invokeFunction(\n",
              "            'suggestCharts', [key], {});\n",
              "      } catch (error) {\n",
              "        console.error('Error during call to suggestCharts:', error);\n",
              "      }\n",
              "      quickchartButtonEl.classList.remove('colab-df-spinner');\n",
              "      quickchartButtonEl.classList.add('colab-df-quickchart-complete');\n",
              "    }\n",
              "    (() => {\n",
              "      let quickchartButtonEl =\n",
              "        document.querySelector('#df-d8d71cdc-8da2-4326-9124-d7f4112c523e button');\n",
              "      quickchartButtonEl.style.display =\n",
              "        google.colab.kernel.accessAllowed ? 'block' : 'none';\n",
              "    })();\n",
              "  </script>\n",
              "</div>\n",
              "    </div>\n",
              "  </div>\n"
            ]
          },
          "metadata": {},
          "execution_count": 9
        }
      ],
      "source": [
        "# Extract numeric data\n",
        "numeric_data = raw_data[numeric_columns]\n",
        "numeric_data.head()"
      ]
    },
    {
      "cell_type": "markdown",
      "id": "a51ca5a4-e780-4b42-a304-01c5b6a915b2",
      "metadata": {
        "id": "a51ca5a4-e780-4b42-a304-01c5b6a915b2"
      },
      "source": [
        "Now let's deal with the missing values in the data."
      ]
    },
    {
      "cell_type": "code",
      "execution_count": null,
      "id": "a9084d6e-2a1f-4e81-ab29-a575cf340478",
      "metadata": {
        "id": "a9084d6e-2a1f-4e81-ab29-a575cf340478",
        "colab": {
          "base_uri": "https://localhost:8080/"
        },
        "outputId": "39cef36c-83ca-47fd-d7fa-3f1096733442"
      },
      "outputs": [
        {
          "output_type": "execute_result",
          "data": {
            "text/plain": [
              "['LotFrontage', 'MasVnrArea', 'GarageYrBlt']"
            ]
          },
          "metadata": {},
          "execution_count": 10
        }
      ],
      "source": [
        "# Display features with missing values\n",
        "nan_columns = np.any(pd.isna(numeric_data), axis = 0)\n",
        "nan_columns = list(nan_columns[nan_columns == True].index)\n",
        "nan_columns"
      ]
    },
    {
      "cell_type": "markdown",
      "id": "748bbb00-d6db-47a8-b295-8652159c69c1",
      "metadata": {
        "id": "748bbb00-d6db-47a8-b295-8652159c69c1"
      },
      "source": [
        "We simply replace them with zero."
      ]
    },
    {
      "cell_type": "code",
      "execution_count": null,
      "id": "45c3bbd9-c641-4864-b657-b193d1659f67",
      "metadata": {
        "id": "45c3bbd9-c641-4864-b657-b193d1659f67"
      },
      "outputs": [],
      "source": [
        "# Replace NAN with 0\n",
        "numeric_data = numeric_data.fillna(0)"
      ]
    },
    {
      "cell_type": "markdown",
      "id": "a3244053-ee49-4f29-b4c1-aefe674bdb33",
      "metadata": {
        "id": "a3244053-ee49-4f29-b4c1-aefe674bdb33"
      },
      "source": [
        "##### Creating training and test set\n",
        "\n",
        "Let's split the data for training and test. We use the `train_test_split` module of `sklearn`:"
      ]
    },
    {
      "cell_type": "code",
      "execution_count": null,
      "id": "91354d50-6616-4454-a8cf-3aa8a615d9e6",
      "metadata": {
        "id": "91354d50-6616-4454-a8cf-3aa8a615d9e6"
      },
      "outputs": [],
      "source": [
        "# Splitting training/test set\n",
        "numeric_data_train, numeric_data_test = train_test_split(numeric_data, test_size=0.1, random_state=7)"
      ]
    },
    {
      "cell_type": "markdown",
      "id": "0ac2ae80-d076-489e-af05-251d81820da3",
      "metadata": {
        "id": "0ac2ae80-d076-489e-af05-251d81820da3"
      },
      "source": [
        "##### Normalizing the data\n",
        "\n",
        "Before training our model, we need to normalize the data. We do this by subtracting each column from its minimum value and then dividing it by the difference between maximum and minimum. We use the `MinMaxScaler` of `sklearn`."
      ]
    },
    {
      "cell_type": "code",
      "execution_count": null,
      "id": "ea634322-702e-42d7-aaa3-722b144ac6f9",
      "metadata": {
        "id": "ea634322-702e-42d7-aaa3-722b144ac6f9"
      },
      "outputs": [],
      "source": [
        "#Define the scaler\n",
        "scaler = MinMaxScaler()\n",
        "#Fit the scaler\n",
        "scaler.fit(numeric_data_train)\n",
        "#Transform the train and the test set\n",
        "numeric_data_train.loc[:,:] = scaler.transform(numeric_data_train)\n",
        "numeric_data_test.loc[:,:] = scaler.transform(numeric_data_test)"
      ]
    },
    {
      "cell_type": "markdown",
      "id": "dce94995-d1aa-4efc-9bc9-727c32d23291",
      "metadata": {
        "id": "dce94995-d1aa-4efc-9bc9-727c32d23291"
      },
      "source": [
        "Finally, we split the column we want to predict (\"SalePrice\") to our features:"
      ]
    },
    {
      "cell_type": "code",
      "execution_count": null,
      "id": "14d211f0-ee9d-4ded-bfb0-c870e91ff0a9",
      "metadata": {
        "id": "14d211f0-ee9d-4ded-bfb0-c870e91ff0a9"
      },
      "outputs": [],
      "source": [
        "# Extract features and output\n",
        "numeric_x_columns = list(numeric_data_train.columns)\n",
        "numeric_x_columns.remove(\"SalePrice\")\n",
        "X_train_df = numeric_data_train[numeric_x_columns]\n",
        "y_train_df = pd.DataFrame(numeric_data_train[\"SalePrice\"])\n",
        "X_test_df = numeric_data_test[numeric_x_columns]\n",
        "y_test_df = pd.DataFrame(numeric_data_test[\"SalePrice\"])"
      ]
    },
    {
      "cell_type": "markdown",
      "id": "6b91b5e4-c62a-48eb-9ded-7b3799c69f85",
      "metadata": {
        "id": "6b91b5e4-c62a-48eb-9ded-7b3799c69f85"
      },
      "source": [
        "Ok, all set, we can start building our Neural Net!"
      ]
    },
    {
      "cell_type": "markdown",
      "id": "e69796e1-d7d7-4cf4-9950-395082f2084d",
      "metadata": {
        "id": "e69796e1-d7d7-4cf4-9950-395082f2084d"
      },
      "source": [
        "#### Building a Shallow Neural Network model with PyTorch\n",
        "\n",
        "We use the `PyTorch` library ([Documentation](https://pytorch.org/), imported at the beginning of this notebook with the following lines of codes:\n",
        "\n",
        "```python\n",
        "import torch\n",
        "import torch.nn as nn\n",
        "```\n",
        "\n",
        "`torch.nn` contains the building blocks to build Neural Nets, e.g., the layers ([Documentation](https://pytorch.org/docs/stable/nn.html))."
      ]
    },
    {
      "cell_type": "markdown",
      "id": "b18b7976-ea1e-4a95-9e53-c29d816e615d",
      "metadata": {
        "id": "b18b7976-ea1e-4a95-9e53-c29d816e615d"
      },
      "source": [
        "##### Create tensors\n",
        "\n",
        "The first step is to convert the data into torch tensors. A `torch.Tensor` is a multi-dimensional matrix containing elements of a single data type. It's very similar to arrays in `NumPy`.\n",
        "\n",
        "We rely on `torch.tensor()` for the conversion ([Documentation](https://pytorch.org/docs/stable/tensors.html))."
      ]
    },
    {
      "cell_type": "code",
      "execution_count": null,
      "id": "ad283baf-f652-4d6f-a6fa-441c53731ea2",
      "metadata": {
        "id": "ad283baf-f652-4d6f-a6fa-441c53731ea2"
      },
      "outputs": [],
      "source": [
        "X_train = torch.tensor(X_train_df.values, dtype=torch.float)\n",
        "y_train = torch.tensor(y_train_df.values, dtype=torch.float)\n",
        "X_test = torch.tensor(X_test_df.values, dtype=torch.float)\n",
        "y_test = torch.tensor(y_test_df.values, dtype=torch.float)"
      ]
    },
    {
      "cell_type": "code",
      "execution_count": null,
      "id": "2abafe50-c9cf-4275-8d08-3aca51122e0f",
      "metadata": {
        "id": "2abafe50-c9cf-4275-8d08-3aca51122e0f",
        "colab": {
          "base_uri": "https://localhost:8080/"
        },
        "outputId": "571bddd2-c990-4e92-ac19-2668f0acbbd1"
      },
      "outputs": [
        {
          "output_type": "stream",
          "name": "stdout",
          "text": [
            "torch.Size([1314, 36]) torch.Size([1314, 1])\n"
          ]
        }
      ],
      "source": [
        "print(X_train.size(), y_train.size())"
      ]
    },
    {
      "cell_type": "markdown",
      "id": "aae66a72-8269-4917-9ac4-0c42f8dcd249",
      "metadata": {
        "id": "aae66a72-8269-4917-9ac4-0c42f8dcd249"
      },
      "source": [
        "##### Define and train a model with PyTorch\n",
        "\n",
        "A model is defined as a `class` in PyTorch. Classes are a means of bundling data and functionality together, allowing to create a new type of Python object. You can read the Python documentation on [Classes](https://docs.python.org/3/tutorial/classes.html) to learn more about them.\n",
        "\n",
        "When you create your Neural Net, you should define:\n",
        "- a `__init__` function in which you define the layers of your network.\n",
        "- a `forward` function (method) that defines the forward pass on the network.\n",
        "\n",
        "Now the goal is to create a single layer network with ReLU activation:\n",
        "- The layer `nn.Linear()` performs a linear transformation ([Documentation](https://pytorch.org/docs/stable/generated/torch.nn.Linear.html)). The input and output are the number of neurons\n",
        "- `nn.ReLU()` applies the Rectified Linear Unit function: $ReLU(x)=\\max(0,x)$ ([Documentation](https://pytorch.org/docs/stable/generated/torch.nn.ReLU.html))."
      ]
    },
    {
      "cell_type": "code",
      "execution_count": null,
      "id": "27e00f35-13ce-4e0b-946c-a2f0ad780e79",
      "metadata": {
        "id": "27e00f35-13ce-4e0b-946c-a2f0ad780e79"
      },
      "outputs": [],
      "source": [
        "class Net(nn.Module):\n",
        "    def __init__(self, D_in, H1, D_out):\n",
        "        super(Net, self).__init__()\n",
        "\n",
        "        self.linear1 = nn.Linear(D_in, H1)        # Linear transformation for hidden layer\n",
        "        self.linear2 = nn.Linear(H1, D_out)       # Linear transformation for output layer\n",
        "        self.activation = nn.ReLU()               # Activation function for hidden layer\n",
        "\n",
        "    def forward(self, x):\n",
        "        y_pred = self.activation(self.linear1(x))   # Hidden layer: linear transformation + ReLU\n",
        "        y_pred = self.linear2(y_pred)               # Output layer: linear transformation\n",
        "        return y_pred"
      ]
    },
    {
      "cell_type": "markdown",
      "id": "3ccb4e35-61d3-49fe-aa50-a0c9e7590be9",
      "metadata": {
        "id": "3ccb4e35-61d3-49fe-aa50-a0c9e7590be9"
      },
      "source": [
        "`D_in` is the input dimension, i.e., the number of features. Similarly, `D_out` is the output dimension, i.e., 1 (we only predict the \"SalePrice\"):"
      ]
    },
    {
      "cell_type": "code",
      "execution_count": null,
      "id": "7dc3176e-1cab-4b11-88c6-f3547752aca3",
      "metadata": {
        "id": "7dc3176e-1cab-4b11-88c6-f3547752aca3"
      },
      "outputs": [],
      "source": [
        "D_in, D_out = X_train.shape[1], y_train.shape[1]"
      ]
    },
    {
      "cell_type": "markdown",
      "id": "1be40cbf-4811-4338-afab-2de1798c6257",
      "metadata": {
        "id": "1be40cbf-4811-4338-afab-2de1798c6257"
      },
      "source": [
        "Ok, let's define our first model. It is an instance of our newly-created class \"Net\". We are going to use 500 neurons for the hidden layer:"
      ]
    },
    {
      "cell_type": "code",
      "execution_count": null,
      "id": "1c315b3f-951b-4b8b-8e5b-12594dcc265f",
      "metadata": {
        "id": "1c315b3f-951b-4b8b-8e5b-12594dcc265f"
      },
      "outputs": [],
      "source": [
        "# Model with 500 neurons\n",
        "model1 = Net(D_in, 500, D_out)"
      ]
    },
    {
      "cell_type": "markdown",
      "source": [
        "Let's calculate now how many parameters we have in the model."
      ],
      "metadata": {
        "id": "WfBZxU5fmHsg"
      },
      "id": "WfBZxU5fmHsg"
    },
    {
      "cell_type": "code",
      "source": [
        "# calculate how many parameters are in the model\n",
        "pytorch_total_params = sum(p.numel() for p in model1.parameters() if p.requires_grad)\n",
        "print(pytorch_total_params)"
      ],
      "metadata": {
        "colab": {
          "base_uri": "https://localhost:8080/"
        },
        "id": "2_pUo4LGl7Us",
        "outputId": "67991f1f-90b4-4cda-d99c-5b8a7ad957b3"
      },
      "id": "2_pUo4LGl7Us",
      "execution_count": null,
      "outputs": [
        {
          "output_type": "stream",
          "name": "stdout",
          "text": [
            "19001\n"
          ]
        }
      ]
    },
    {
      "cell_type": "markdown",
      "id": "ae8c9515-d808-4838-92d1-a56deb34ff08",
      "metadata": {
        "id": "ae8c9515-d808-4838-92d1-a56deb34ff08"
      },
      "source": [
        "The next steps is to define the **loss criterion** and the **optimizer** for the network. That is, we have to define the loss function we want to optimize during training and also the optimization method. We use:\n",
        "- `MSELoss()` as loss criterion, i.e., the mean square error ([Documentation](https://pytorch.org/docs/stable/generated/torch.nn.MSELoss.html))\n",
        "- `SGD()`as optimizer, i.e., stochastic gradient descent ([Documentation](https://pytorch.org/docs/stable/generated/torch.optim.SGD.html))"
      ]
    },
    {
      "cell_type": "code",
      "execution_count": null,
      "id": "0efef490-e70e-445e-be89-3f206912d03e",
      "metadata": {
        "id": "0efef490-e70e-445e-be89-3f206912d03e"
      },
      "outputs": [],
      "source": [
        "# MSE loss\n",
        "criterion = nn.MSELoss(reduction='sum')\n",
        "# SGD optimizer for finding the weights of the network\n",
        "optimizer = torch.optim.SGD(model1.parameters(), lr=1e-4)"
      ]
    },
    {
      "cell_type": "markdown",
      "id": "a4268da0-fa53-43e2-8ee8-e8f3bb952d22",
      "metadata": {
        "id": "a4268da0-fa53-43e2-8ee8-e8f3bb952d22"
      },
      "source": [
        "Wonderful, we are ready to do the training! We can simply by looping over the number of iterations. The training has 3 main steps:\n",
        "- A forward pass to compute the prediction for the current data point (batch).\n",
        "- Computing the loss for the current prediction with the previously defined criterion.\n",
        "- A backward pass to compute the gradient of the loss with respect to the weight of the network (`backward()`)\n",
        "- Finally, updating the weights of the network (`optimizer.step()`).\n",
        "\n",
        "Note that in each backward pass PyTorch saves the gradient for all of the parameters. Therefore it is important to replace the old gradient values with zero in the beginning of each iteration (`optimizer.zero_grad()`), otherwise the gradients will be accumulated during the iterations!"
      ]
    },
    {
      "cell_type": "code",
      "execution_count": null,
      "id": "42ec6c24-99e9-4a0f-bebd-25ea390edd0b",
      "metadata": {
        "id": "42ec6c24-99e9-4a0f-bebd-25ea390edd0b",
        "colab": {
          "base_uri": "https://localhost:8080/"
        },
        "outputId": "294c7f13-d28c-4c29-d795-bde338593709"
      },
      "outputs": [
        {
          "output_type": "stream",
          "name": "stdout",
          "text": [
            "0 156.39678955078125\n",
            "1 967.2960205078125\n",
            "2 5312.82373046875\n",
            "3 7639.046875\n",
            "4 283.7851257324219\n",
            "5 149.80709838867188\n",
            "6 83.18368530273438\n",
            "7 49.61655807495117\n",
            "8 32.58191680908203\n",
            "9 23.87906265258789\n",
            "10 19.390562057495117\n",
            "11 17.0369930267334\n",
            "12 15.766419410705566\n",
            "13 15.045997619628906\n",
            "14 14.605480194091797\n",
            "15 14.30778694152832\n",
            "16 14.083463668823242\n",
            "17 13.897359848022461\n",
            "18 13.731629371643066\n",
            "19 13.577133178710938\n",
            "20 13.429250717163086\n",
            "21 13.28559684753418\n",
            "22 13.1448974609375\n",
            "23 13.00654411315918\n",
            "24 12.870192527770996\n",
            "25 12.735626220703125\n",
            "26 12.602727890014648\n",
            "27 12.47140884399414\n",
            "28 12.341499328613281\n",
            "29 12.213062286376953\n",
            "30 12.086006164550781\n",
            "31 11.96035385131836\n",
            "32 11.836103439331055\n",
            "33 11.71324348449707\n",
            "34 11.591706275939941\n",
            "35 11.471450805664062\n",
            "36 11.35236930847168\n",
            "37 11.234479904174805\n",
            "38 11.11778736114502\n",
            "39 11.002229690551758\n",
            "40 10.887868881225586\n",
            "41 10.774656295776367\n",
            "42 10.662574768066406\n",
            "43 10.551652908325195\n",
            "44 10.441871643066406\n",
            "45 10.333244323730469\n",
            "46 10.225703239440918\n",
            "47 10.11917781829834\n",
            "48 10.013748168945312\n",
            "49 9.909493446350098\n",
            "50 9.806440353393555\n",
            "51 9.704534530639648\n",
            "52 9.603793144226074\n",
            "53 9.504151344299316\n",
            "54 9.405620574951172\n",
            "55 9.308162689208984\n",
            "56 9.211761474609375\n",
            "57 9.116485595703125\n",
            "58 9.022382736206055\n",
            "59 8.929482460021973\n",
            "60 8.837844848632812\n",
            "61 8.747386932373047\n",
            "62 8.65814208984375\n",
            "63 8.570157051086426\n",
            "64 8.483386993408203\n",
            "65 8.397781372070312\n",
            "66 8.313344955444336\n",
            "67 8.23012924194336\n",
            "68 8.148141860961914\n",
            "69 8.067368507385254\n",
            "70 7.987821578979492\n",
            "71 7.909515857696533\n",
            "72 7.832397937774658\n",
            "73 7.756455421447754\n",
            "74 7.681657791137695\n",
            "75 7.60809326171875\n",
            "76 7.535673141479492\n",
            "77 7.464526653289795\n",
            "78 7.3947272300720215\n",
            "79 7.326054573059082\n",
            "80 7.25862455368042\n",
            "81 7.1923089027404785\n",
            "82 7.12710428237915\n",
            "83 7.062948226928711\n",
            "84 6.999866485595703\n",
            "85 6.937981128692627\n",
            "86 6.877291202545166\n",
            "87 6.817750453948975\n",
            "88 6.759451389312744\n",
            "89 6.702420234680176\n",
            "90 6.646502494812012\n",
            "91 6.591699600219727\n",
            "92 6.537915229797363\n",
            "93 6.485206604003906\n",
            "94 6.4335174560546875\n",
            "95 6.38286018371582\n",
            "96 6.333263397216797\n",
            "97 6.284739971160889\n",
            "98 6.237212181091309\n",
            "99 6.190680503845215\n",
            "100 6.145178318023682\n",
            "101 6.100616455078125\n",
            "102 6.057016849517822\n",
            "103 6.014455795288086\n",
            "104 5.97282600402832\n",
            "105 5.932106971740723\n",
            "106 5.892306804656982\n",
            "107 5.85344934463501\n",
            "108 5.815492153167725\n",
            "109 5.7783355712890625\n",
            "110 5.741995334625244\n",
            "111 5.7064409255981445\n",
            "112 5.671675682067871\n",
            "113 5.6376872062683105\n",
            "114 5.604475498199463\n",
            "115 5.572038650512695\n",
            "116 5.540338516235352\n",
            "117 5.5093512535095215\n",
            "118 5.479109764099121\n",
            "119 5.449612140655518\n",
            "120 5.420804500579834\n",
            "121 5.392642498016357\n",
            "122 5.365137100219727\n",
            "123 5.338244438171387\n",
            "124 5.311923027038574\n",
            "125 5.286190986633301\n",
            "126 5.261082172393799\n",
            "127 5.236526012420654\n",
            "128 5.2124786376953125\n",
            "129 5.188884735107422\n",
            "130 5.165791988372803\n",
            "131 5.143199920654297\n",
            "132 5.121072769165039\n",
            "133 5.099438667297363\n",
            "134 5.078254222869873\n",
            "135 5.0575032234191895\n",
            "136 5.037186145782471\n",
            "137 5.017280101776123\n",
            "138 4.997744083404541\n",
            "139 4.978574752807617\n",
            "140 4.959792137145996\n",
            "141 4.941379070281982\n",
            "142 4.923306465148926\n",
            "143 4.9055986404418945\n",
            "144 4.888237476348877\n",
            "145 4.871187210083008\n",
            "146 4.854432582855225\n",
            "147 4.837964057922363\n",
            "148 4.8217668533325195\n",
            "149 4.805850028991699\n",
            "150 4.790221691131592\n",
            "151 4.774875640869141\n",
            "152 4.759777069091797\n",
            "153 4.744912624359131\n",
            "154 4.730278968811035\n",
            "155 4.715869426727295\n",
            "156 4.70167350769043\n",
            "157 4.68772029876709\n",
            "158 4.673990726470947\n",
            "159 4.660484313964844\n",
            "160 4.647199630737305\n",
            "161 4.634115695953369\n",
            "162 4.621226787567139\n",
            "163 4.6085124015808105\n",
            "164 4.595953464508057\n",
            "165 4.583550453186035\n",
            "166 4.571328163146973\n",
            "167 4.559272766113281\n",
            "168 4.547372817993164\n",
            "169 4.535633087158203\n",
            "170 4.524053573608398\n",
            "171 4.512619972229004\n",
            "172 4.50134801864624\n",
            "173 4.490227699279785\n",
            "174 4.479268550872803\n",
            "175 4.468458652496338\n",
            "176 4.457768440246582\n",
            "177 4.447212219238281\n",
            "178 4.43677282333374\n",
            "179 4.426456928253174\n",
            "180 4.416269779205322\n",
            "181 4.406206130981445\n",
            "182 4.396258354187012\n",
            "183 4.386420726776123\n",
            "184 4.376690864562988\n",
            "185 4.367076873779297\n",
            "186 4.357582092285156\n",
            "187 4.348189830780029\n",
            "188 4.338888168334961\n",
            "189 4.329692840576172\n",
            "190 4.3205952644348145\n",
            "191 4.31158971786499\n",
            "192 4.3026862144470215\n",
            "193 4.293877124786377\n",
            "194 4.285155773162842\n",
            "195 4.2765302658081055\n",
            "196 4.2679948806762695\n",
            "197 4.25953483581543\n",
            "198 4.2511515617370605\n",
            "199 4.242846965789795\n",
            "200 4.234622001647949\n",
            "201 4.226475238800049\n",
            "202 4.2183990478515625\n",
            "203 4.210396766662598\n",
            "204 4.2024688720703125\n",
            "205 4.194604396820068\n",
            "206 4.186803817749023\n",
            "207 4.17905855178833\n",
            "208 4.1713666915893555\n",
            "209 4.163736820220947\n",
            "210 4.156161785125732\n",
            "211 4.148642063140869\n",
            "212 4.14117431640625\n",
            "213 4.133762359619141\n",
            "214 4.126399040222168\n",
            "215 4.119093894958496\n",
            "216 4.111845016479492\n",
            "217 4.10466194152832\n",
            "218 4.097540378570557\n",
            "219 4.090475082397461\n",
            "220 4.083473205566406\n",
            "221 4.076534271240234\n",
            "222 4.0696611404418945\n",
            "223 4.06284761428833\n",
            "224 4.056095123291016\n",
            "225 4.049397945404053\n",
            "226 4.042741298675537\n",
            "227 4.036144256591797\n",
            "228 4.029595375061035\n",
            "229 4.023093223571777\n",
            "230 4.0166425704956055\n",
            "231 4.010234832763672\n",
            "232 4.00386381149292\n",
            "233 3.9975388050079346\n",
            "234 3.991260051727295\n",
            "235 3.985018253326416\n",
            "236 3.9788153171539307\n",
            "237 3.9726595878601074\n",
            "238 3.9665379524230957\n",
            "239 3.9604651927948\n",
            "240 3.9544477462768555\n",
            "241 3.9484736919403076\n",
            "242 3.942528247833252\n",
            "243 3.9366204738616943\n",
            "244 3.9307608604431152\n",
            "245 3.9249467849731445\n",
            "246 3.9191770553588867\n",
            "247 3.9134371280670166\n",
            "248 3.9077320098876953\n",
            "249 3.902064323425293\n",
            "250 3.896436929702759\n",
            "251 3.890847682952881\n",
            "252 3.8853044509887695\n",
            "253 3.8797976970672607\n",
            "254 3.8743271827697754\n",
            "255 3.8688812255859375\n",
            "256 3.8634490966796875\n",
            "257 3.858048439025879\n",
            "258 3.8526864051818848\n",
            "259 3.8473668098449707\n",
            "260 3.8420746326446533\n",
            "261 3.836820363998413\n",
            "262 3.8316001892089844\n",
            "263 3.8264098167419434\n",
            "264 3.82124662399292\n",
            "265 3.8161118030548096\n",
            "266 3.8109943866729736\n",
            "267 3.8059051036834717\n",
            "268 3.8008363246917725\n",
            "269 3.7957875728607178\n",
            "270 3.7907662391662598\n",
            "271 3.7857654094696045\n",
            "272 3.780794620513916\n",
            "273 3.775852680206299\n",
            "274 3.770939588546753\n",
            "275 3.766049861907959\n",
            "276 3.7611913681030273\n",
            "277 3.756357431411743\n",
            "278 3.751556873321533\n",
            "279 3.7467894554138184\n",
            "280 3.742051601409912\n",
            "281 3.7373435497283936\n",
            "282 3.732661485671997\n",
            "283 3.7280049324035645\n",
            "284 3.7233567237854004\n",
            "285 3.7187328338623047\n",
            "286 3.71413516998291\n",
            "287 3.7095601558685303\n",
            "288 3.7050106525421143\n",
            "289 3.7004923820495605\n",
            "290 3.696007490158081\n",
            "291 3.6915476322174072\n",
            "292 3.6871092319488525\n",
            "293 3.6827051639556885\n",
            "294 3.678328275680542\n",
            "295 3.67398738861084\n",
            "296 3.6696736812591553\n",
            "297 3.6653852462768555\n",
            "298 3.661118507385254\n",
            "299 3.656874179840088\n",
            "300 3.6526522636413574\n",
            "301 3.6484551429748535\n",
            "302 3.644279956817627\n",
            "303 3.640122175216675\n",
            "304 3.63598895072937\n",
            "305 3.631873846054077\n",
            "306 3.6277899742126465\n",
            "307 3.6237270832061768\n",
            "308 3.6196861267089844\n",
            "309 3.615663766860962\n",
            "310 3.611661911010742\n",
            "311 3.60768461227417\n",
            "312 3.6037251949310303\n",
            "313 3.5997824668884277\n",
            "314 3.5958566665649414\n",
            "315 3.591953754425049\n",
            "316 3.5880701541900635\n",
            "317 3.58420467376709\n",
            "318 3.580364942550659\n",
            "319 3.5765485763549805\n",
            "320 3.572749376296997\n",
            "321 3.56897234916687\n",
            "322 3.5652143955230713\n",
            "323 3.5614867210388184\n",
            "324 3.5577781200408936\n",
            "325 3.554083824157715\n",
            "326 3.5504088401794434\n",
            "327 3.5467512607574463\n",
            "328 3.5431113243103027\n",
            "329 3.539487838745117\n",
            "330 3.535881519317627\n",
            "331 3.532285213470459\n",
            "332 3.5286970138549805\n",
            "333 3.5251288414001465\n",
            "334 3.5215704441070557\n",
            "335 3.5180115699768066\n",
            "336 3.514465570449829\n",
            "337 3.5109310150146484\n",
            "338 3.50740647315979\n",
            "339 3.5039005279541016\n",
            "340 3.500420093536377\n",
            "341 3.4969611167907715\n",
            "342 3.4935178756713867\n",
            "343 3.490088939666748\n",
            "344 3.4866771697998047\n",
            "345 3.483281135559082\n",
            "346 3.479901075363159\n",
            "347 3.4765357971191406\n",
            "348 3.473191022872925\n",
            "349 3.469860076904297\n",
            "350 3.4665422439575195\n",
            "351 3.4632391929626465\n",
            "352 3.4599499702453613\n",
            "353 3.4566807746887207\n",
            "354 3.4534292221069336\n",
            "355 3.450197458267212\n",
            "356 3.4469826221466064\n",
            "357 3.443787097930908\n",
            "358 3.44061279296875\n",
            "359 3.437453269958496\n",
            "360 3.4343113899230957\n",
            "361 3.4311742782592773\n",
            "362 3.4280459880828857\n",
            "363 3.4249329566955566\n",
            "364 3.421837091445923\n",
            "365 3.418752908706665\n",
            "366 3.4156808853149414\n",
            "367 3.4126200675964355\n",
            "368 3.409574270248413\n",
            "369 3.406541109085083\n",
            "370 3.4035162925720215\n",
            "371 3.4005000591278076\n",
            "372 3.397494316101074\n",
            "373 3.3944976329803467\n",
            "374 3.3915088176727295\n",
            "375 3.3885304927825928\n",
            "376 3.385556221008301\n",
            "377 3.382589817047119\n",
            "378 3.379634141921997\n",
            "379 3.37669038772583\n",
            "380 3.3737633228302\n",
            "381 3.370847463607788\n",
            "382 3.367940664291382\n",
            "383 3.3650460243225098\n",
            "384 3.3621633052825928\n",
            "385 3.359287977218628\n",
            "386 3.3564224243164062\n",
            "387 3.3535704612731934\n",
            "388 3.350722551345825\n",
            "389 3.347886562347412\n",
            "390 3.345059633255005\n",
            "391 3.342245578765869\n",
            "392 3.3394412994384766\n",
            "393 3.336650848388672\n",
            "394 3.3338818550109863\n",
            "395 3.331122875213623\n",
            "396 3.3283753395080566\n",
            "397 3.3256325721740723\n",
            "398 3.322901964187622\n",
            "399 3.320178508758545\n",
            "400 3.31746244430542\n",
            "401 3.3147568702697754\n",
            "402 3.312061309814453\n",
            "403 3.3093760013580322\n",
            "404 3.306702136993408\n",
            "405 3.3040401935577393\n",
            "406 3.301393747329712\n",
            "407 3.298759937286377\n",
            "408 3.2961370944976807\n",
            "409 3.2935242652893066\n",
            "410 3.2909116744995117\n",
            "411 3.2883098125457764\n",
            "412 3.285717248916626\n",
            "413 3.2831358909606934\n",
            "414 3.2805631160736084\n",
            "415 3.277994155883789\n",
            "416 3.2754297256469727\n",
            "417 3.27287220954895\n",
            "418 3.270324230194092\n",
            "419 3.2677838802337646\n",
            "420 3.2652587890625\n",
            "421 3.262751817703247\n",
            "422 3.2602574825286865\n",
            "423 3.2577695846557617\n",
            "424 3.25528883934021\n",
            "425 3.2528140544891357\n",
            "426 3.250349521636963\n",
            "427 3.247896909713745\n",
            "428 3.245455265045166\n",
            "429 3.243027687072754\n",
            "430 3.240610122680664\n",
            "431 3.2382025718688965\n",
            "432 3.2358083724975586\n",
            "433 3.2334282398223877\n",
            "434 3.2310597896575928\n",
            "435 3.2287023067474365\n",
            "436 3.2263550758361816\n",
            "437 3.2240171432495117\n",
            "438 3.221679449081421\n",
            "439 3.2193493843078613\n",
            "440 3.2170305252075195\n",
            "441 3.214719533920288\n",
            "442 3.212418556213379\n",
            "443 3.21012544631958\n",
            "444 3.2078442573547363\n",
            "445 3.2055764198303223\n",
            "446 3.203320026397705\n",
            "447 3.20107102394104\n",
            "448 3.1988277435302734\n",
            "449 3.1965904235839844\n",
            "450 3.194363594055176\n",
            "451 3.1921439170837402\n",
            "452 3.1899311542510986\n",
            "453 3.1877260208129883\n",
            "454 3.185527801513672\n",
            "455 3.183337688446045\n",
            "456 3.181154489517212\n",
            "457 3.1789770126342773\n",
            "458 3.1768040657043457\n",
            "459 3.174638032913208\n",
            "460 3.1724777221679688\n",
            "461 3.170320749282837\n",
            "462 3.1681649684906006\n",
            "463 3.166013240814209\n",
            "464 3.163870096206665\n",
            "465 3.1617393493652344\n",
            "466 3.159616470336914\n",
            "467 3.1574978828430176\n",
            "468 3.155388355255127\n",
            "469 3.153285503387451\n",
            "470 3.151190757751465\n",
            "471 3.1491012573242188\n",
            "472 3.147019863128662\n",
            "473 3.1449434757232666\n",
            "474 3.1428704261779785\n",
            "475 3.140803575515747\n",
            "476 3.138744831085205\n",
            "477 3.136697769165039\n",
            "478 3.1346588134765625\n",
            "479 3.1326279640197754\n",
            "480 3.1306042671203613\n",
            "481 3.1285884380340576\n",
            "482 3.126579999923706\n",
            "483 3.1245782375335693\n",
            "484 3.1225857734680176\n",
            "485 3.1205997467041016\n",
            "486 3.118622064590454\n",
            "487 3.1166470050811768\n",
            "488 3.114677667617798\n",
            "489 3.11271333694458\n",
            "490 3.1107563972473145\n",
            "491 3.1088056564331055\n",
            "492 3.1068615913391113\n",
            "493 3.104923963546753\n",
            "494 3.1029908657073975\n",
            "495 3.101060390472412\n",
            "496 3.0991368293762207\n",
            "497 3.097217321395874\n",
            "498 3.095306396484375\n",
            "499 3.093400478363037\n"
          ]
        }
      ],
      "source": [
        "losses1 = []\n",
        "losses1_test = []\n",
        "\n",
        "for t in range(500):                # 500 iterations\n",
        "\n",
        "    # Forward pass: compute prediction on training set\n",
        "    y_pred = model1(X_train)\n",
        "\n",
        "    # Compute loss\n",
        "    loss = criterion(y_pred, y_train)\n",
        "    print(t, loss.item())\n",
        "    losses1.append(loss.item())\n",
        "    if torch.isnan(loss):\n",
        "        break\n",
        "\n",
        "    # Compute gradient\n",
        "    optimizer.zero_grad()\n",
        "    loss.backward()\n",
        "\n",
        "    # Update\n",
        "    optimizer.step()\n",
        "\n",
        "    # Compute loss on test set\n",
        "    losses1_test.append(criterion(model1(X_test), y_test).item())"
      ]
    },
    {
      "cell_type": "markdown",
      "id": "09d02e07-bd34-45ac-867d-8982849127a0",
      "metadata": {
        "id": "09d02e07-bd34-45ac-867d-8982849127a0"
      },
      "source": [
        "Let's visualize the evolution of the MSE on the training set and test set:"
      ]
    },
    {
      "cell_type": "code",
      "execution_count": null,
      "id": "72f20a67-f7f3-457b-be47-fa0884f43921",
      "metadata": {
        "id": "72f20a67-f7f3-457b-be47-fa0884f43921",
        "colab": {
          "base_uri": "https://localhost:8080/",
          "height": 391
        },
        "outputId": "d7b55cca-a4a0-4cc9-cbe3-047c668386f4"
      },
      "outputs": [
        {
          "output_type": "display_data",
          "data": {
            "text/plain": [
              "<Figure size 600x400 with 1 Axes>"
            ],
            "image/png": "[encoded data removed]"
          },
          "metadata": {}
        }
      ],
      "source": [
        "# Plot training and test loss\n",
        "plt.figure(figsize=(6, 4))\n",
        "plt.plot(losses1, label=\"Training loss\")\n",
        "plt.plot(losses1_test, label=\"Test loss\")\n",
        "plt.title('Evolution of training and test loss - 500 neurons')\n",
        "plt.ylim(top=70, bottom=0.0)\n",
        "plt.legend()\n",
        "plt.show()"
      ]
    },
    {
      "cell_type": "markdown",
      "id": "1a0d9df0-6281-4f7e-bc24-de4043050d9f",
      "metadata": {
        "id": "1a0d9df0-6281-4f7e-bc24-de4043050d9f"
      },
      "source": [
        "Now let's try a new model with more neurons in the hidden layer. We use 1000 neurons, and follow the same steps as before:"
      ]
    },
    {
      "cell_type": "code",
      "execution_count": null,
      "id": "9e01fdf3-d136-4186-9031-5afa987dcff6",
      "metadata": {
        "id": "9e01fdf3-d136-4186-9031-5afa987dcff6"
      },
      "outputs": [],
      "source": [
        "model2 = Net(D_in, 1000, D_out)"
      ]
    },
    {
      "cell_type": "code",
      "execution_count": null,
      "id": "4bff1abe-a077-4aae-ac9b-3f691384d92d",
      "metadata": {
        "id": "4bff1abe-a077-4aae-ac9b-3f691384d92d"
      },
      "outputs": [],
      "source": [
        "# MSE loss\n",
        "criterion = nn.MSELoss(reduction='sum')\n",
        "# SGD optimizer for finding the weights of the network\n",
        "optimizer = torch.optim.SGD(model2.parameters(), lr=1e-4)"
      ]
    },
    {
      "cell_type": "code",
      "execution_count": null,
      "id": "6a66ea8a-0024-4a15-a610-b2a48bffb53f",
      "metadata": {
        "id": "6a66ea8a-0024-4a15-a610-b2a48bffb53f"
      },
      "outputs": [],
      "source": [
        "losses2 = []\n",
        "\n",
        "for t in range(500):\n",
        "    y_pred = model2(X_train)\n",
        "\n",
        "    loss = criterion(y_pred, y_train)\n",
        "    losses2.append(loss.item())\n",
        "\n",
        "    if torch.isnan(loss):\n",
        "        break\n",
        "\n",
        "    optimizer.zero_grad()\n",
        "    loss.backward()\n",
        "    optimizer.step()"
      ]
    },
    {
      "cell_type": "markdown",
      "id": "9a867ebe-fc63-48e5-bf2c-4c0f04c4f507",
      "metadata": {
        "id": "9a867ebe-fc63-48e5-bf2c-4c0f04c4f507"
      },
      "source": [
        "Let's visualize the evolution of the training loss for the two models:"
      ]
    },
    {
      "cell_type": "code",
      "execution_count": null,
      "id": "e65c835d-cadf-4149-83f0-36356f48a67a",
      "metadata": {
        "id": "e65c835d-cadf-4149-83f0-36356f48a67a",
        "colab": {
          "base_uri": "https://localhost:8080/",
          "height": 391
        },
        "outputId": "53473407-cda2-4563-c49e-1bbacd88b7b5"
      },
      "outputs": [
        {
          "output_type": "display_data",
          "data": {
            "text/plain": [
              "<Figure size 600x400 with 1 Axes>"
            ],
            "image/png": "[encoded data removed]"
          },
          "metadata": {}
        }
      ],
      "source": [
        "# Plot training and test loss\n",
        "plt.figure(figsize=(6, 4))\n",
        "plt.plot(losses1, label=\"Model 1: 500 neurons\")\n",
        "plt.plot(losses2, label=\"Model 2: 1000 neurons\")\n",
        "plt.title('Evolution of training loss')\n",
        "plt.ylim(top=70, bottom=0.0)\n",
        "plt.legend()\n",
        "plt.show()"
      ]
    },
    {
      "cell_type": "markdown",
      "id": "2da286f3-4298-4bac-901a-a553314f7201",
      "metadata": {
        "id": "2da286f3-4298-4bac-901a-a553314f7201"
      },
      "source": [
        "Let's compare the MSE loss on the test data:"
      ]
    },
    {
      "cell_type": "code",
      "execution_count": null,
      "id": "e7035489-609d-423f-a36c-0158923fb064",
      "metadata": {
        "id": "e7035489-609d-423f-a36c-0158923fb064",
        "colab": {
          "base_uri": "https://localhost:8080/"
        },
        "outputId": "170e511e-db8a-4696-c8f8-f752c9869d74"
      },
      "outputs": [
        {
          "output_type": "stream",
          "name": "stdout",
          "text": [
            "MSE loss for model 1:  tensor(0.2938, grad_fn=<MseLossBackward0>)\n",
            "MSE loss for model 2:  tensor(0.3284, grad_fn=<MseLossBackward0>)\n"
          ]
        }
      ],
      "source": [
        "# prediction for model 1\n",
        "model1_pred = model1(X_test)\n",
        "print(\"MSE loss for model 1: \", criterion(model1_pred, y_test))\n",
        "# prediction for model 2\n",
        "model2_pred = model2(X_test)\n",
        "print(\"MSE loss for model 2: \", criterion(model2_pred, y_test))"
      ]
    },
    {
      "cell_type": "markdown",
      "source": [
        "## Assignment: Predict the streams of a song with a 2 layer neural network"
      ],
      "metadata": {
        "id": "dorz99y4EToc"
      },
      "id": "dorz99y4EToc"
    },
    {
      "cell_type": "markdown",
      "source": [
        "Based on this dataset ([link](https://raw.githubusercontent.com/michalis0/DataScience_and_MachineLearning/master/Week_5/data/spotify.csv)) imported from kaggle, create a Neural Network that will predict the streams of a song based on its bpm, key, danceability, valence, energy, acousticness, instrumentalness, liveness, and speechiness. (Hint: if there are some errors, try to copy/paste them in Google to see some solutions.)"
      ],
      "metadata": {
        "id": "CuT4YoaXEV-A"
      },
      "id": "CuT4YoaXEV-A"
    },
    {
      "cell_type": "code",
      "source": [
        "# import the dataset\n",
        "df_lab = pd.read_csv(\"https://raw.githubusercontent.com/JasminaZHAW/MLDM2/main/labs/data/spotify.csv\", encoding='latin-1', index_col=\"Unnamed: 0\")\n",
        "display(df_lab)"
      ],
      "metadata": {
        "id": "CUKC2qaLETBV"
      },
      "id": "CUKC2qaLETBV",
      "execution_count": null,
      "outputs": []
    },
    {
      "cell_type": "code",
      "execution_count": null,
      "id": "11c1303a-7a43-4bcc-a930-b91d16acf1af",
      "metadata": {
        "id": "11c1303a-7a43-4bcc-a930-b91d16acf1af"
      },
      "outputs": [],
      "source": [
        "# select only the columns that you need based on the problem specification and store them in a dataframe\n"
      ]
    },
    {
      "cell_type": "code",
      "source": [
        "# split the training/test dataset\n"
      ],
      "metadata": {
        "id": "iPg_l8aOID0E"
      },
      "id": "iPg_l8aOID0E",
      "execution_count": null,
      "outputs": []
    },
    {
      "cell_type": "code",
      "source": [
        "# # encode 'key' feature that is non-numeric to numeric using LabelEncoder\n"
      ],
      "metadata": {
        "id": "yohti5cUXn7I"
      },
      "id": "yohti5cUXn7I",
      "execution_count": null,
      "outputs": []
    },
    {
      "cell_type": "code",
      "source": [
        "# scale your data using MinMaxScaler\n"
      ],
      "metadata": {
        "id": "_EiU-bHLOO_R"
      },
      "id": "_EiU-bHLOO_R",
      "execution_count": null,
      "outputs": []
    },
    {
      "cell_type": "code",
      "source": [
        "# extract features and output\n"
      ],
      "metadata": {
        "id": "Gaosh24gOOqz"
      },
      "id": "Gaosh24gOOqz",
      "execution_count": null,
      "outputs": []
    },
    {
      "cell_type": "code",
      "source": [
        "# Transform the data into tensor\n"
      ],
      "metadata": {
        "id": "kVXb22yzOrFD"
      },
      "id": "kVXb22yzOrFD",
      "execution_count": null,
      "outputs": []
    },
    {
      "cell_type": "markdown",
      "source": [
        "Now create a Neural Net class with two hidden layer using the ReLU activation in both of them:"
      ],
      "metadata": {
        "id": "oJBlJsBYO6Qa"
      },
      "id": "oJBlJsBYO6Qa"
    },
    {
      "cell_type": "code",
      "source": [
        "class Net_lab(nn.Module):\n"
      ],
      "metadata": {
        "id": "gw_4_CVsO1yL"
      },
      "id": "gw_4_CVsO1yL",
      "execution_count": null,
      "outputs": []
    },
    {
      "cell_type": "code",
      "source": [
        "# give the right dimension to the input and output layers\n"
      ],
      "metadata": {
        "id": "YlpMENjKO2dl"
      },
      "id": "YlpMENjKO2dl",
      "execution_count": null,
      "outputs": []
    },
    {
      "cell_type": "code",
      "source": [
        "# Create a model with 100 neurons for both hidden layers\n"
      ],
      "metadata": {
        "id": "MPvresr1O2bR"
      },
      "id": "MPvresr1O2bR",
      "execution_count": null,
      "outputs": []
    },
    {
      "cell_type": "code",
      "source": [
        "# calculate how many parameters the model has\n"
      ],
      "metadata": {
        "id": "gjsYOgwDmU2C"
      },
      "id": "gjsYOgwDmU2C",
      "execution_count": null,
      "outputs": []
    },
    {
      "cell_type": "code",
      "source": [
        "# use the MSELoss() as the loss criterion and Adam() as the optimizer (search online the optimizer)\n"
      ],
      "metadata": {
        "id": "y8FdT7BDQSBF"
      },
      "id": "y8FdT7BDQSBF",
      "execution_count": null,
      "outputs": []
    },
    {
      "cell_type": "markdown",
      "source": [
        "Now create a loop to train your model (with 500 iterations), don't forget to save your loss criterion in order to plot it later !"
      ],
      "metadata": {
        "id": "3QvTMKNoZSes"
      },
      "id": "3QvTMKNoZSes"
    },
    {
      "cell_type": "code",
      "source": [],
      "metadata": {
        "id": "WHghL05IQR3d"
      },
      "id": "WHghL05IQR3d",
      "execution_count": null,
      "outputs": []
    },
    {
      "cell_type": "code",
      "source": [
        "# Plot training and test loss\n"
      ],
      "metadata": {
        "id": "-OYcTnB2Q8ke"
      },
      "id": "-OYcTnB2Q8ke",
      "execution_count": null,
      "outputs": []
    }
  ],
  "metadata": {
    "kernelspec": {
      "display_name": "Python 3 (ipykernel)",
      "language": "python",
      "name": "python3"
    },
    "language_info": {
      "codemirror_mode": {
        "name": "ipython",
        "version": 3
      },
      "file_extension": ".py",
      "mimetype": "text/x-python",
      "name": "python",
      "nbconvert_exporter": "python",
      "pygments_lexer": "ipython3",
      "version": "3.9.4"
    },
    "colab": {
      "provenance": []
    }
  },
  "nbformat": 4,
  "nbformat_minor": 5
}